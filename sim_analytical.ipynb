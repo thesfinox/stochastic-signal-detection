{
 "cells": [
  {
   "cell_type": "markdown",
   "metadata": {},
   "source": [
    "# Stochastic Signal Detection (SSD)\n",
    "\n",
    "In what follows, we simulate the behaviour of the RG of the stochastic field theory around the Marchenko–Pastur (MP) distribution."
   ]
  },
  {
   "cell_type": "code",
   "execution_count": null,
   "metadata": {},
   "outputs": [],
   "source": [
    "%load_ext autoreload\n",
    "%autoreload 2\n",
    "%matplotlib inline"
   ]
  },
  {
   "cell_type": "code",
   "execution_count": null,
   "metadata": {},
   "outputs": [],
   "source": [
    "from pathlib import Path\n",
    "\n",
    "import numpy as np\n",
    "from IPython.display import Video\n",
    "from matplotlib import pyplot as plt\n",
    "from pde import CartesianGrid, MemoryStorage, ScalarField\n",
    "from pde.visualization.movies import movie\n",
    "\n",
    "plt.style.use('ggplot')\n",
    "output_dir = Path('output')\n",
    "output_dir.mkdir(exist_ok=True)\n",
    "\n",
    "from ssd import SSD, TranslatedInverseMarchenkoPastur"
   ]
  },
  {
   "cell_type": "markdown",
   "metadata": {},
   "source": [
    "## Functional Renormalization Group\n",
    "\n",
    "We here simulate the behaviour of the functional RG."
   ]
  },
  {
   "cell_type": "code",
   "execution_count": null,
   "metadata": {
    "tags": [
     "parameters"
    ]
   },
   "outputs": [],
   "source": [
    "# Parameters of the distribution\n",
    "L = 0.8\n",
    "sigma = 1.0\n",
    "xlim_inf = 1.e-9\n",
    "xlim_sup = 1.0\n",
    "n_values = 1000\n",
    "periodic = True\n",
    "t_range = 300\n",
    "dt = 1\n",
    "k2 = 1.7\n",
    "noise = 0.0\n",
    "mu1 = 0.0\n",
    "mu2 = 1.0\n",
    "mu3 = 0.0\n",
    "mu4 = 0.0\n",
    "viz_time = [0, t_range // 12, t_range // 6]"
   ]
  },
  {
   "cell_type": "code",
   "execution_count": null,
   "metadata": {},
   "outputs": [],
   "source": [
    "# Create the name of the output files\n",
    "output_file = f'ssd_analytical_L={L:.2f}_k2={k2:.2f}_mu1={mu1:.2f}_mu2={mu2:.2f}_mu3={mu3:.2f}_mu4={mu4:.2f}'"
   ]
  },
  {
   "cell_type": "code",
   "execution_count": null,
   "metadata": {},
   "outputs": [],
   "source": [
    "# Define the distribution\n",
    "dist = TranslatedInverseMarchenkoPastur(L=L, sigma=sigma)\n",
    "\n",
    "# Define the grid\n",
    "grid = CartesianGrid(\n",
    "    [[xlim_inf, xlim_sup]],\n",
    "    [n_values],\n",
    "    periodic=periodic,\n",
    ")\n",
    "expression = f'{mu1} + {mu2} * x + {mu3} * x**2 + {mu4} * x**3'\n",
    "state = ScalarField.from_expression(grid, expression)\n",
    "bc = 'periodic' if periodic else 'auto_periodic_neumann'\n",
    "\n",
    "# Initialize a storage\n",
    "storage = MemoryStorage()\n",
    "trackers = [\n",
    "    'progress',\n",
    "    'steady_state',\n",
    "    storage.tracker(interval=1),\n",
    "]\n",
    "\n",
    "# Define the PDE and solve\n",
    "eq = SSD(dist=dist, k2=k2, noise=noise, bc=bc)\n",
    "result = eq.solve(state, t_range=t_range, dt=dt, tracker=trackers)\n",
    "\n",
    "movie(\n",
    "    storage,\n",
    "    output_dir / f'movie_{output_file}.mp4',\n",
    "    show_time=True,\n",
    "    movie_args={'framerate': 10},\n",
    "    plot_args={\n",
    "        'title': 'Stochastic Signal Detection',\n",
    "        'ax_style': {\n",
    "            'xlabel': r'$\\chi$',\n",
    "            'ylabel': r'$\\overline{\\mathcal{U}}^{~\\prime}$',\n",
    "        },\n",
    "        'fig_style': {\n",
    "            'dpi': 150,\n",
    "        },\n",
    "    },\n",
    ")\n",
    "\n",
    "# Remove the figure from buffer\n",
    "fig = plt.gcf()\n",
    "plt.close(fig)"
   ]
  },
  {
   "cell_type": "markdown",
   "metadata": {},
   "source": [
    "### Visualisation\n",
    "\n",
    "We finally visualise the results, as functions of the stochastic time."
   ]
  },
  {
   "cell_type": "code",
   "execution_count": null,
   "metadata": {},
   "outputs": [],
   "source": [
    "# Visualize the simulation at fixed time steps\n",
    "x = storage[0].grid.axes_coords[0]\n",
    "y = [storage[t].data for t in viz_time]\n",
    "My = [int(np.log10(y_i.max() + 1)) for y_i in y]\n",
    "\n",
    "y = [y_i / y_i.max() for y_i in y]\n",
    "\n",
    "fig, ax = plt.subplots(figsize=(8, 6))\n",
    "C = ['r-', 'b-', 'g-']\n",
    "for i, y_i in enumerate(y):\n",
    "    ax.plot(x,\n",
    "            y_i,\n",
    "            C[i],\n",
    "            label=rf'$\\tau$ = {viz_time[i]} ($\\times 10^{{{My[i]:d}}}$)')\n",
    "ax.legend(loc='upper left', bbox_to_anchor=(0.05, 0.95))\n",
    "ax.set_xlabel(r'$\\overline{\\chi}$')\n",
    "ax.set_ylabel(r'$\\overline{\\mathcal{U}}^{~\\prime}$')\n",
    "\n",
    "# Create an inset axis to zoom around some values\n",
    "ax_inset_1 = ax.inset_axes([0.08, 0.15, 0.3, 0.3])\n",
    "ax_inset_1.plot(x,\n",
    "                y[1],\n",
    "                C[1],\n",
    "                label=rf'$\\tau$ = {viz_time[1]} ($\\times 10^{{{My[1]:d}}}$)')\n",
    "ax_inset_1.set_xlim([0.45, 0.60])\n",
    "ax_inset_1.set_ylim([-3e-17, 3e-17])\n",
    "ax_inset_1.ticklabel_format(axis='y',\n",
    "                            style='sci',\n",
    "                            scilimits=(0, 0),\n",
    "                            useMathText=True)\n",
    "ax_inset_1.set_xticks([0.45, 0.50, 0.55, 0.60])\n",
    "ax_inset_1.set_yticks([-2e-17, 0, 2e-17])\n",
    "ax.indicate_inset_zoom(ax_inset_1)\n",
    "\n",
    "ax_inset_2 = ax.inset_axes([0.57, 0.07, 0.3, 0.3])\n",
    "ax_inset_2.plot(x,\n",
    "                y[2],\n",
    "                C[2],\n",
    "                label=rf'$\\tau$ = {viz_time[2]} ($\\times 10^{{{My[2]:d}}}$)')\n",
    "ax_inset_2.set_xlim([0.70, 0.85])\n",
    "ax_inset_2.set_ylim([-3e-17, 3e-17])\n",
    "ax_inset_2.ticklabel_format(axis='y',\n",
    "                            style='sci',\n",
    "                            scilimits=(0, 0),\n",
    "                            useMathText=True)\n",
    "ax_inset_2.set_xticks([0.70, 0.75, 0.80, 0.85])\n",
    "ax_inset_2.set_yticks([-2e-17, 0, 2e-17])\n",
    "ax.indicate_inset_zoom(ax_inset_2)\n",
    "\n",
    "fig.tight_layout()\n",
    "fig.savefig(output_dir / f'full_values_{output_file}.pdf', dpi=300)\n",
    "plt.show()\n",
    "plt.close(fig)"
   ]
  },
  {
   "cell_type": "code",
   "execution_count": null,
   "metadata": {},
   "outputs": [],
   "source": [
    "# Display the evolution of the field in 0\n",
    "chi = 0.5\n",
    "t = []\n",
    "y = []\n",
    "\n",
    "fig, ax = plt.subplots(figsize=(8, 6))\n",
    "for time, field in storage.items():\n",
    "\n",
    "    x = field.grid.axes_coords[0]\n",
    "    idx = (x >= chi).argmax()\n",
    "    t.append(time)\n",
    "    y.append(field.data[idx])\n",
    "\n",
    "ax.plot(t, y, 'r-')\n",
    "ax.set_xlabel(r'$\\tau$')\n",
    "ax.set_ylabel(rf'$\\overline{{\\mathcal{{U}}}}^{{~\\prime}}[{{\\chi_0}}]$')\n",
    "\n",
    "fig.tight_layout()\n",
    "fig.savefig(output_dir / f'evolution_{output_file}.pdf', dpi=300)\n",
    "plt.show()\n",
    "plt.close(fig)"
   ]
  },
  {
   "cell_type": "code",
   "execution_count": null,
   "metadata": {},
   "outputs": [],
   "source": [
    "# Visualize the simulation results\n",
    "Video(output_dir / f'movie_{output_file}.mp4')"
   ]
  }
 ],
 "metadata": {
  "kernelspec": {
   "display_name": "Python 3 (ipykernel)",
   "language": "python",
   "name": "python3"
  },
  "language_info": {
   "codemirror_mode": {
    "name": "ipython",
    "version": 3
   },
   "file_extension": ".py",
   "mimetype": "text/x-python",
   "name": "python",
   "nbconvert_exporter": "python",
   "pygments_lexer": "ipython3",
   "version": "3.10.12"
  }
 },
 "nbformat": 4,
 "nbformat_minor": 2
}
