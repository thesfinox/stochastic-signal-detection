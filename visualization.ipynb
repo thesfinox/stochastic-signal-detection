{
 "cells": [
  {
   "cell_type": "markdown",
   "metadata": {},
   "source": [
    "# Stochastic Signal Detection"
   ]
  },
  {
   "cell_type": "code",
   "execution_count": 1,
   "metadata": {},
   "outputs": [],
   "source": [
    "%load_ext autoreload\n",
    "%autoreload 2\n"
   ]
  },
  {
   "cell_type": "code",
   "execution_count": 2,
   "metadata": {},
   "outputs": [
    {
     "data": {
      "text/html": [
       "        <script type=\"text/javascript\">\n",
       "        window.PlotlyConfig = {MathJaxConfig: 'local'};\n",
       "        if (window.MathJax && window.MathJax.Hub && window.MathJax.Hub.Config) {window.MathJax.Hub.Config({SVG: {font: \"STIX-Web\"}});}\n",
       "        if (typeof require !== 'undefined') {\n",
       "        require.undef(\"plotly\");\n",
       "        requirejs.config({\n",
       "            paths: {\n",
       "                'plotly': ['https://cdn.plot.ly/plotly-2.24.1.min']\n",
       "            }\n",
       "        });\n",
       "        require(['plotly'], function(Plotly) {\n",
       "            window._Plotly = Plotly;\n",
       "        });\n",
       "        }\n",
       "        </script>\n",
       "        "
      ]
     },
     "metadata": {},
     "output_type": "display_data"
    }
   ],
   "source": [
    "from pathlib import Path\n",
    "\n",
    "import numpy as np\n",
    "import pandas as pd\n",
    "import plotly as py\n",
    "from plotly import express as px\n",
    "from sqlalchemy import create_engine\n",
    "\n",
    "py.offline.init_notebook_mode(connected=True)\n"
   ]
  },
  {
   "cell_type": "markdown",
   "metadata": {},
   "source": [
    "## Visualization\n",
    "\n",
    "We use SQLite and `pandas` to load the simulation results."
   ]
  },
  {
   "cell_type": "code",
   "execution_count": 3,
   "metadata": {},
   "outputs": [],
   "source": [
    "db = 'simulation.sqlite'\n",
    "table = 'stochastic_signal_detection'\n",
    "output = Path('visualization')\n",
    "output.mkdir(exist_ok=True, parents=True)\n",
    "sql = create_engine(f'sqlite:///{db}')\n",
    "df = pd.read_sql_table(table, sql, index_col='id')\n"
   ]
  },
  {
   "cell_type": "markdown",
   "metadata": {},
   "source": [
    "The table groups various variables of the simulation:"
   ]
  },
  {
   "cell_type": "code",
   "execution_count": 4,
   "metadata": {},
   "outputs": [
    {
     "data": {
      "text/html": [
       "<div>\n",
       "<style scoped>\n",
       "    .dataframe tbody tr th:only-of-type {\n",
       "        vertical-align: middle;\n",
       "    }\n",
       "\n",
       "    .dataframe tbody tr th {\n",
       "        vertical-align: top;\n",
       "    }\n",
       "\n",
       "    .dataframe thead th {\n",
       "        text-align: right;\n",
       "    }\n",
       "</style>\n",
       "<table border=\"1\" class=\"dataframe\">\n",
       "  <thead>\n",
       "    <tr style=\"text-align: right;\">\n",
       "      <th></th>\n",
       "      <th>timestamp</th>\n",
       "      <th>seed</th>\n",
       "      <th>rows</th>\n",
       "      <th>ratio</th>\n",
       "      <th>rank</th>\n",
       "      <th>beta</th>\n",
       "      <th>mass_scale</th>\n",
       "      <th>mass_scale_bottom</th>\n",
       "      <th>mass_scale_top</th>\n",
       "      <th>mu_0</th>\n",
       "      <th>...</th>\n",
       "      <th>T</th>\n",
       "      <th>nmax_chi_0</th>\n",
       "      <th>max_chi_0</th>\n",
       "      <th>argmax_chi_0</th>\n",
       "      <th>nmax_chi_1</th>\n",
       "      <th>max_chi_1</th>\n",
       "      <th>argmax_chi_1</th>\n",
       "      <th>min_frac</th>\n",
       "      <th>nmin_frac</th>\n",
       "      <th>argmin_frac</th>\n",
       "    </tr>\n",
       "  </thead>\n",
       "  <tbody>\n",
       "    <tr>\n",
       "      <th>count</th>\n",
       "      <td>3878</td>\n",
       "      <td>3878.000000</td>\n",
       "      <td>3878.0</td>\n",
       "      <td>3.878000e+03</td>\n",
       "      <td>3878.0</td>\n",
       "      <td>3878.000000</td>\n",
       "      <td>3878.000000</td>\n",
       "      <td>3878.000000</td>\n",
       "      <td>3878.000000</td>\n",
       "      <td>3878.000000</td>\n",
       "      <td>...</td>\n",
       "      <td>3878.000000</td>\n",
       "      <td>3878.000000</td>\n",
       "      <td>3.878000e+03</td>\n",
       "      <td>3878.000000</td>\n",
       "      <td>3878.000000</td>\n",
       "      <td>3.878000e+03</td>\n",
       "      <td>3878.000000</td>\n",
       "      <td>3878.000000</td>\n",
       "      <td>3878.000000</td>\n",
       "      <td>3878.000000</td>\n",
       "    </tr>\n",
       "    <tr>\n",
       "      <th>mean</th>\n",
       "      <td>2023-09-16 09:34:56.963898880</td>\n",
       "      <td>12412.527849</td>\n",
       "      <td>10000.0</td>\n",
       "      <td>8.000000e-01</td>\n",
       "      <td>2500.0</td>\n",
       "      <td>0.322157</td>\n",
       "      <td>0.070005</td>\n",
       "      <td>0.047500</td>\n",
       "      <td>0.100091</td>\n",
       "      <td>0.271132</td>\n",
       "      <td>...</td>\n",
       "      <td>0.771132</td>\n",
       "      <td>745.516503</td>\n",
       "      <td>-1.969150e+10</td>\n",
       "      <td>0.284442</td>\n",
       "      <td>997.798865</td>\n",
       "      <td>2.180912e+298</td>\n",
       "      <td>0.309247</td>\n",
       "      <td>-21.531230</td>\n",
       "      <td>77.665807</td>\n",
       "      <td>0.195816</td>\n",
       "    </tr>\n",
       "    <tr>\n",
       "      <th>min</th>\n",
       "      <td>2023-09-15 22:12:43</td>\n",
       "      <td>1151.000000</td>\n",
       "      <td>10000.0</td>\n",
       "      <td>8.000000e-01</td>\n",
       "      <td>2500.0</td>\n",
       "      <td>0.000000</td>\n",
       "      <td>0.000000</td>\n",
       "      <td>0.000000</td>\n",
       "      <td>0.028786</td>\n",
       "      <td>-0.500000</td>\n",
       "      <td>...</td>\n",
       "      <td>0.000000</td>\n",
       "      <td>5.000000</td>\n",
       "      <td>-5.156030e+13</td>\n",
       "      <td>0.089418</td>\n",
       "      <td>936.000000</td>\n",
       "      <td>-9.491134e+300</td>\n",
       "      <td>0.169833</td>\n",
       "      <td>-9385.102827</td>\n",
       "      <td>0.000000</td>\n",
       "      <td>0.000000</td>\n",
       "    </tr>\n",
       "    <tr>\n",
       "      <th>25%</th>\n",
       "      <td>2023-09-16 03:40:39.249999872</td>\n",
       "      <td>5039.000000</td>\n",
       "      <td>10000.0</td>\n",
       "      <td>8.000000e-01</td>\n",
       "      <td>2500.0</td>\n",
       "      <td>0.210000</td>\n",
       "      <td>0.033882</td>\n",
       "      <td>0.009178</td>\n",
       "      <td>0.064029</td>\n",
       "      <td>-0.150000</td>\n",
       "      <td>...</td>\n",
       "      <td>0.350000</td>\n",
       "      <td>486.250000</td>\n",
       "      <td>-3.340468e+01</td>\n",
       "      <td>0.231282</td>\n",
       "      <td>997.000000</td>\n",
       "      <td>-4.159299e+37</td>\n",
       "      <td>0.252937</td>\n",
       "      <td>-3.986698</td>\n",
       "      <td>2.000000</td>\n",
       "      <td>0.096636</td>\n",
       "    </tr>\n",
       "    <tr>\n",
       "      <th>50%</th>\n",
       "      <td>2023-09-16 09:12:24</td>\n",
       "      <td>9706.000000</td>\n",
       "      <td>10000.0</td>\n",
       "      <td>8.000000e-01</td>\n",
       "      <td>2500.0</td>\n",
       "      <td>0.315000</td>\n",
       "      <td>0.067024</td>\n",
       "      <td>0.042356</td>\n",
       "      <td>0.097057</td>\n",
       "      <td>0.250000</td>\n",
       "      <td>...</td>\n",
       "      <td>0.750000</td>\n",
       "      <td>1000.000000</td>\n",
       "      <td>-2.363043e+00</td>\n",
       "      <td>0.278781</td>\n",
       "      <td>999.000000</td>\n",
       "      <td>4.608034e+00</td>\n",
       "      <td>0.311540</td>\n",
       "      <td>-0.464180</td>\n",
       "      <td>7.000000</td>\n",
       "      <td>0.229139</td>\n",
       "    </tr>\n",
       "    <tr>\n",
       "      <th>75%</th>\n",
       "      <td>2023-09-16 15:41:20</td>\n",
       "      <td>22766.000000</td>\n",
       "      <td>10000.0</td>\n",
       "      <td>8.000000e-01</td>\n",
       "      <td>2500.0</td>\n",
       "      <td>0.420000</td>\n",
       "      <td>0.100749</td>\n",
       "      <td>0.075829</td>\n",
       "      <td>0.130773</td>\n",
       "      <td>0.650000</td>\n",
       "      <td>...</td>\n",
       "      <td>1.150000</td>\n",
       "      <td>1001.000000</td>\n",
       "      <td>4.885464e+00</td>\n",
       "      <td>0.343617</td>\n",
       "      <td>1000.000000</td>\n",
       "      <td>2.212063e+29</td>\n",
       "      <td>0.361712</td>\n",
       "      <td>0.350589</td>\n",
       "      <td>27.000000</td>\n",
       "      <td>0.293042</td>\n",
       "    </tr>\n",
       "    <tr>\n",
       "      <th>max</th>\n",
       "      <td>2023-09-16 21:31:15</td>\n",
       "      <td>26843.000000</td>\n",
       "      <td>10000.0</td>\n",
       "      <td>8.000000e-01</td>\n",
       "      <td>2500.0</td>\n",
       "      <td>0.525000</td>\n",
       "      <td>0.130356</td>\n",
       "      <td>0.105496</td>\n",
       "      <td>0.160445</td>\n",
       "      <td>1.050000</td>\n",
       "      <td>...</td>\n",
       "      <td>1.550000</td>\n",
       "      <td>1001.000000</td>\n",
       "      <td>1.729176e+08</td>\n",
       "      <td>0.400632</td>\n",
       "      <td>1001.000000</td>\n",
       "      <td>3.169008e+301</td>\n",
       "      <td>0.400632</td>\n",
       "      <td>0.997094</td>\n",
       "      <td>1001.000000</td>\n",
       "      <td>0.400632</td>\n",
       "    </tr>\n",
       "    <tr>\n",
       "      <th>std</th>\n",
       "      <td>NaN</td>\n",
       "      <td>9176.865770</td>\n",
       "      <td>0.0</td>\n",
       "      <td>1.110366e-16</td>\n",
       "      <td>0.0</td>\n",
       "      <td>0.136839</td>\n",
       "      <td>0.039168</td>\n",
       "      <td>0.035848</td>\n",
       "      <td>0.039247</td>\n",
       "      <td>0.465570</td>\n",
       "      <td>...</td>\n",
       "      <td>0.465570</td>\n",
       "      <td>387.109295</td>\n",
       "      <td>8.629248e+11</td>\n",
       "      <td>0.069258</td>\n",
       "      <td>4.173906</td>\n",
       "      <td>inf</td>\n",
       "      <td>0.065806</td>\n",
       "      <td>240.589103</td>\n",
       "      <td>223.445778</td>\n",
       "      <td>0.114679</td>\n",
       "    </tr>\n",
       "  </tbody>\n",
       "</table>\n",
       "<p>8 rows × 23 columns</p>\n",
       "</div>"
      ],
      "text/plain": [
       "                           timestamp          seed     rows         ratio  \\\n",
       "count                           3878   3878.000000   3878.0  3.878000e+03   \n",
       "mean   2023-09-16 09:34:56.963898880  12412.527849  10000.0  8.000000e-01   \n",
       "min              2023-09-15 22:12:43   1151.000000  10000.0  8.000000e-01   \n",
       "25%    2023-09-16 03:40:39.249999872   5039.000000  10000.0  8.000000e-01   \n",
       "50%              2023-09-16 09:12:24   9706.000000  10000.0  8.000000e-01   \n",
       "75%              2023-09-16 15:41:20  22766.000000  10000.0  8.000000e-01   \n",
       "max              2023-09-16 21:31:15  26843.000000  10000.0  8.000000e-01   \n",
       "std                              NaN   9176.865770      0.0  1.110366e-16   \n",
       "\n",
       "         rank         beta   mass_scale  mass_scale_bottom  mass_scale_top  \\\n",
       "count  3878.0  3878.000000  3878.000000        3878.000000     3878.000000   \n",
       "mean   2500.0     0.322157     0.070005           0.047500        0.100091   \n",
       "min    2500.0     0.000000     0.000000           0.000000        0.028786   \n",
       "25%    2500.0     0.210000     0.033882           0.009178        0.064029   \n",
       "50%    2500.0     0.315000     0.067024           0.042356        0.097057   \n",
       "75%    2500.0     0.420000     0.100749           0.075829        0.130773   \n",
       "max    2500.0     0.525000     0.130356           0.105496        0.160445   \n",
       "std       0.0     0.136839     0.039168           0.035848        0.039247   \n",
       "\n",
       "              mu_0  ...            T   nmax_chi_0     max_chi_0  argmax_chi_0  \\\n",
       "count  3878.000000  ...  3878.000000  3878.000000  3.878000e+03   3878.000000   \n",
       "mean      0.271132  ...     0.771132   745.516503 -1.969150e+10      0.284442   \n",
       "min      -0.500000  ...     0.000000     5.000000 -5.156030e+13      0.089418   \n",
       "25%      -0.150000  ...     0.350000   486.250000 -3.340468e+01      0.231282   \n",
       "50%       0.250000  ...     0.750000  1000.000000 -2.363043e+00      0.278781   \n",
       "75%       0.650000  ...     1.150000  1001.000000  4.885464e+00      0.343617   \n",
       "max       1.050000  ...     1.550000  1001.000000  1.729176e+08      0.400632   \n",
       "std       0.465570  ...     0.465570   387.109295  8.629248e+11      0.069258   \n",
       "\n",
       "        nmax_chi_1      max_chi_1  argmax_chi_1     min_frac    nmin_frac  \\\n",
       "count  3878.000000   3.878000e+03   3878.000000  3878.000000  3878.000000   \n",
       "mean    997.798865  2.180912e+298      0.309247   -21.531230    77.665807   \n",
       "min     936.000000 -9.491134e+300      0.169833 -9385.102827     0.000000   \n",
       "25%     997.000000  -4.159299e+37      0.252937    -3.986698     2.000000   \n",
       "50%     999.000000   4.608034e+00      0.311540    -0.464180     7.000000   \n",
       "75%    1000.000000   2.212063e+29      0.361712     0.350589    27.000000   \n",
       "max    1001.000000  3.169008e+301      0.400632     0.997094  1001.000000   \n",
       "std       4.173906            inf      0.065806   240.589103   223.445778   \n",
       "\n",
       "       argmin_frac  \n",
       "count  3878.000000  \n",
       "mean      0.195816  \n",
       "min       0.000000  \n",
       "25%       0.096636  \n",
       "50%       0.229139  \n",
       "75%       0.293042  \n",
       "max       0.400632  \n",
       "std       0.114679  \n",
       "\n",
       "[8 rows x 23 columns]"
      ]
     },
     "execution_count": 4,
     "metadata": {},
     "output_type": "execute_result"
    }
   ],
   "source": [
    "df.describe()\n"
   ]
  },
  {
   "cell_type": "markdown",
   "metadata": {},
   "source": [
    "In particular, the final columns represent the \"measure of criticality\" of the simulation:\n",
    "\n",
    "- `nmax_chi_0` is the position of the maximum of the derivative of the potential in the list of values of $k$ used for the simulation for $\\chi = 0$, i.e.: $n = \\mathrm{pos}\\max\\left|\\mathcal{U}'[0]\\right|$, where $n \\in [0, 500]$;\n",
    "- `argmax_chi_0` is the position at the maximum of the derivative for $\\chi = 0$, i.e.: $\\overline{k} = \\arg\\max\\left|\\mathcal{U}'[0]\\right|$;\n",
    "- `max_chi_0` is the value at the maximum of the derivative for $\\chi = 0$, i.e.: $\\mathcal{U}'[0](\\overline{k})$;\n",
    "- `nmax_chi_1` is the position of the maximum of the derivative of the potential in the list of values of $k$ used for the simulation for $\\chi = 1$, i.e.: $n = \\mathrm{pos}\\max\\left|\\mathcal{U}'[1]\\right|$, where $n \\in [0, 500]$;\n",
    "- `argmax_chi_1` is the position at the maximum of the derivative for $\\chi = 1$, i.e.: $\\overline{k} = \\arg\\max\\left|\\mathcal{U}'[1]\\right|$;\n",
    "- `max_chi_1` is the value at the maximum of the derivative for $\\chi = 1$, i.e.: $\\mathcal{U}'[1](\\overline{k})$."
   ]
  },
  {
   "cell_type": "markdown",
   "metadata": {},
   "source": [
    "We first add the _symmetric_ logarithm of the quantities measured in the simulation:"
   ]
  },
  {
   "cell_type": "code",
   "execution_count": 5,
   "metadata": {},
   "outputs": [],
   "source": [
    "df['log_max_chi_0'] = df['max_chi_0'].apply(lambda x: np.log(x)\n",
    "                                            if x > 0 else -np.log(-x))\n",
    "df['abs_log_max_chi_0'] = df['max_chi_0'].apply(lambda x: np.log(np.abs(x)))\n",
    "df['abs_max_chi_0'] = df['max_chi_0'].apply(lambda x: np.abs(x))\n",
    "df['log_max_chi_1'] = df['max_chi_1'].apply(lambda x: np.log(x)\n",
    "                                            if x > 0 else -np.log(-x))\n",
    "df['abs_log_max_chi_1'] = df['max_chi_1'].apply(lambda x: np.log(np.abs(x)))\n",
    "df['abs_max_chi_1'] = df['max_chi_1'].apply(lambda x: np.abs(x))\n"
   ]
  },
  {
   "cell_type": "markdown",
   "metadata": {},
   "source": [
    "## Scan in the parameters\n",
    "\n",
    "First of all, we group by seed the various simulations:"
   ]
  },
  {
   "cell_type": "code",
   "execution_count": 6,
   "metadata": {},
   "outputs": [
    {
     "data": {
      "text/html": [
       "<div>\n",
       "<style scoped>\n",
       "    .dataframe tbody tr th:only-of-type {\n",
       "        vertical-align: middle;\n",
       "    }\n",
       "\n",
       "    .dataframe tbody tr th {\n",
       "        vertical-align: top;\n",
       "    }\n",
       "\n",
       "    .dataframe thead th {\n",
       "        text-align: right;\n",
       "    }\n",
       "</style>\n",
       "<table border=\"1\" class=\"dataframe\">\n",
       "  <thead>\n",
       "    <tr style=\"text-align: right;\">\n",
       "      <th></th>\n",
       "      <th>T</th>\n",
       "      <th>beta</th>\n",
       "      <th>rows</th>\n",
       "      <th>ratio</th>\n",
       "      <th>rank</th>\n",
       "      <th>mass_scale</th>\n",
       "      <th>mass_scale_bottom</th>\n",
       "      <th>mass_scale_top</th>\n",
       "      <th>mu_0</th>\n",
       "      <th>mu_1</th>\n",
       "      <th>...</th>\n",
       "      <th>argmax_chi_1</th>\n",
       "      <th>min_frac</th>\n",
       "      <th>nmin_frac</th>\n",
       "      <th>argmin_frac</th>\n",
       "      <th>log_max_chi_0</th>\n",
       "      <th>abs_log_max_chi_0</th>\n",
       "      <th>abs_max_chi_0</th>\n",
       "      <th>log_max_chi_1</th>\n",
       "      <th>abs_log_max_chi_1</th>\n",
       "      <th>abs_max_chi_1</th>\n",
       "    </tr>\n",
       "  </thead>\n",
       "  <tbody>\n",
       "    <tr>\n",
       "      <th>count</th>\n",
       "      <td>512.000000</td>\n",
       "      <td>512.00000</td>\n",
       "      <td>512.0</td>\n",
       "      <td>5.120000e+02</td>\n",
       "      <td>512.0</td>\n",
       "      <td>512.000000</td>\n",
       "      <td>512.000000</td>\n",
       "      <td>512.000000</td>\n",
       "      <td>512.000000</td>\n",
       "      <td>512.000000</td>\n",
       "      <td>...</td>\n",
       "      <td>512.000000</td>\n",
       "      <td>512.000000</td>\n",
       "      <td>512.000000</td>\n",
       "      <td>512.000000</td>\n",
       "      <td>512.000000</td>\n",
       "      <td>512.000000</td>\n",
       "      <td>5.120000e+02</td>\n",
       "      <td>512.000000</td>\n",
       "      <td>512.000000</td>\n",
       "      <td>5.120000e+02</td>\n",
       "    </tr>\n",
       "    <tr>\n",
       "      <th>mean</th>\n",
       "      <td>0.775000</td>\n",
       "      <td>0.26250</td>\n",
       "      <td>10000.0</td>\n",
       "      <td>8.000000e-01</td>\n",
       "      <td>2500.0</td>\n",
       "      <td>0.054781</td>\n",
       "      <td>0.035978</td>\n",
       "      <td>0.084773</td>\n",
       "      <td>0.275000</td>\n",
       "      <td>0.775000</td>\n",
       "      <td>...</td>\n",
       "      <td>0.280642</td>\n",
       "      <td>-17.059477</td>\n",
       "      <td>60.359821</td>\n",
       "      <td>0.148637</td>\n",
       "      <td>-2.848211</td>\n",
       "      <td>7.419866</td>\n",
       "      <td>2.670995e+10</td>\n",
       "      <td>-35.375479</td>\n",
       "      <td>275.562989</td>\n",
       "      <td>1.080750e+299</td>\n",
       "    </tr>\n",
       "    <tr>\n",
       "      <th>std</th>\n",
       "      <td>0.462106</td>\n",
       "      <td>0.16150</td>\n",
       "      <td>0.0</td>\n",
       "      <td>1.101498e-16</td>\n",
       "      <td>0.0</td>\n",
       "      <td>0.043604</td>\n",
       "      <td>0.037285</td>\n",
       "      <td>0.043772</td>\n",
       "      <td>0.462106</td>\n",
       "      <td>0.462106</td>\n",
       "      <td>...</td>\n",
       "      <td>0.076997</td>\n",
       "      <td>75.213867</td>\n",
       "      <td>157.707869</td>\n",
       "      <td>0.129699</td>\n",
       "      <td>8.542344</td>\n",
       "      <td>6.830277</td>\n",
       "      <td>3.845835e+11</td>\n",
       "      <td>254.321652</td>\n",
       "      <td>247.184536</td>\n",
       "      <td>inf</td>\n",
       "    </tr>\n",
       "    <tr>\n",
       "      <th>min</th>\n",
       "      <td>0.000000</td>\n",
       "      <td>0.00000</td>\n",
       "      <td>10000.0</td>\n",
       "      <td>8.000000e-01</td>\n",
       "      <td>2500.0</td>\n",
       "      <td>0.000000</td>\n",
       "      <td>0.000000</td>\n",
       "      <td>0.029450</td>\n",
       "      <td>-0.500000</td>\n",
       "      <td>0.000000</td>\n",
       "      <td>...</td>\n",
       "      <td>0.171551</td>\n",
       "      <td>-1007.842207</td>\n",
       "      <td>0.000000</td>\n",
       "      <td>0.000000</td>\n",
       "      <td>-27.954499</td>\n",
       "      <td>-0.271453</td>\n",
       "      <td>7.622718e-01</td>\n",
       "      <td>-618.745761</td>\n",
       "      <td>-0.271453</td>\n",
       "      <td>7.622718e-01</td>\n",
       "    </tr>\n",
       "    <tr>\n",
       "      <th>25%</th>\n",
       "      <td>0.387500</td>\n",
       "      <td>0.13125</td>\n",
       "      <td>10000.0</td>\n",
       "      <td>8.000000e-01</td>\n",
       "      <td>2500.0</td>\n",
       "      <td>0.013339</td>\n",
       "      <td>0.000000</td>\n",
       "      <td>0.043449</td>\n",
       "      <td>-0.112500</td>\n",
       "      <td>0.387500</td>\n",
       "      <td>...</td>\n",
       "      <td>0.208346</td>\n",
       "      <td>-6.352948</td>\n",
       "      <td>2.000000</td>\n",
       "      <td>0.000643</td>\n",
       "      <td>-6.791655</td>\n",
       "      <td>1.484117</td>\n",
       "      <td>4.754280e+00</td>\n",
       "      <td>-34.389612</td>\n",
       "      <td>43.612264</td>\n",
       "      <td>3.144100e+23</td>\n",
       "    </tr>\n",
       "    <tr>\n",
       "      <th>50%</th>\n",
       "      <td>0.775000</td>\n",
       "      <td>0.26250</td>\n",
       "      <td>10000.0</td>\n",
       "      <td>8.000000e-01</td>\n",
       "      <td>2500.0</td>\n",
       "      <td>0.049068</td>\n",
       "      <td>0.024326</td>\n",
       "      <td>0.079196</td>\n",
       "      <td>0.275000</td>\n",
       "      <td>0.775000</td>\n",
       "      <td>...</td>\n",
       "      <td>0.281168</td>\n",
       "      <td>-0.970326</td>\n",
       "      <td>6.100000</td>\n",
       "      <td>0.163325</td>\n",
       "      <td>-0.602815</td>\n",
       "      <td>3.379587</td>\n",
       "      <td>5.487632e+01</td>\n",
       "      <td>-1.375442</td>\n",
       "      <td>151.630682</td>\n",
       "      <td>1.676266e+73</td>\n",
       "    </tr>\n",
       "    <tr>\n",
       "      <th>75%</th>\n",
       "      <td>1.162500</td>\n",
       "      <td>0.39375</td>\n",
       "      <td>10000.0</td>\n",
       "      <td>8.000000e-01</td>\n",
       "      <td>2500.0</td>\n",
       "      <td>0.091539</td>\n",
       "      <td>0.066814</td>\n",
       "      <td>0.121659</td>\n",
       "      <td>0.662500</td>\n",
       "      <td>1.162500</td>\n",
       "      <td>...</td>\n",
       "      <td>0.348599</td>\n",
       "      <td>0.276159</td>\n",
       "      <td>26.150000</td>\n",
       "      <td>0.274395</td>\n",
       "      <td>0.620637</td>\n",
       "      <td>14.591396</td>\n",
       "      <td>3.703421e+06</td>\n",
       "      <td>17.944803</td>\n",
       "      <td>548.233778</td>\n",
       "      <td>1.554094e+252</td>\n",
       "    </tr>\n",
       "    <tr>\n",
       "      <th>max</th>\n",
       "      <td>1.550000</td>\n",
       "      <td>0.52500</td>\n",
       "      <td>10000.0</td>\n",
       "      <td>8.000000e-01</td>\n",
       "      <td>2500.0</td>\n",
       "      <td>0.129509</td>\n",
       "      <td>0.104752</td>\n",
       "      <td>0.159687</td>\n",
       "      <td>1.050000</td>\n",
       "      <td>1.550000</td>\n",
       "      <td>...</td>\n",
       "      <td>0.399631</td>\n",
       "      <td>0.993352</td>\n",
       "      <td>1000.200000</td>\n",
       "      <td>0.384810</td>\n",
       "      <td>18.808467</td>\n",
       "      <td>27.954499</td>\n",
       "      <td>7.706747e+12</td>\n",
       "      <td>604.598859</td>\n",
       "      <td>664.377984</td>\n",
       "      <td>1.584504e+301</td>\n",
       "    </tr>\n",
       "  </tbody>\n",
       "</table>\n",
       "<p>8 rows × 27 columns</p>\n",
       "</div>"
      ],
      "text/plain": [
       "                T       beta     rows         ratio    rank  mass_scale  \\\n",
       "count  512.000000  512.00000    512.0  5.120000e+02   512.0  512.000000   \n",
       "mean     0.775000    0.26250  10000.0  8.000000e-01  2500.0    0.054781   \n",
       "std      0.462106    0.16150      0.0  1.101498e-16     0.0    0.043604   \n",
       "min      0.000000    0.00000  10000.0  8.000000e-01  2500.0    0.000000   \n",
       "25%      0.387500    0.13125  10000.0  8.000000e-01  2500.0    0.013339   \n",
       "50%      0.775000    0.26250  10000.0  8.000000e-01  2500.0    0.049068   \n",
       "75%      1.162500    0.39375  10000.0  8.000000e-01  2500.0    0.091539   \n",
       "max      1.550000    0.52500  10000.0  8.000000e-01  2500.0    0.129509   \n",
       "\n",
       "       mass_scale_bottom  mass_scale_top        mu_0        mu_1  ...  \\\n",
       "count         512.000000      512.000000  512.000000  512.000000  ...   \n",
       "mean            0.035978        0.084773    0.275000    0.775000  ...   \n",
       "std             0.037285        0.043772    0.462106    0.462106  ...   \n",
       "min             0.000000        0.029450   -0.500000    0.000000  ...   \n",
       "25%             0.000000        0.043449   -0.112500    0.387500  ...   \n",
       "50%             0.024326        0.079196    0.275000    0.775000  ...   \n",
       "75%             0.066814        0.121659    0.662500    1.162500  ...   \n",
       "max             0.104752        0.159687    1.050000    1.550000  ...   \n",
       "\n",
       "       argmax_chi_1     min_frac    nmin_frac  argmin_frac  log_max_chi_0  \\\n",
       "count    512.000000   512.000000   512.000000   512.000000     512.000000   \n",
       "mean       0.280642   -17.059477    60.359821     0.148637      -2.848211   \n",
       "std        0.076997    75.213867   157.707869     0.129699       8.542344   \n",
       "min        0.171551 -1007.842207     0.000000     0.000000     -27.954499   \n",
       "25%        0.208346    -6.352948     2.000000     0.000643      -6.791655   \n",
       "50%        0.281168    -0.970326     6.100000     0.163325      -0.602815   \n",
       "75%        0.348599     0.276159    26.150000     0.274395       0.620637   \n",
       "max        0.399631     0.993352  1000.200000     0.384810      18.808467   \n",
       "\n",
       "       abs_log_max_chi_0  abs_max_chi_0  log_max_chi_1  abs_log_max_chi_1  \\\n",
       "count         512.000000   5.120000e+02     512.000000         512.000000   \n",
       "mean            7.419866   2.670995e+10     -35.375479         275.562989   \n",
       "std             6.830277   3.845835e+11     254.321652         247.184536   \n",
       "min            -0.271453   7.622718e-01    -618.745761          -0.271453   \n",
       "25%             1.484117   4.754280e+00     -34.389612          43.612264   \n",
       "50%             3.379587   5.487632e+01      -1.375442         151.630682   \n",
       "75%            14.591396   3.703421e+06      17.944803         548.233778   \n",
       "max            27.954499   7.706747e+12     604.598859         664.377984   \n",
       "\n",
       "       abs_max_chi_1  \n",
       "count   5.120000e+02  \n",
       "mean   1.080750e+299  \n",
       "std              inf  \n",
       "min     7.622718e-01  \n",
       "25%     3.144100e+23  \n",
       "50%     1.676266e+73  \n",
       "75%    1.554094e+252  \n",
       "max    1.584504e+301  \n",
       "\n",
       "[8 rows x 27 columns]"
      ]
     },
     "execution_count": 6,
     "metadata": {},
     "output_type": "execute_result"
    }
   ],
   "source": [
    "df = df.groupby(['T', 'beta'\n",
    "                 ]).mean().reset_index().drop(columns=['timestamp', 'seed'])\n",
    "df.describe()\n"
   ]
  },
  {
   "cell_type": "markdown",
   "metadata": {},
   "source": [
    "We then list the independent temperature values explored in the dataset:"
   ]
  },
  {
   "cell_type": "code",
   "execution_count": 7,
   "metadata": {},
   "outputs": [],
   "source": [
    "Ts = list(df['T'].unique())\n"
   ]
  },
  {
   "cell_type": "markdown",
   "metadata": {},
   "source": [
    "We then explore the various parameters of the simulation:"
   ]
  },
  {
   "cell_type": "code",
   "execution_count": 8,
   "metadata": {},
   "outputs": [],
   "source": [
    "group = df.groupby('T')\n"
   ]
  },
  {
   "cell_type": "markdown",
   "metadata": {},
   "source": [
    "We are finally ready to visualize:"
   ]
  },
  {
   "cell_type": "code",
   "execution_count": 9,
   "metadata": {},
   "outputs": [
    {
     "data": {
      "application/vnd.plotly.v1+json": {
       "config": {
        "plotlyServerURL": "https://plot.ly"
       },
       "data": [
        {
         "hovertemplate": "$\\beta = $%{x}<br>$\\max \\mathcal{U}\\'[1] = $%{y}",
         "legendgroup": "",
         "marker": {
          "color": "red",
          "size": 10,
          "symbol": "0"
         },
         "mode": "markers",
         "name": "",
         "orientation": "v",
         "showlegend": false,
         "type": "scatter",
         "x": [
          0,
          0.035,
          0.07,
          0.105,
          0.14,
          0.175,
          0.21,
          0.245,
          0.28,
          0.315,
          0.35,
          0.385,
          0.42,
          0.455,
          0.49,
          0.525
         ],
         "xaxis": "x",
         "y": [
          98567.72655133321,
          71298.32665449058,
          94844.11112149022,
          97739.0806900354,
          138964.1454749351,
          157737.08005005904,
          3.877201578685719,
          1.969043004583615,
          1.4168999865861873,
          1.1629748131203583,
          1.0192199570610156,
          0.9279751979567399,
          0.8657486309183593,
          0.8214491925875466,
          0.7881913628954473,
          0.7622718295732106
         ],
         "yaxis": "y"
        }
       ],
       "layout": {
        "legend": {
         "tracegroupgap": 0
        },
        "template": {
         "data": {
          "bar": [
           {
            "error_x": {
             "color": "rgb(51,51,51)"
            },
            "error_y": {
             "color": "rgb(51,51,51)"
            },
            "marker": {
             "line": {
              "color": "rgb(237,237,237)",
              "width": 0.5
             },
             "pattern": {
              "fillmode": "overlay",
              "size": 10,
              "solidity": 0.2
             }
            },
            "type": "bar"
           }
          ],
          "barpolar": [
           {
            "marker": {
             "line": {
              "color": "rgb(237,237,237)",
              "width": 0.5
             },
             "pattern": {
              "fillmode": "overlay",
              "size": 10,
              "solidity": 0.2
             }
            },
            "type": "barpolar"
           }
          ],
          "carpet": [
           {
            "aaxis": {
             "endlinecolor": "rgb(51,51,51)",
             "gridcolor": "white",
             "linecolor": "white",
             "minorgridcolor": "white",
             "startlinecolor": "rgb(51,51,51)"
            },
            "baxis": {
             "endlinecolor": "rgb(51,51,51)",
             "gridcolor": "white",
             "linecolor": "white",
             "minorgridcolor": "white",
             "startlinecolor": "rgb(51,51,51)"
            },
            "type": "carpet"
           }
          ],
          "choropleth": [
           {
            "colorbar": {
             "outlinewidth": 0,
             "tickcolor": "rgb(237,237,237)",
             "ticklen": 6,
             "ticks": "inside"
            },
            "type": "choropleth"
           }
          ],
          "contour": [
           {
            "colorbar": {
             "outlinewidth": 0,
             "tickcolor": "rgb(237,237,237)",
             "ticklen": 6,
             "ticks": "inside"
            },
            "colorscale": [
             [
              0,
              "rgb(20,44,66)"
             ],
             [
              1,
              "rgb(90,179,244)"
             ]
            ],
            "type": "contour"
           }
          ],
          "contourcarpet": [
           {
            "colorbar": {
             "outlinewidth": 0,
             "tickcolor": "rgb(237,237,237)",
             "ticklen": 6,
             "ticks": "inside"
            },
            "type": "contourcarpet"
           }
          ],
          "heatmap": [
           {
            "colorbar": {
             "outlinewidth": 0,
             "tickcolor": "rgb(237,237,237)",
             "ticklen": 6,
             "ticks": "inside"
            },
            "colorscale": [
             [
              0,
              "rgb(20,44,66)"
             ],
             [
              1,
              "rgb(90,179,244)"
             ]
            ],
            "type": "heatmap"
           }
          ],
          "heatmapgl": [
           {
            "colorbar": {
             "outlinewidth": 0,
             "tickcolor": "rgb(237,237,237)",
             "ticklen": 6,
             "ticks": "inside"
            },
            "colorscale": [
             [
              0,
              "rgb(20,44,66)"
             ],
             [
              1,
              "rgb(90,179,244)"
             ]
            ],
            "type": "heatmapgl"
           }
          ],
          "histogram": [
           {
            "marker": {
             "pattern": {
              "fillmode": "overlay",
              "size": 10,
              "solidity": 0.2
             }
            },
            "type": "histogram"
           }
          ],
          "histogram2d": [
           {
            "colorbar": {
             "outlinewidth": 0,
             "tickcolor": "rgb(237,237,237)",
             "ticklen": 6,
             "ticks": "inside"
            },
            "colorscale": [
             [
              0,
              "rgb(20,44,66)"
             ],
             [
              1,
              "rgb(90,179,244)"
             ]
            ],
            "type": "histogram2d"
           }
          ],
          "histogram2dcontour": [
           {
            "colorbar": {
             "outlinewidth": 0,
             "tickcolor": "rgb(237,237,237)",
             "ticklen": 6,
             "ticks": "inside"
            },
            "colorscale": [
             [
              0,
              "rgb(20,44,66)"
             ],
             [
              1,
              "rgb(90,179,244)"
             ]
            ],
            "type": "histogram2dcontour"
           }
          ],
          "mesh3d": [
           {
            "colorbar": {
             "outlinewidth": 0,
             "tickcolor": "rgb(237,237,237)",
             "ticklen": 6,
             "ticks": "inside"
            },
            "type": "mesh3d"
           }
          ],
          "parcoords": [
           {
            "line": {
             "colorbar": {
              "outlinewidth": 0,
              "tickcolor": "rgb(237,237,237)",
              "ticklen": 6,
              "ticks": "inside"
             }
            },
            "type": "parcoords"
           }
          ],
          "pie": [
           {
            "automargin": true,
            "type": "pie"
           }
          ],
          "scatter": [
           {
            "fillpattern": {
             "fillmode": "overlay",
             "size": 10,
             "solidity": 0.2
            },
            "type": "scatter"
           }
          ],
          "scatter3d": [
           {
            "line": {
             "colorbar": {
              "outlinewidth": 0,
              "tickcolor": "rgb(237,237,237)",
              "ticklen": 6,
              "ticks": "inside"
             }
            },
            "marker": {
             "colorbar": {
              "outlinewidth": 0,
              "tickcolor": "rgb(237,237,237)",
              "ticklen": 6,
              "ticks": "inside"
             }
            },
            "type": "scatter3d"
           }
          ],
          "scattercarpet": [
           {
            "marker": {
             "colorbar": {
              "outlinewidth": 0,
              "tickcolor": "rgb(237,237,237)",
              "ticklen": 6,
              "ticks": "inside"
             }
            },
            "type": "scattercarpet"
           }
          ],
          "scattergeo": [
           {
            "marker": {
             "colorbar": {
              "outlinewidth": 0,
              "tickcolor": "rgb(237,237,237)",
              "ticklen": 6,
              "ticks": "inside"
             }
            },
            "type": "scattergeo"
           }
          ],
          "scattergl": [
           {
            "marker": {
             "colorbar": {
              "outlinewidth": 0,
              "tickcolor": "rgb(237,237,237)",
              "ticklen": 6,
              "ticks": "inside"
             }
            },
            "type": "scattergl"
           }
          ],
          "scattermapbox": [
           {
            "marker": {
             "colorbar": {
              "outlinewidth": 0,
              "tickcolor": "rgb(237,237,237)",
              "ticklen": 6,
              "ticks": "inside"
             }
            },
            "type": "scattermapbox"
           }
          ],
          "scatterpolar": [
           {
            "marker": {
             "colorbar": {
              "outlinewidth": 0,
              "tickcolor": "rgb(237,237,237)",
              "ticklen": 6,
              "ticks": "inside"
             }
            },
            "type": "scatterpolar"
           }
          ],
          "scatterpolargl": [
           {
            "marker": {
             "colorbar": {
              "outlinewidth": 0,
              "tickcolor": "rgb(237,237,237)",
              "ticklen": 6,
              "ticks": "inside"
             }
            },
            "type": "scatterpolargl"
           }
          ],
          "scatterternary": [
           {
            "marker": {
             "colorbar": {
              "outlinewidth": 0,
              "tickcolor": "rgb(237,237,237)",
              "ticklen": 6,
              "ticks": "inside"
             }
            },
            "type": "scatterternary"
           }
          ],
          "surface": [
           {
            "colorbar": {
             "outlinewidth": 0,
             "tickcolor": "rgb(237,237,237)",
             "ticklen": 6,
             "ticks": "inside"
            },
            "colorscale": [
             [
              0,
              "rgb(20,44,66)"
             ],
             [
              1,
              "rgb(90,179,244)"
             ]
            ],
            "type": "surface"
           }
          ],
          "table": [
           {
            "cells": {
             "fill": {
              "color": "rgb(237,237,237)"
             },
             "line": {
              "color": "white"
             }
            },
            "header": {
             "fill": {
              "color": "rgb(217,217,217)"
             },
             "line": {
              "color": "white"
             }
            },
            "type": "table"
           }
          ]
         },
         "layout": {
          "annotationdefaults": {
           "arrowhead": 0,
           "arrowwidth": 1
          },
          "autotypenumbers": "strict",
          "coloraxis": {
           "colorbar": {
            "outlinewidth": 0,
            "tickcolor": "rgb(237,237,237)",
            "ticklen": 6,
            "ticks": "inside"
           }
          },
          "colorscale": {
           "sequential": [
            [
             0,
             "rgb(20,44,66)"
            ],
            [
             1,
             "rgb(90,179,244)"
            ]
           ],
           "sequentialminus": [
            [
             0,
             "rgb(20,44,66)"
            ],
            [
             1,
             "rgb(90,179,244)"
            ]
           ]
          },
          "colorway": [
           "#F8766D",
           "#A3A500",
           "#00BF7D",
           "#00B0F6",
           "#E76BF3"
          ],
          "font": {
           "color": "rgb(51,51,51)"
          },
          "geo": {
           "bgcolor": "white",
           "lakecolor": "white",
           "landcolor": "rgb(237,237,237)",
           "showlakes": true,
           "showland": true,
           "subunitcolor": "white"
          },
          "hoverlabel": {
           "align": "left"
          },
          "hovermode": "closest",
          "paper_bgcolor": "white",
          "plot_bgcolor": "rgb(237,237,237)",
          "polar": {
           "angularaxis": {
            "gridcolor": "white",
            "linecolor": "white",
            "showgrid": true,
            "tickcolor": "rgb(51,51,51)",
            "ticks": "outside"
           },
           "bgcolor": "rgb(237,237,237)",
           "radialaxis": {
            "gridcolor": "white",
            "linecolor": "white",
            "showgrid": true,
            "tickcolor": "rgb(51,51,51)",
            "ticks": "outside"
           }
          },
          "scene": {
           "xaxis": {
            "backgroundcolor": "rgb(237,237,237)",
            "gridcolor": "white",
            "gridwidth": 2,
            "linecolor": "white",
            "showbackground": true,
            "showgrid": true,
            "tickcolor": "rgb(51,51,51)",
            "ticks": "outside",
            "zerolinecolor": "white"
           },
           "yaxis": {
            "backgroundcolor": "rgb(237,237,237)",
            "gridcolor": "white",
            "gridwidth": 2,
            "linecolor": "white",
            "showbackground": true,
            "showgrid": true,
            "tickcolor": "rgb(51,51,51)",
            "ticks": "outside",
            "zerolinecolor": "white"
           },
           "zaxis": {
            "backgroundcolor": "rgb(237,237,237)",
            "gridcolor": "white",
            "gridwidth": 2,
            "linecolor": "white",
            "showbackground": true,
            "showgrid": true,
            "tickcolor": "rgb(51,51,51)",
            "ticks": "outside",
            "zerolinecolor": "white"
           }
          },
          "shapedefaults": {
           "fillcolor": "black",
           "line": {
            "width": 0
           },
           "opacity": 0.3
          },
          "ternary": {
           "aaxis": {
            "gridcolor": "white",
            "linecolor": "white",
            "showgrid": true,
            "tickcolor": "rgb(51,51,51)",
            "ticks": "outside"
           },
           "baxis": {
            "gridcolor": "white",
            "linecolor": "white",
            "showgrid": true,
            "tickcolor": "rgb(51,51,51)",
            "ticks": "outside"
           },
           "bgcolor": "rgb(237,237,237)",
           "caxis": {
            "gridcolor": "white",
            "linecolor": "white",
            "showgrid": true,
            "tickcolor": "rgb(51,51,51)",
            "ticks": "outside"
           }
          },
          "xaxis": {
           "automargin": true,
           "gridcolor": "white",
           "linecolor": "white",
           "showgrid": true,
           "tickcolor": "rgb(51,51,51)",
           "ticks": "outside",
           "title": {
            "standoff": 15
           },
           "zerolinecolor": "white"
          },
          "yaxis": {
           "automargin": true,
           "gridcolor": "white",
           "linecolor": "white",
           "showgrid": true,
           "tickcolor": "rgb(51,51,51)",
           "ticks": "outside",
           "title": {
            "standoff": 15
           },
           "zerolinecolor": "white"
          }
         }
        },
        "title": {
         "text": "T = 0.0"
        },
        "xaxis": {
         "anchor": "y",
         "domain": [
          0,
          1
         ],
         "title": {
          "text": "$\\beta$"
         }
        },
        "yaxis": {
         "anchor": "x",
         "domain": [
          0,
          1
         ],
         "tickformat": ".0e",
         "title": {
          "text": "$|\\max \\mathcal{U}\\'[1]|$"
         },
         "type": "log"
        }
       }
      },
      "text/html": [
       "<div>                            <div id=\"d9022b4f-c388-4071-9410-c10299336cb0\" class=\"plotly-graph-div\" style=\"height:525px; width:100%;\"></div>            <script type=\"text/javascript\">                require([\"plotly\"], function(Plotly) {                    window.PLOTLYENV=window.PLOTLYENV || {};                                    if (document.getElementById(\"d9022b4f-c388-4071-9410-c10299336cb0\")) {                    Plotly.newPlot(                        \"d9022b4f-c388-4071-9410-c10299336cb0\",                        [{\"hovertemplate\":\"$\\\\beta = $%{x}\\u003cbr\\u003e$\\\\max \\\\mathcal{U}\\\\'[1] = $%{y}\",\"legendgroup\":\"\",\"marker\":{\"color\":\"red\",\"symbol\":\"0\",\"size\":10},\"mode\":\"markers\",\"name\":\"\",\"orientation\":\"v\",\"showlegend\":false,\"x\":[0.0,0.035,0.07,0.105,0.14,0.175,0.21,0.245,0.28,0.315,0.35,0.385,0.42,0.455,0.49,0.525],\"xaxis\":\"x\",\"y\":[98567.72655133321,71298.32665449058,94844.11112149022,97739.0806900354,138964.1454749351,157737.08005005904,3.877201578685719,1.969043004583615,1.4168999865861873,1.1629748131203583,1.0192199570610156,0.9279751979567399,0.8657486309183593,0.8214491925875466,0.7881913628954473,0.7622718295732106],\"yaxis\":\"y\",\"type\":\"scatter\"}],                        {\"template\":{\"data\":{\"barpolar\":[{\"marker\":{\"line\":{\"color\":\"rgb(237,237,237)\",\"width\":0.5},\"pattern\":{\"fillmode\":\"overlay\",\"size\":10,\"solidity\":0.2}},\"type\":\"barpolar\"}],\"bar\":[{\"error_x\":{\"color\":\"rgb(51,51,51)\"},\"error_y\":{\"color\":\"rgb(51,51,51)\"},\"marker\":{\"line\":{\"color\":\"rgb(237,237,237)\",\"width\":0.5},\"pattern\":{\"fillmode\":\"overlay\",\"size\":10,\"solidity\":0.2}},\"type\":\"bar\"}],\"carpet\":[{\"aaxis\":{\"endlinecolor\":\"rgb(51,51,51)\",\"gridcolor\":\"white\",\"linecolor\":\"white\",\"minorgridcolor\":\"white\",\"startlinecolor\":\"rgb(51,51,51)\"},\"baxis\":{\"endlinecolor\":\"rgb(51,51,51)\",\"gridcolor\":\"white\",\"linecolor\":\"white\",\"minorgridcolor\":\"white\",\"startlinecolor\":\"rgb(51,51,51)\"},\"type\":\"carpet\"}],\"choropleth\":[{\"colorbar\":{\"outlinewidth\":0,\"tickcolor\":\"rgb(237,237,237)\",\"ticklen\":6,\"ticks\":\"inside\"},\"type\":\"choropleth\"}],\"contourcarpet\":[{\"colorbar\":{\"outlinewidth\":0,\"tickcolor\":\"rgb(237,237,237)\",\"ticklen\":6,\"ticks\":\"inside\"},\"type\":\"contourcarpet\"}],\"contour\":[{\"colorbar\":{\"outlinewidth\":0,\"tickcolor\":\"rgb(237,237,237)\",\"ticklen\":6,\"ticks\":\"inside\"},\"colorscale\":[[0,\"rgb(20,44,66)\"],[1,\"rgb(90,179,244)\"]],\"type\":\"contour\"}],\"heatmapgl\":[{\"colorbar\":{\"outlinewidth\":0,\"tickcolor\":\"rgb(237,237,237)\",\"ticklen\":6,\"ticks\":\"inside\"},\"colorscale\":[[0,\"rgb(20,44,66)\"],[1,\"rgb(90,179,244)\"]],\"type\":\"heatmapgl\"}],\"heatmap\":[{\"colorbar\":{\"outlinewidth\":0,\"tickcolor\":\"rgb(237,237,237)\",\"ticklen\":6,\"ticks\":\"inside\"},\"colorscale\":[[0,\"rgb(20,44,66)\"],[1,\"rgb(90,179,244)\"]],\"type\":\"heatmap\"}],\"histogram2dcontour\":[{\"colorbar\":{\"outlinewidth\":0,\"tickcolor\":\"rgb(237,237,237)\",\"ticklen\":6,\"ticks\":\"inside\"},\"colorscale\":[[0,\"rgb(20,44,66)\"],[1,\"rgb(90,179,244)\"]],\"type\":\"histogram2dcontour\"}],\"histogram2d\":[{\"colorbar\":{\"outlinewidth\":0,\"tickcolor\":\"rgb(237,237,237)\",\"ticklen\":6,\"ticks\":\"inside\"},\"colorscale\":[[0,\"rgb(20,44,66)\"],[1,\"rgb(90,179,244)\"]],\"type\":\"histogram2d\"}],\"histogram\":[{\"marker\":{\"pattern\":{\"fillmode\":\"overlay\",\"size\":10,\"solidity\":0.2}},\"type\":\"histogram\"}],\"mesh3d\":[{\"colorbar\":{\"outlinewidth\":0,\"tickcolor\":\"rgb(237,237,237)\",\"ticklen\":6,\"ticks\":\"inside\"},\"type\":\"mesh3d\"}],\"parcoords\":[{\"line\":{\"colorbar\":{\"outlinewidth\":0,\"tickcolor\":\"rgb(237,237,237)\",\"ticklen\":6,\"ticks\":\"inside\"}},\"type\":\"parcoords\"}],\"pie\":[{\"automargin\":true,\"type\":\"pie\"}],\"scatter3d\":[{\"line\":{\"colorbar\":{\"outlinewidth\":0,\"tickcolor\":\"rgb(237,237,237)\",\"ticklen\":6,\"ticks\":\"inside\"}},\"marker\":{\"colorbar\":{\"outlinewidth\":0,\"tickcolor\":\"rgb(237,237,237)\",\"ticklen\":6,\"ticks\":\"inside\"}},\"type\":\"scatter3d\"}],\"scattercarpet\":[{\"marker\":{\"colorbar\":{\"outlinewidth\":0,\"tickcolor\":\"rgb(237,237,237)\",\"ticklen\":6,\"ticks\":\"inside\"}},\"type\":\"scattercarpet\"}],\"scattergeo\":[{\"marker\":{\"colorbar\":{\"outlinewidth\":0,\"tickcolor\":\"rgb(237,237,237)\",\"ticklen\":6,\"ticks\":\"inside\"}},\"type\":\"scattergeo\"}],\"scattergl\":[{\"marker\":{\"colorbar\":{\"outlinewidth\":0,\"tickcolor\":\"rgb(237,237,237)\",\"ticklen\":6,\"ticks\":\"inside\"}},\"type\":\"scattergl\"}],\"scattermapbox\":[{\"marker\":{\"colorbar\":{\"outlinewidth\":0,\"tickcolor\":\"rgb(237,237,237)\",\"ticklen\":6,\"ticks\":\"inside\"}},\"type\":\"scattermapbox\"}],\"scatterpolargl\":[{\"marker\":{\"colorbar\":{\"outlinewidth\":0,\"tickcolor\":\"rgb(237,237,237)\",\"ticklen\":6,\"ticks\":\"inside\"}},\"type\":\"scatterpolargl\"}],\"scatterpolar\":[{\"marker\":{\"colorbar\":{\"outlinewidth\":0,\"tickcolor\":\"rgb(237,237,237)\",\"ticklen\":6,\"ticks\":\"inside\"}},\"type\":\"scatterpolar\"}],\"scatter\":[{\"fillpattern\":{\"fillmode\":\"overlay\",\"size\":10,\"solidity\":0.2},\"type\":\"scatter\"}],\"scatterternary\":[{\"marker\":{\"colorbar\":{\"outlinewidth\":0,\"tickcolor\":\"rgb(237,237,237)\",\"ticklen\":6,\"ticks\":\"inside\"}},\"type\":\"scatterternary\"}],\"surface\":[{\"colorbar\":{\"outlinewidth\":0,\"tickcolor\":\"rgb(237,237,237)\",\"ticklen\":6,\"ticks\":\"inside\"},\"colorscale\":[[0,\"rgb(20,44,66)\"],[1,\"rgb(90,179,244)\"]],\"type\":\"surface\"}],\"table\":[{\"cells\":{\"fill\":{\"color\":\"rgb(237,237,237)\"},\"line\":{\"color\":\"white\"}},\"header\":{\"fill\":{\"color\":\"rgb(217,217,217)\"},\"line\":{\"color\":\"white\"}},\"type\":\"table\"}]},\"layout\":{\"annotationdefaults\":{\"arrowhead\":0,\"arrowwidth\":1},\"autotypenumbers\":\"strict\",\"coloraxis\":{\"colorbar\":{\"outlinewidth\":0,\"tickcolor\":\"rgb(237,237,237)\",\"ticklen\":6,\"ticks\":\"inside\"}},\"colorscale\":{\"sequential\":[[0,\"rgb(20,44,66)\"],[1,\"rgb(90,179,244)\"]],\"sequentialminus\":[[0,\"rgb(20,44,66)\"],[1,\"rgb(90,179,244)\"]]},\"colorway\":[\"#F8766D\",\"#A3A500\",\"#00BF7D\",\"#00B0F6\",\"#E76BF3\"],\"font\":{\"color\":\"rgb(51,51,51)\"},\"geo\":{\"bgcolor\":\"white\",\"lakecolor\":\"white\",\"landcolor\":\"rgb(237,237,237)\",\"showlakes\":true,\"showland\":true,\"subunitcolor\":\"white\"},\"hoverlabel\":{\"align\":\"left\"},\"hovermode\":\"closest\",\"paper_bgcolor\":\"white\",\"plot_bgcolor\":\"rgb(237,237,237)\",\"polar\":{\"angularaxis\":{\"gridcolor\":\"white\",\"linecolor\":\"white\",\"showgrid\":true,\"tickcolor\":\"rgb(51,51,51)\",\"ticks\":\"outside\"},\"bgcolor\":\"rgb(237,237,237)\",\"radialaxis\":{\"gridcolor\":\"white\",\"linecolor\":\"white\",\"showgrid\":true,\"tickcolor\":\"rgb(51,51,51)\",\"ticks\":\"outside\"}},\"scene\":{\"xaxis\":{\"backgroundcolor\":\"rgb(237,237,237)\",\"gridcolor\":\"white\",\"gridwidth\":2,\"linecolor\":\"white\",\"showbackground\":true,\"showgrid\":true,\"tickcolor\":\"rgb(51,51,51)\",\"ticks\":\"outside\",\"zerolinecolor\":\"white\"},\"yaxis\":{\"backgroundcolor\":\"rgb(237,237,237)\",\"gridcolor\":\"white\",\"gridwidth\":2,\"linecolor\":\"white\",\"showbackground\":true,\"showgrid\":true,\"tickcolor\":\"rgb(51,51,51)\",\"ticks\":\"outside\",\"zerolinecolor\":\"white\"},\"zaxis\":{\"backgroundcolor\":\"rgb(237,237,237)\",\"gridcolor\":\"white\",\"gridwidth\":2,\"linecolor\":\"white\",\"showbackground\":true,\"showgrid\":true,\"tickcolor\":\"rgb(51,51,51)\",\"ticks\":\"outside\",\"zerolinecolor\":\"white\"}},\"shapedefaults\":{\"fillcolor\":\"black\",\"line\":{\"width\":0},\"opacity\":0.3},\"ternary\":{\"aaxis\":{\"gridcolor\":\"white\",\"linecolor\":\"white\",\"showgrid\":true,\"tickcolor\":\"rgb(51,51,51)\",\"ticks\":\"outside\"},\"baxis\":{\"gridcolor\":\"white\",\"linecolor\":\"white\",\"showgrid\":true,\"tickcolor\":\"rgb(51,51,51)\",\"ticks\":\"outside\"},\"bgcolor\":\"rgb(237,237,237)\",\"caxis\":{\"gridcolor\":\"white\",\"linecolor\":\"white\",\"showgrid\":true,\"tickcolor\":\"rgb(51,51,51)\",\"ticks\":\"outside\"}},\"xaxis\":{\"automargin\":true,\"gridcolor\":\"white\",\"linecolor\":\"white\",\"showgrid\":true,\"tickcolor\":\"rgb(51,51,51)\",\"ticks\":\"outside\",\"title\":{\"standoff\":15},\"zerolinecolor\":\"white\"},\"yaxis\":{\"automargin\":true,\"gridcolor\":\"white\",\"linecolor\":\"white\",\"showgrid\":true,\"tickcolor\":\"rgb(51,51,51)\",\"ticks\":\"outside\",\"title\":{\"standoff\":15},\"zerolinecolor\":\"white\"}}},\"xaxis\":{\"anchor\":\"y\",\"domain\":[0.0,1.0],\"title\":{\"text\":\"$\\\\beta$\"}},\"yaxis\":{\"anchor\":\"x\",\"domain\":[0.0,1.0],\"title\":{\"text\":\"$|\\\\max \\\\mathcal{U}\\\\'[1]|$\"},\"type\":\"log\",\"tickformat\":\".0e\"},\"legend\":{\"tracegroupgap\":0},\"title\":{\"text\":\"T = 0.0\"}},                        {\"responsive\": true}                    ).then(function(){\n",
       "                            \n",
       "var gd = document.getElementById('d9022b4f-c388-4071-9410-c10299336cb0');\n",
       "var x = new MutationObserver(function (mutations, observer) {{\n",
       "        var display = window.getComputedStyle(gd).display;\n",
       "        if (!display || display === 'none') {{\n",
       "            console.log([gd, 'removed!']);\n",
       "            Plotly.purge(gd);\n",
       "            observer.disconnect();\n",
       "        }}\n",
       "}});\n",
       "\n",
       "// Listen for the removal of the full notebook cells\n",
       "var notebookContainer = gd.closest('#notebook-container');\n",
       "if (notebookContainer) {{\n",
       "    x.observe(notebookContainer, {childList: true});\n",
       "}}\n",
       "\n",
       "// Listen for the clearing of the current output cell\n",
       "var outputEl = gd.closest('.output');\n",
       "if (outputEl) {{\n",
       "    x.observe(outputEl, {childList: true});\n",
       "}}\n",
       "\n",
       "                        })                };                });            </script>        </div>"
      ]
     },
     "metadata": {},
     "output_type": "display_data"
    }
   ],
   "source": [
    "N = 0\n",
    "\n",
    "data = group.get_group(Ts[N])\n",
    "fig = px.scatter(data,\n",
    "                 x='beta',\n",
    "                 y='abs_max_chi_1',\n",
    "                 title=f'T = {Ts[N]}',\n",
    "                 log_y=True)\n",
    "fig.update_layout(xaxis=dict(title=r'$\\beta$'),\n",
    "                  yaxis=dict(title=r'$|\\max \\mathcal{U}\\'[1]|$',\n",
    "                             tickformat='.0e'),\n",
    "                  template='ggplot2')\n",
    "fig.update_traces(\n",
    "    hovertemplate=r'$\\beta = $%{x}<br>$\\max \\mathcal{U}\\'[1] = $%{y}',\n",
    "    marker=dict(symbol='0', size=10, color='red'))\n",
    "fig.show()\n"
   ]
  },
  {
   "cell_type": "code",
   "execution_count": 10,
   "metadata": {},
   "outputs": [
    {
     "data": {
      "application/vnd.plotly.v1+json": {
       "config": {
        "plotlyServerURL": "https://plot.ly"
       },
       "data": [
        {
         "customdata": [
          [
           11.46718112408897,
           0
          ],
          [
           617.8061529342082,
           0.05
          ],
          [
           618.745760701233,
           0.1
          ],
          [
           664.377983791097,
           0.15
          ],
          [
           664.2623939309343,
           0.2
          ],
          [
           616.2306145014783,
           0.25
          ],
          [
           662.2441424052271,
           0.3
          ],
          [
           664.3592978150956,
           0.35
          ],
          [
           662.4773412851392,
           0.4
          ],
          [
           649.4187329005792,
           0.45
          ],
          [
           663.6522194744115,
           0.5
          ],
          [
           662.4189308239643,
           0.55
          ],
          [
           657.4655574804498,
           0.6
          ],
          [
           655.52365195089,
           0.65
          ],
          [
           663.8400620161626,
           0.7
          ],
          [
           662.9413269556222,
           0.75
          ],
          [
           662.2323882553557,
           0.8
          ],
          [
           661.6659415151566,
           0.85
          ],
          [
           661.2051269430231,
           0.9
          ],
          [
           660.7941720424767,
           0.95
          ],
          [
           660.4030137089761,
           1
          ],
          [
           660.049391150505,
           1.05
          ],
          [
           659.7123807720754,
           1.1
          ],
          [
           659.380919409081,
           1.15
          ],
          [
           659.0397216202501,
           1.2
          ],
          [
           658.6365318379696,
           1.25
          ],
          [
           658.2890234315837,
           1.3
          ],
          [
           657.8975482257976,
           1.35
          ],
          [
           657.7951323379458,
           1.4
          ],
          [
           657.6535426003064,
           1.45
          ],
          [
           657.7929411384722,
           1.5
          ],
          [
           658.0922272122485,
           1.55
          ]
         ],
         "hovertemplate": "$\\mu_0 = $%{x}<br>$\\mu_1 = $%{y}<br>$\\mu_2 = $%{z}<br>$\\ln|\\max \\mathcal{U}\\'[0]| = $%{customdata[0]}<br>$T = $%{customdata[1]}",
         "legendgroup": "",
         "marker": {
          "color": [
           11.46718112408897,
           617.8061529342082,
           618.745760701233,
           664.377983791097,
           664.2623939309343,
           616.2306145014783,
           662.2441424052271,
           664.3592978150956,
           662.4773412851392,
           649.4187329005792,
           663.6522194744115,
           662.4189308239643,
           657.4655574804498,
           655.52365195089,
           663.8400620161626,
           662.9413269556222,
           662.2323882553557,
           661.6659415151566,
           661.2051269430231,
           660.7941720424767,
           660.4030137089761,
           660.049391150505,
           659.7123807720754,
           659.380919409081,
           659.0397216202501,
           658.6365318379696,
           658.2890234315837,
           657.8975482257976,
           657.7951323379458,
           657.6535426003064,
           657.7929411384722,
           658.0922272122485
          ],
          "coloraxis": "coloraxis",
          "symbol": "circle"
         },
         "mode": "markers",
         "name": "",
         "scene": "scene",
         "showlegend": false,
         "type": "scatter3d",
         "x": [
          -0.5,
          -0.45,
          -0.4,
          -0.3499999999999999,
          -0.3,
          -0.25,
          -0.20000000000000004,
          -0.15000000000000002,
          -0.09999999999999998,
          -0.04999999999999999,
          0,
          0.050000000000000044,
          0.09999999999999998,
          0.15000000000000002,
          0.19999999999999996,
          0.25,
          0.30000000000000004,
          0.35,
          0.4,
          0.44999999999999996,
          0.5,
          0.55,
          0.6000000000000001,
          0.6499999999999999,
          0.7,
          0.75,
          0.8,
          0.8500000000000001,
          0.8999999999999999,
          0.95,
          1,
          1.05
         ],
         "y": [
          0,
          0.05,
          0.1,
          0.15,
          0.20000000000000004,
          0.25,
          0.3,
          0.3499999999999999,
          0.4000000000000001,
          0.45,
          0.5,
          0.55,
          0.6,
          0.65,
          0.7,
          0.75,
          0.8,
          0.85,
          0.9,
          0.95,
          1,
          1.05,
          1.1,
          1.15,
          1.2,
          1.25,
          1.3,
          1.35,
          1.4,
          1.45,
          1.5,
          1.55
         ],
         "z": [
          0,
          0.0025000000000000005,
          0.010000000000000002,
          0.022500000000000003,
          0.04000000000000001,
          0.0625,
          0.09000000000000001,
          0.12249999999999998,
          0.16000000000000003,
          0.2025,
          0.25,
          0.30250000000000005,
          0.36000000000000004,
          0.42250000000000004,
          0.48999999999999994,
          0.5625,
          0.6400000000000001,
          0.7224999999999999,
          0.81,
          0.9025,
          1,
          1.1025,
          1.2100000000000002,
          1.3224999999999998,
          1.44,
          1.5625,
          1.6900000000000002,
          1.8225000000000002,
          1.9599999999999997,
          2.1025,
          2.25,
          2.4025000000000003
         ]
        }
       ],
       "layout": {
        "coloraxis": {
         "colorbar": {
          "title": {
           "text": "$\\ln|\\max \\mathcal{U}'[1]|$"
          }
         },
         "colorscale": [
          [
           0,
           "#30123b"
          ],
          [
           0.07142857142857142,
           "#4145ab"
          ],
          [
           0.14285714285714285,
           "#4675ed"
          ],
          [
           0.21428571428571427,
           "#39a2fc"
          ],
          [
           0.2857142857142857,
           "#1bcfd4"
          ],
          [
           0.35714285714285715,
           "#24eca6"
          ],
          [
           0.42857142857142855,
           "#61fc6c"
          ],
          [
           0.5,
           "#a4fc3b"
          ],
          [
           0.5714285714285714,
           "#d1e834"
          ],
          [
           0.6428571428571429,
           "#f3c63a"
          ],
          [
           0.7142857142857143,
           "#fe9b2d"
          ],
          [
           0.7857142857142857,
           "#f36315"
          ],
          [
           0.8571428571428571,
           "#d93806"
          ],
          [
           0.9285714285714286,
           "#b11901"
          ],
          [
           1,
           "#7a0402"
          ]
         ]
        },
        "legend": {
         "tracegroupgap": 0
        },
        "scene": {
         "domain": {
          "x": [
           0,
           1
          ],
          "y": [
           0,
           1
          ]
         },
         "xaxis": {
          "title": {
           "text": "$\\mu_0$"
          }
         },
         "yaxis": {
          "title": {
           "text": "$\\mu_1$"
          }
         },
         "zaxis": {
          "title": {
           "text": "$\\mu_2$"
          }
         }
        },
        "template": {
         "data": {
          "bar": [
           {
            "error_x": {
             "color": "rgb(51,51,51)"
            },
            "error_y": {
             "color": "rgb(51,51,51)"
            },
            "marker": {
             "line": {
              "color": "rgb(237,237,237)",
              "width": 0.5
             },
             "pattern": {
              "fillmode": "overlay",
              "size": 10,
              "solidity": 0.2
             }
            },
            "type": "bar"
           }
          ],
          "barpolar": [
           {
            "marker": {
             "line": {
              "color": "rgb(237,237,237)",
              "width": 0.5
             },
             "pattern": {
              "fillmode": "overlay",
              "size": 10,
              "solidity": 0.2
             }
            },
            "type": "barpolar"
           }
          ],
          "carpet": [
           {
            "aaxis": {
             "endlinecolor": "rgb(51,51,51)",
             "gridcolor": "white",
             "linecolor": "white",
             "minorgridcolor": "white",
             "startlinecolor": "rgb(51,51,51)"
            },
            "baxis": {
             "endlinecolor": "rgb(51,51,51)",
             "gridcolor": "white",
             "linecolor": "white",
             "minorgridcolor": "white",
             "startlinecolor": "rgb(51,51,51)"
            },
            "type": "carpet"
           }
          ],
          "choropleth": [
           {
            "colorbar": {
             "outlinewidth": 0,
             "tickcolor": "rgb(237,237,237)",
             "ticklen": 6,
             "ticks": "inside"
            },
            "type": "choropleth"
           }
          ],
          "contour": [
           {
            "colorbar": {
             "outlinewidth": 0,
             "tickcolor": "rgb(237,237,237)",
             "ticklen": 6,
             "ticks": "inside"
            },
            "colorscale": [
             [
              0,
              "rgb(20,44,66)"
             ],
             [
              1,
              "rgb(90,179,244)"
             ]
            ],
            "type": "contour"
           }
          ],
          "contourcarpet": [
           {
            "colorbar": {
             "outlinewidth": 0,
             "tickcolor": "rgb(237,237,237)",
             "ticklen": 6,
             "ticks": "inside"
            },
            "type": "contourcarpet"
           }
          ],
          "heatmap": [
           {
            "colorbar": {
             "outlinewidth": 0,
             "tickcolor": "rgb(237,237,237)",
             "ticklen": 6,
             "ticks": "inside"
            },
            "colorscale": [
             [
              0,
              "rgb(20,44,66)"
             ],
             [
              1,
              "rgb(90,179,244)"
             ]
            ],
            "type": "heatmap"
           }
          ],
          "heatmapgl": [
           {
            "colorbar": {
             "outlinewidth": 0,
             "tickcolor": "rgb(237,237,237)",
             "ticklen": 6,
             "ticks": "inside"
            },
            "colorscale": [
             [
              0,
              "rgb(20,44,66)"
             ],
             [
              1,
              "rgb(90,179,244)"
             ]
            ],
            "type": "heatmapgl"
           }
          ],
          "histogram": [
           {
            "marker": {
             "pattern": {
              "fillmode": "overlay",
              "size": 10,
              "solidity": 0.2
             }
            },
            "type": "histogram"
           }
          ],
          "histogram2d": [
           {
            "colorbar": {
             "outlinewidth": 0,
             "tickcolor": "rgb(237,237,237)",
             "ticklen": 6,
             "ticks": "inside"
            },
            "colorscale": [
             [
              0,
              "rgb(20,44,66)"
             ],
             [
              1,
              "rgb(90,179,244)"
             ]
            ],
            "type": "histogram2d"
           }
          ],
          "histogram2dcontour": [
           {
            "colorbar": {
             "outlinewidth": 0,
             "tickcolor": "rgb(237,237,237)",
             "ticklen": 6,
             "ticks": "inside"
            },
            "colorscale": [
             [
              0,
              "rgb(20,44,66)"
             ],
             [
              1,
              "rgb(90,179,244)"
             ]
            ],
            "type": "histogram2dcontour"
           }
          ],
          "mesh3d": [
           {
            "colorbar": {
             "outlinewidth": 0,
             "tickcolor": "rgb(237,237,237)",
             "ticklen": 6,
             "ticks": "inside"
            },
            "type": "mesh3d"
           }
          ],
          "parcoords": [
           {
            "line": {
             "colorbar": {
              "outlinewidth": 0,
              "tickcolor": "rgb(237,237,237)",
              "ticklen": 6,
              "ticks": "inside"
             }
            },
            "type": "parcoords"
           }
          ],
          "pie": [
           {
            "automargin": true,
            "type": "pie"
           }
          ],
          "scatter": [
           {
            "fillpattern": {
             "fillmode": "overlay",
             "size": 10,
             "solidity": 0.2
            },
            "type": "scatter"
           }
          ],
          "scatter3d": [
           {
            "line": {
             "colorbar": {
              "outlinewidth": 0,
              "tickcolor": "rgb(237,237,237)",
              "ticklen": 6,
              "ticks": "inside"
             }
            },
            "marker": {
             "colorbar": {
              "outlinewidth": 0,
              "tickcolor": "rgb(237,237,237)",
              "ticklen": 6,
              "ticks": "inside"
             }
            },
            "type": "scatter3d"
           }
          ],
          "scattercarpet": [
           {
            "marker": {
             "colorbar": {
              "outlinewidth": 0,
              "tickcolor": "rgb(237,237,237)",
              "ticklen": 6,
              "ticks": "inside"
             }
            },
            "type": "scattercarpet"
           }
          ],
          "scattergeo": [
           {
            "marker": {
             "colorbar": {
              "outlinewidth": 0,
              "tickcolor": "rgb(237,237,237)",
              "ticklen": 6,
              "ticks": "inside"
             }
            },
            "type": "scattergeo"
           }
          ],
          "scattergl": [
           {
            "marker": {
             "colorbar": {
              "outlinewidth": 0,
              "tickcolor": "rgb(237,237,237)",
              "ticklen": 6,
              "ticks": "inside"
             }
            },
            "type": "scattergl"
           }
          ],
          "scattermapbox": [
           {
            "marker": {
             "colorbar": {
              "outlinewidth": 0,
              "tickcolor": "rgb(237,237,237)",
              "ticklen": 6,
              "ticks": "inside"
             }
            },
            "type": "scattermapbox"
           }
          ],
          "scatterpolar": [
           {
            "marker": {
             "colorbar": {
              "outlinewidth": 0,
              "tickcolor": "rgb(237,237,237)",
              "ticklen": 6,
              "ticks": "inside"
             }
            },
            "type": "scatterpolar"
           }
          ],
          "scatterpolargl": [
           {
            "marker": {
             "colorbar": {
              "outlinewidth": 0,
              "tickcolor": "rgb(237,237,237)",
              "ticklen": 6,
              "ticks": "inside"
             }
            },
            "type": "scatterpolargl"
           }
          ],
          "scatterternary": [
           {
            "marker": {
             "colorbar": {
              "outlinewidth": 0,
              "tickcolor": "rgb(237,237,237)",
              "ticklen": 6,
              "ticks": "inside"
             }
            },
            "type": "scatterternary"
           }
          ],
          "surface": [
           {
            "colorbar": {
             "outlinewidth": 0,
             "tickcolor": "rgb(237,237,237)",
             "ticklen": 6,
             "ticks": "inside"
            },
            "colorscale": [
             [
              0,
              "rgb(20,44,66)"
             ],
             [
              1,
              "rgb(90,179,244)"
             ]
            ],
            "type": "surface"
           }
          ],
          "table": [
           {
            "cells": {
             "fill": {
              "color": "rgb(237,237,237)"
             },
             "line": {
              "color": "white"
             }
            },
            "header": {
             "fill": {
              "color": "rgb(217,217,217)"
             },
             "line": {
              "color": "white"
             }
            },
            "type": "table"
           }
          ]
         },
         "layout": {
          "annotationdefaults": {
           "arrowhead": 0,
           "arrowwidth": 1
          },
          "autotypenumbers": "strict",
          "coloraxis": {
           "colorbar": {
            "outlinewidth": 0,
            "tickcolor": "rgb(237,237,237)",
            "ticklen": 6,
            "ticks": "inside"
           }
          },
          "colorscale": {
           "sequential": [
            [
             0,
             "rgb(20,44,66)"
            ],
            [
             1,
             "rgb(90,179,244)"
            ]
           ],
           "sequentialminus": [
            [
             0,
             "rgb(20,44,66)"
            ],
            [
             1,
             "rgb(90,179,244)"
            ]
           ]
          },
          "colorway": [
           "#F8766D",
           "#A3A500",
           "#00BF7D",
           "#00B0F6",
           "#E76BF3"
          ],
          "font": {
           "color": "rgb(51,51,51)"
          },
          "geo": {
           "bgcolor": "white",
           "lakecolor": "white",
           "landcolor": "rgb(237,237,237)",
           "showlakes": true,
           "showland": true,
           "subunitcolor": "white"
          },
          "hoverlabel": {
           "align": "left"
          },
          "hovermode": "closest",
          "paper_bgcolor": "white",
          "plot_bgcolor": "rgb(237,237,237)",
          "polar": {
           "angularaxis": {
            "gridcolor": "white",
            "linecolor": "white",
            "showgrid": true,
            "tickcolor": "rgb(51,51,51)",
            "ticks": "outside"
           },
           "bgcolor": "rgb(237,237,237)",
           "radialaxis": {
            "gridcolor": "white",
            "linecolor": "white",
            "showgrid": true,
            "tickcolor": "rgb(51,51,51)",
            "ticks": "outside"
           }
          },
          "scene": {
           "xaxis": {
            "backgroundcolor": "rgb(237,237,237)",
            "gridcolor": "white",
            "gridwidth": 2,
            "linecolor": "white",
            "showbackground": true,
            "showgrid": true,
            "tickcolor": "rgb(51,51,51)",
            "ticks": "outside",
            "zerolinecolor": "white"
           },
           "yaxis": {
            "backgroundcolor": "rgb(237,237,237)",
            "gridcolor": "white",
            "gridwidth": 2,
            "linecolor": "white",
            "showbackground": true,
            "showgrid": true,
            "tickcolor": "rgb(51,51,51)",
            "ticks": "outside",
            "zerolinecolor": "white"
           },
           "zaxis": {
            "backgroundcolor": "rgb(237,237,237)",
            "gridcolor": "white",
            "gridwidth": 2,
            "linecolor": "white",
            "showbackground": true,
            "showgrid": true,
            "tickcolor": "rgb(51,51,51)",
            "ticks": "outside",
            "zerolinecolor": "white"
           }
          },
          "shapedefaults": {
           "fillcolor": "black",
           "line": {
            "width": 0
           },
           "opacity": 0.3
          },
          "ternary": {
           "aaxis": {
            "gridcolor": "white",
            "linecolor": "white",
            "showgrid": true,
            "tickcolor": "rgb(51,51,51)",
            "ticks": "outside"
           },
           "baxis": {
            "gridcolor": "white",
            "linecolor": "white",
            "showgrid": true,
            "tickcolor": "rgb(51,51,51)",
            "ticks": "outside"
           },
           "bgcolor": "rgb(237,237,237)",
           "caxis": {
            "gridcolor": "white",
            "linecolor": "white",
            "showgrid": true,
            "tickcolor": "rgb(51,51,51)",
            "ticks": "outside"
           }
          },
          "xaxis": {
           "automargin": true,
           "gridcolor": "white",
           "linecolor": "white",
           "showgrid": true,
           "tickcolor": "rgb(51,51,51)",
           "ticks": "outside",
           "title": {
            "standoff": 15
           },
           "zerolinecolor": "white"
          },
          "yaxis": {
           "automargin": true,
           "gridcolor": "white",
           "linecolor": "white",
           "showgrid": true,
           "tickcolor": "rgb(51,51,51)",
           "ticks": "outside",
           "title": {
            "standoff": 15
           },
           "zerolinecolor": "white"
          }
         }
        },
        "title": {
         "text": "$\\beta = $0.00"
        }
       }
      },
      "text/html": [
       "<div>                            <div id=\"19beaeee-23d7-4671-869d-d75aa24e465c\" class=\"plotly-graph-div\" style=\"height:525px; width:100%;\"></div>            <script type=\"text/javascript\">                require([\"plotly\"], function(Plotly) {                    window.PLOTLYENV=window.PLOTLYENV || {};                                    if (document.getElementById(\"19beaeee-23d7-4671-869d-d75aa24e465c\")) {                    Plotly.newPlot(                        \"19beaeee-23d7-4671-869d-d75aa24e465c\",                        [{\"customdata\":[[11.46718112408897,0.0],[617.8061529342082,0.05],[618.745760701233,0.1],[664.377983791097,0.15],[664.2623939309343,0.2],[616.2306145014783,0.25],[662.2441424052271,0.3],[664.3592978150956,0.35],[662.4773412851392,0.4],[649.4187329005792,0.45],[663.6522194744115,0.5],[662.4189308239643,0.55],[657.4655574804498,0.6],[655.52365195089,0.65],[663.8400620161626,0.7],[662.9413269556222,0.75],[662.2323882553557,0.8],[661.6659415151566,0.85],[661.2051269430231,0.9],[660.7941720424767,0.95],[660.4030137089761,1.0],[660.049391150505,1.05],[659.7123807720754,1.1],[659.380919409081,1.15],[659.0397216202501,1.2],[658.6365318379696,1.25],[658.2890234315837,1.3],[657.8975482257976,1.35],[657.7951323379458,1.4],[657.6535426003064,1.45],[657.7929411384722,1.5],[658.0922272122485,1.55]],\"hovertemplate\":\"$\\\\mu_0 = $%{x}\\u003cbr\\u003e$\\\\mu_1 = $%{y}\\u003cbr\\u003e$\\\\mu_2 = $%{z}\\u003cbr\\u003e$\\\\ln|\\\\max \\\\mathcal{U}\\\\'[0]| = $%{customdata[0]}\\u003cbr\\u003e$T = $%{customdata[1]}\",\"legendgroup\":\"\",\"marker\":{\"color\":[11.46718112408897,617.8061529342082,618.745760701233,664.377983791097,664.2623939309343,616.2306145014783,662.2441424052271,664.3592978150956,662.4773412851392,649.4187329005792,663.6522194744115,662.4189308239643,657.4655574804498,655.52365195089,663.8400620161626,662.9413269556222,662.2323882553557,661.6659415151566,661.2051269430231,660.7941720424767,660.4030137089761,660.049391150505,659.7123807720754,659.380919409081,659.0397216202501,658.6365318379696,658.2890234315837,657.8975482257976,657.7951323379458,657.6535426003064,657.7929411384722,658.0922272122485],\"coloraxis\":\"coloraxis\",\"symbol\":\"circle\"},\"mode\":\"markers\",\"name\":\"\",\"scene\":\"scene\",\"showlegend\":false,\"x\":[-0.5,-0.45,-0.4,-0.3499999999999999,-0.3,-0.25,-0.20000000000000004,-0.15000000000000002,-0.09999999999999998,-0.04999999999999999,0.0,0.050000000000000044,0.09999999999999998,0.15000000000000002,0.19999999999999996,0.25,0.30000000000000004,0.35,0.4,0.44999999999999996,0.5,0.55,0.6000000000000001,0.6499999999999999,0.7,0.75,0.8,0.8500000000000001,0.8999999999999999,0.95,1.0,1.05],\"y\":[0.0,0.05,0.1,0.15,0.20000000000000004,0.25,0.3,0.3499999999999999,0.4000000000000001,0.45,0.5,0.55,0.6,0.65,0.7,0.75,0.8,0.85,0.9,0.95,1.0,1.05,1.1,1.15,1.2,1.25,1.3,1.35,1.4,1.45,1.5,1.55],\"z\":[0.0,0.0025000000000000005,0.010000000000000002,0.022500000000000003,0.04000000000000001,0.0625,0.09000000000000001,0.12249999999999998,0.16000000000000003,0.2025,0.25,0.30250000000000005,0.36000000000000004,0.42250000000000004,0.48999999999999994,0.5625,0.6400000000000001,0.7224999999999999,0.81,0.9025,1.0,1.1025,1.2100000000000002,1.3224999999999998,1.44,1.5625,1.6900000000000002,1.8225000000000002,1.9599999999999997,2.1025,2.25,2.4025000000000003],\"type\":\"scatter3d\"}],                        {\"template\":{\"data\":{\"barpolar\":[{\"marker\":{\"line\":{\"color\":\"rgb(237,237,237)\",\"width\":0.5},\"pattern\":{\"fillmode\":\"overlay\",\"size\":10,\"solidity\":0.2}},\"type\":\"barpolar\"}],\"bar\":[{\"error_x\":{\"color\":\"rgb(51,51,51)\"},\"error_y\":{\"color\":\"rgb(51,51,51)\"},\"marker\":{\"line\":{\"color\":\"rgb(237,237,237)\",\"width\":0.5},\"pattern\":{\"fillmode\":\"overlay\",\"size\":10,\"solidity\":0.2}},\"type\":\"bar\"}],\"carpet\":[{\"aaxis\":{\"endlinecolor\":\"rgb(51,51,51)\",\"gridcolor\":\"white\",\"linecolor\":\"white\",\"minorgridcolor\":\"white\",\"startlinecolor\":\"rgb(51,51,51)\"},\"baxis\":{\"endlinecolor\":\"rgb(51,51,51)\",\"gridcolor\":\"white\",\"linecolor\":\"white\",\"minorgridcolor\":\"white\",\"startlinecolor\":\"rgb(51,51,51)\"},\"type\":\"carpet\"}],\"choropleth\":[{\"colorbar\":{\"outlinewidth\":0,\"tickcolor\":\"rgb(237,237,237)\",\"ticklen\":6,\"ticks\":\"inside\"},\"type\":\"choropleth\"}],\"contourcarpet\":[{\"colorbar\":{\"outlinewidth\":0,\"tickcolor\":\"rgb(237,237,237)\",\"ticklen\":6,\"ticks\":\"inside\"},\"type\":\"contourcarpet\"}],\"contour\":[{\"colorbar\":{\"outlinewidth\":0,\"tickcolor\":\"rgb(237,237,237)\",\"ticklen\":6,\"ticks\":\"inside\"},\"colorscale\":[[0,\"rgb(20,44,66)\"],[1,\"rgb(90,179,244)\"]],\"type\":\"contour\"}],\"heatmapgl\":[{\"colorbar\":{\"outlinewidth\":0,\"tickcolor\":\"rgb(237,237,237)\",\"ticklen\":6,\"ticks\":\"inside\"},\"colorscale\":[[0,\"rgb(20,44,66)\"],[1,\"rgb(90,179,244)\"]],\"type\":\"heatmapgl\"}],\"heatmap\":[{\"colorbar\":{\"outlinewidth\":0,\"tickcolor\":\"rgb(237,237,237)\",\"ticklen\":6,\"ticks\":\"inside\"},\"colorscale\":[[0,\"rgb(20,44,66)\"],[1,\"rgb(90,179,244)\"]],\"type\":\"heatmap\"}],\"histogram2dcontour\":[{\"colorbar\":{\"outlinewidth\":0,\"tickcolor\":\"rgb(237,237,237)\",\"ticklen\":6,\"ticks\":\"inside\"},\"colorscale\":[[0,\"rgb(20,44,66)\"],[1,\"rgb(90,179,244)\"]],\"type\":\"histogram2dcontour\"}],\"histogram2d\":[{\"colorbar\":{\"outlinewidth\":0,\"tickcolor\":\"rgb(237,237,237)\",\"ticklen\":6,\"ticks\":\"inside\"},\"colorscale\":[[0,\"rgb(20,44,66)\"],[1,\"rgb(90,179,244)\"]],\"type\":\"histogram2d\"}],\"histogram\":[{\"marker\":{\"pattern\":{\"fillmode\":\"overlay\",\"size\":10,\"solidity\":0.2}},\"type\":\"histogram\"}],\"mesh3d\":[{\"colorbar\":{\"outlinewidth\":0,\"tickcolor\":\"rgb(237,237,237)\",\"ticklen\":6,\"ticks\":\"inside\"},\"type\":\"mesh3d\"}],\"parcoords\":[{\"line\":{\"colorbar\":{\"outlinewidth\":0,\"tickcolor\":\"rgb(237,237,237)\",\"ticklen\":6,\"ticks\":\"inside\"}},\"type\":\"parcoords\"}],\"pie\":[{\"automargin\":true,\"type\":\"pie\"}],\"scatter3d\":[{\"line\":{\"colorbar\":{\"outlinewidth\":0,\"tickcolor\":\"rgb(237,237,237)\",\"ticklen\":6,\"ticks\":\"inside\"}},\"marker\":{\"colorbar\":{\"outlinewidth\":0,\"tickcolor\":\"rgb(237,237,237)\",\"ticklen\":6,\"ticks\":\"inside\"}},\"type\":\"scatter3d\"}],\"scattercarpet\":[{\"marker\":{\"colorbar\":{\"outlinewidth\":0,\"tickcolor\":\"rgb(237,237,237)\",\"ticklen\":6,\"ticks\":\"inside\"}},\"type\":\"scattercarpet\"}],\"scattergeo\":[{\"marker\":{\"colorbar\":{\"outlinewidth\":0,\"tickcolor\":\"rgb(237,237,237)\",\"ticklen\":6,\"ticks\":\"inside\"}},\"type\":\"scattergeo\"}],\"scattergl\":[{\"marker\":{\"colorbar\":{\"outlinewidth\":0,\"tickcolor\":\"rgb(237,237,237)\",\"ticklen\":6,\"ticks\":\"inside\"}},\"type\":\"scattergl\"}],\"scattermapbox\":[{\"marker\":{\"colorbar\":{\"outlinewidth\":0,\"tickcolor\":\"rgb(237,237,237)\",\"ticklen\":6,\"ticks\":\"inside\"}},\"type\":\"scattermapbox\"}],\"scatterpolargl\":[{\"marker\":{\"colorbar\":{\"outlinewidth\":0,\"tickcolor\":\"rgb(237,237,237)\",\"ticklen\":6,\"ticks\":\"inside\"}},\"type\":\"scatterpolargl\"}],\"scatterpolar\":[{\"marker\":{\"colorbar\":{\"outlinewidth\":0,\"tickcolor\":\"rgb(237,237,237)\",\"ticklen\":6,\"ticks\":\"inside\"}},\"type\":\"scatterpolar\"}],\"scatter\":[{\"fillpattern\":{\"fillmode\":\"overlay\",\"size\":10,\"solidity\":0.2},\"type\":\"scatter\"}],\"scatterternary\":[{\"marker\":{\"colorbar\":{\"outlinewidth\":0,\"tickcolor\":\"rgb(237,237,237)\",\"ticklen\":6,\"ticks\":\"inside\"}},\"type\":\"scatterternary\"}],\"surface\":[{\"colorbar\":{\"outlinewidth\":0,\"tickcolor\":\"rgb(237,237,237)\",\"ticklen\":6,\"ticks\":\"inside\"},\"colorscale\":[[0,\"rgb(20,44,66)\"],[1,\"rgb(90,179,244)\"]],\"type\":\"surface\"}],\"table\":[{\"cells\":{\"fill\":{\"color\":\"rgb(237,237,237)\"},\"line\":{\"color\":\"white\"}},\"header\":{\"fill\":{\"color\":\"rgb(217,217,217)\"},\"line\":{\"color\":\"white\"}},\"type\":\"table\"}]},\"layout\":{\"annotationdefaults\":{\"arrowhead\":0,\"arrowwidth\":1},\"autotypenumbers\":\"strict\",\"coloraxis\":{\"colorbar\":{\"outlinewidth\":0,\"tickcolor\":\"rgb(237,237,237)\",\"ticklen\":6,\"ticks\":\"inside\"}},\"colorscale\":{\"sequential\":[[0,\"rgb(20,44,66)\"],[1,\"rgb(90,179,244)\"]],\"sequentialminus\":[[0,\"rgb(20,44,66)\"],[1,\"rgb(90,179,244)\"]]},\"colorway\":[\"#F8766D\",\"#A3A500\",\"#00BF7D\",\"#00B0F6\",\"#E76BF3\"],\"font\":{\"color\":\"rgb(51,51,51)\"},\"geo\":{\"bgcolor\":\"white\",\"lakecolor\":\"white\",\"landcolor\":\"rgb(237,237,237)\",\"showlakes\":true,\"showland\":true,\"subunitcolor\":\"white\"},\"hoverlabel\":{\"align\":\"left\"},\"hovermode\":\"closest\",\"paper_bgcolor\":\"white\",\"plot_bgcolor\":\"rgb(237,237,237)\",\"polar\":{\"angularaxis\":{\"gridcolor\":\"white\",\"linecolor\":\"white\",\"showgrid\":true,\"tickcolor\":\"rgb(51,51,51)\",\"ticks\":\"outside\"},\"bgcolor\":\"rgb(237,237,237)\",\"radialaxis\":{\"gridcolor\":\"white\",\"linecolor\":\"white\",\"showgrid\":true,\"tickcolor\":\"rgb(51,51,51)\",\"ticks\":\"outside\"}},\"scene\":{\"xaxis\":{\"backgroundcolor\":\"rgb(237,237,237)\",\"gridcolor\":\"white\",\"gridwidth\":2,\"linecolor\":\"white\",\"showbackground\":true,\"showgrid\":true,\"tickcolor\":\"rgb(51,51,51)\",\"ticks\":\"outside\",\"zerolinecolor\":\"white\"},\"yaxis\":{\"backgroundcolor\":\"rgb(237,237,237)\",\"gridcolor\":\"white\",\"gridwidth\":2,\"linecolor\":\"white\",\"showbackground\":true,\"showgrid\":true,\"tickcolor\":\"rgb(51,51,51)\",\"ticks\":\"outside\",\"zerolinecolor\":\"white\"},\"zaxis\":{\"backgroundcolor\":\"rgb(237,237,237)\",\"gridcolor\":\"white\",\"gridwidth\":2,\"linecolor\":\"white\",\"showbackground\":true,\"showgrid\":true,\"tickcolor\":\"rgb(51,51,51)\",\"ticks\":\"outside\",\"zerolinecolor\":\"white\"}},\"shapedefaults\":{\"fillcolor\":\"black\",\"line\":{\"width\":0},\"opacity\":0.3},\"ternary\":{\"aaxis\":{\"gridcolor\":\"white\",\"linecolor\":\"white\",\"showgrid\":true,\"tickcolor\":\"rgb(51,51,51)\",\"ticks\":\"outside\"},\"baxis\":{\"gridcolor\":\"white\",\"linecolor\":\"white\",\"showgrid\":true,\"tickcolor\":\"rgb(51,51,51)\",\"ticks\":\"outside\"},\"bgcolor\":\"rgb(237,237,237)\",\"caxis\":{\"gridcolor\":\"white\",\"linecolor\":\"white\",\"showgrid\":true,\"tickcolor\":\"rgb(51,51,51)\",\"ticks\":\"outside\"}},\"xaxis\":{\"automargin\":true,\"gridcolor\":\"white\",\"linecolor\":\"white\",\"showgrid\":true,\"tickcolor\":\"rgb(51,51,51)\",\"ticks\":\"outside\",\"title\":{\"standoff\":15},\"zerolinecolor\":\"white\"},\"yaxis\":{\"automargin\":true,\"gridcolor\":\"white\",\"linecolor\":\"white\",\"showgrid\":true,\"tickcolor\":\"rgb(51,51,51)\",\"ticks\":\"outside\",\"title\":{\"standoff\":15},\"zerolinecolor\":\"white\"}}},\"scene\":{\"domain\":{\"x\":[0.0,1.0],\"y\":[0.0,1.0]},\"xaxis\":{\"title\":{\"text\":\"$\\\\mu_0$\"}},\"yaxis\":{\"title\":{\"text\":\"$\\\\mu_1$\"}},\"zaxis\":{\"title\":{\"text\":\"$\\\\mu_2$\"}}},\"coloraxis\":{\"colorbar\":{\"title\":{\"text\":\"$\\\\ln|\\\\max \\\\mathcal{U}'[1]|$\"}},\"colorscale\":[[0.0,\"#30123b\"],[0.07142857142857142,\"#4145ab\"],[0.14285714285714285,\"#4675ed\"],[0.21428571428571427,\"#39a2fc\"],[0.2857142857142857,\"#1bcfd4\"],[0.35714285714285715,\"#24eca6\"],[0.42857142857142855,\"#61fc6c\"],[0.5,\"#a4fc3b\"],[0.5714285714285714,\"#d1e834\"],[0.6428571428571429,\"#f3c63a\"],[0.7142857142857143,\"#fe9b2d\"],[0.7857142857142857,\"#f36315\"],[0.8571428571428571,\"#d93806\"],[0.9285714285714286,\"#b11901\"],[1.0,\"#7a0402\"]]},\"legend\":{\"tracegroupgap\":0},\"title\":{\"text\":\"$\\\\beta = $0.00\"}},                        {\"responsive\": true}                    ).then(function(){\n",
       "                            \n",
       "var gd = document.getElementById('19beaeee-23d7-4671-869d-d75aa24e465c');\n",
       "var x = new MutationObserver(function (mutations, observer) {{\n",
       "        var display = window.getComputedStyle(gd).display;\n",
       "        if (!display || display === 'none') {{\n",
       "            console.log([gd, 'removed!']);\n",
       "            Plotly.purge(gd);\n",
       "            observer.disconnect();\n",
       "        }}\n",
       "}});\n",
       "\n",
       "// Listen for the removal of the full notebook cells\n",
       "var notebookContainer = gd.closest('#notebook-container');\n",
       "if (notebookContainer) {{\n",
       "    x.observe(notebookContainer, {childList: true});\n",
       "}}\n",
       "\n",
       "// Listen for the clearing of the current output cell\n",
       "var outputEl = gd.closest('.output');\n",
       "if (outputEl) {{\n",
       "    x.observe(outputEl, {childList: true});\n",
       "}}\n",
       "\n",
       "                        })                };                });            </script>        </div>"
      ]
     },
     "metadata": {},
     "output_type": "display_data"
    }
   ],
   "source": [
    "M = 0\n",
    "\n",
    "data = group.nth(M)\n",
    "fig = px.scatter_3d(data,\n",
    "                    x='mu_0',\n",
    "                    y='mu_1',\n",
    "                    z='mu_2',\n",
    "                    color='abs_log_max_chi_1',\n",
    "                    custom_data=['abs_log_max_chi_1', 'T'],\n",
    "                    color_continuous_scale='turbo',\n",
    "                    title=fr'$\\beta = ${data[\"beta\"].mean():.2f}')\n",
    "fig.update_layout(\n",
    "    scene={\n",
    "        'xaxis': dict(title=r'$\\mu_0$'),\n",
    "        'yaxis': dict(title=r'$\\mu_1$'),\n",
    "        'zaxis': dict(title=r'$\\mu_2$'),\n",
    "    },\n",
    "    coloraxis={'colorbar': dict(title='$\\ln|\\max \\mathcal{U}\\'[1]|$')},\n",
    "    template='ggplot2')\n",
    "fig.update_traces(\n",
    "    hovertemplate=\n",
    "    r'$\\mu_0 = $%{x}<br>$\\mu_1 = $%{y}<br>$\\mu_2 = $%{z}<br>$\\ln|\\max \\mathcal{U}\\'[0]| = $%{customdata[0]}<br>$T = $%{customdata[1]}'\n",
    ")\n",
    "fig.update\n",
    "fig.show()\n"
   ]
  },
  {
   "cell_type": "code",
   "execution_count": 24,
   "metadata": {},
   "outputs": [
    {
     "data": {
      "application/vnd.plotly.v1+json": {
       "config": {
        "plotlyServerURL": "https://plot.ly"
       },
       "data": [
        {
         "customdata": [
          [
           11.46718112408897
          ],
          [
           11.107726989516996
          ],
          [
           11.388991488734638
          ],
          [
           11.344337814199646
          ],
          [
           11.753348118001629
          ],
          [
           11.937474176861182
          ],
          [
           1.352800792313874
          ],
          [
           0.6771508127099355
          ],
          [
           0.3483837436589341
          ],
          [
           0.15093026299098894
          ],
          [
           0.01901761574433384
          ],
          [
           -0.07475465139634196
          ],
          [
           -0.1441650743076873
          ],
          [
           -0.19668822016346643
          ],
          [
           -0.23801672062445176
          ],
          [
           -0.2714529802330095
          ],
          [
           25.211814465806828
          ],
          [
           25.08884901234508
          ],
          [
           27.116885003532488
          ],
          [
           27.340724183373464
          ],
          [
           27.01714256190353
          ],
          [
           27.954498870274517
          ],
          [
           5.621678133152789
          ],
          [
           4.008179095193589
          ],
          [
           2.4587690288754143
          ],
          [
           2.5926997285768256
          ],
          [
           1.722481529628584
          ],
          [
           1.5797064605328421
          ],
          [
           1.510911153194496
          ],
          [
           1.565101121548523
          ],
          [
           0.9479623818438749
          ],
          [
           1.042660176906978
          ],
          [
           20.50397080156503
          ],
          [
           20.26127197552081
          ],
          [
           17.8773169668875
          ],
          [
           17.568451753306665
          ],
          [
           18.16811295428911
          ],
          [
           17.688108540804585
          ],
          [
           6.4160184504170825
          ],
          [
           4.491587610821666
          ],
          [
           3.409892447416561
          ],
          [
           2.392772910001595
          ],
          [
           2.353265276565714
          ],
          [
           2.3173233224485426
          ],
          [
           1.376761971607427
          ],
          [
           1.335813592793469
          ],
          [
           0.8518691086039057
          ],
          [
           0.7710032971628784
          ],
          [
           18.259715430842462
          ],
          [
           18.414433045350542
          ],
          [
           18.651000279479177
          ],
          [
           18.74350160937195
          ],
          [
           18.711178391330666
          ],
          [
           18.808467472370314
          ],
          [
           7.232590236674717
          ],
          [
           3.865939754900645
          ],
          [
           2.5496305515343924
          ],
          [
           3.58622001463817
          ],
          [
           2.033839382666337
          ],
          [
           1.8606219703091884
          ],
          [
           1.418987670290392
          ],
          [
           1.3383682274671698
          ],
          [
           1.443971755279647
          ],
          [
           0.82346050415281
          ],
          [
           18.305966665434894
          ],
          [
           18.356060030652426
          ],
          [
           18.431158682189764
          ],
          [
           18.423620412951973
          ],
          [
           18.362715111155463
          ],
          [
           18.340205347391233
          ],
          [
           7.121916899054545
          ],
          [
           4.415831191237595
          ],
          [
           4.593154105078357
          ],
          [
           2.546741589413508
          ],
          [
           1.5828594379689835
          ],
          [
           2.044446205016566
          ],
          [
           1.9061164864794549
          ],
          [
           1.4770583990872304
          ],
          [
           1.2706338384539815
          ],
          [
           1.194261578842975
          ],
          [
           17.617515361067696
          ],
          [
           17.629566829023595
          ],
          [
           17.469926772895064
          ],
          [
           17.28946689162294
          ],
          [
           16.94597360711707
          ],
          [
           16.692562556126255
          ],
          [
           8.168398705616923
          ],
          [
           5.477275114107376
          ],
          [
           3.5244429788331564
          ],
          [
           1.3586240990089764
          ],
          [
           2.246416256505757
          ],
          [
           1.4823441652848968
          ],
          [
           1.7978602140290785
          ],
          [
           1.5279701184442813
          ],
          [
           1.4188589688096802
          ],
          [
           1.1039125922418553
          ],
          [
           16.33463434006321
          ],
          [
           16.352333507585758
          ],
          [
           16.038142906046954
          ],
          [
           15.810538041877235
          ],
          [
           15.463759950949706
          ],
          [
           15.719551375135561
          ],
          [
           7.925862504526997
          ],
          [
           5.4514408979451945
          ],
          [
           2.957609808078911
          ],
          [
           2.3206150639417737
          ],
          [
           1.2768496652213983
          ],
          [
           1.4156231764093397
          ],
          [
           1.1200638547685364
          ],
          [
           0.7289444725000238
          ],
          [
           1.1499934426626581
          ],
          [
           0.998460922999036
          ],
          [
           15.272317408640726
          ],
          [
           15.269617189307237
          ],
          [
           15.00197959858464
          ],
          [
           15.181884116390208
          ],
          [
           15.840111833299716
          ],
          [
           15.789130669861672
          ],
          [
           8.403593912560062
          ],
          [
           5.543798861470985
          ],
          [
           3.6614770635714415
          ],
          [
           2.0974760268475854
          ],
          [
           1.09841660268306
          ],
          [
           1.8637682349991451
          ],
          [
           1.6996214168481685
          ],
          [
           1.1771754874265192
          ],
          [
           1.1785961829233949
          ],
          [
           1.156915830670016
          ],
          [
           15.567478083855924
          ],
          [
           15.123334231004277
          ],
          [
           14.995823393993032
          ],
          [
           15.266706808559173
          ],
          [
           15.60758138391323
          ],
          [
           15.43496392308325
          ],
          [
           8.723782707919977
          ],
          [
           5.832900121345882
          ],
          [
           3.14952450187155
          ],
          [
           1.6740806621498923
          ],
          [
           1.8517442145197602
          ],
          [
           1.7643940629951111
          ],
          [
           1.5914484225826562
          ],
          [
           1.4915516663147756
          ],
          [
           1.402567448343076
          ],
          [
           1.1206563224838022
          ],
          [
           15.285876493790738
          ],
          [
           15.09118836254189
          ],
          [
           14.772399886229639
          ],
          [
           14.833835747015462
          ],
          [
           15.20385116975404
          ],
          [
           14.958452623396624
          ],
          [
           8.56627415941718
          ],
          [
           5.504046153994756
          ],
          [
           2.8512172184178812
          ],
          [
           2.0986507157916696
          ],
          [
           1.9690123390024745
          ],
          [
           1.3733618409915116
          ],
          [
           1.221296875778135
          ],
          [
           1.2134286451750778
          ],
          [
           2.2621267333273227
          ],
          [
           1.0832528996651667
          ],
          [
           15.119029787800804
          ],
          [
           14.948201537992801
          ],
          [
           14.412688800362062
          ],
          [
           14.421620427321095
          ],
          [
           14.734754625348558
          ],
          [
           14.563839863019098
          ],
          [
           8.738566106328173
          ],
          [
           5.612220984271972
          ],
          [
           1.3592022999907618
          ],
          [
           2.559649639953672
          ],
          [
           1.8483822833729184
          ],
          [
           1.3213117993306231
          ],
          [
           1.3483475021978506
          ],
          [
           1.3538390880716196
          ],
          [
           0.9932589445799753
          ],
          [
           0.8306193020648598
          ],
          [
           14.83943165435259
          ],
          [
           14.544158146254517
          ],
          [
           14.02174026188517
          ],
          [
           13.998373469474817
          ],
          [
           14.465347292520804
          ],
          [
           14.590974389146117
          ],
          [
           8.563415638188946
          ],
          [
           5.59912884355904
          ],
          [
           1.2438540028139913
          ],
          [
           2.61553151775448
          ],
          [
           1.714399400687277
          ],
          [
           1.2242644950995738
          ],
          [
           1.122240614387176
          ],
          [
           1.2105242148352142
          ],
          [
           1.0709198309691956
          ],
          [
           0.33848278992509095
          ],
          [
           14.79092963447826
          ],
          [
           14.084430522301462
          ],
          [
           13.638692812652536
          ],
          [
           14.489788686740177
          ],
          [
           15.1323135379627
          ],
          [
           15.454774308361028
          ],
          [
           8.14981944838385
          ],
          [
           5.3492851122464815
          ],
          [
           2.82744206082039
          ],
          [
           2.19545443203651
          ],
          [
           2.051836708957099
          ],
          [
           1.8463622168492406
          ],
          [
           1.6486199757552658
          ],
          [
           0.9700431037232284
          ],
          [
           1.1033480002870855
          ],
          [
           0.9713186500889741
          ],
          [
           14.283629963091208
          ],
          [
           13.925760202990542
          ],
          [
           13.786449349925778
          ],
          [
           13.303176795666058
          ],
          [
           15.043366778562396
          ],
          [
           16.677257981612023
          ],
          [
           9.911796616820972
          ],
          [
           4.976646252569219
          ],
          [
           2.8331588333204443
          ],
          [
           1.6774901005908371
          ],
          [
           2.3915027010078553
          ],
          [
           1.4339294322836207
          ],
          [
           1.7216403036503674
          ],
          [
           1.503494730068319
          ],
          [
           1.0988730839902323
          ],
          [
           1.190784059737609
          ],
          [
           14.052502202660813
          ],
          [
           13.62251348116686
          ],
          [
           13.167527205862967
          ],
          [
           16.992227774086963
          ],
          [
           15.319349414903249
          ],
          [
           16.158712066676294
          ],
          [
           7.965177270232573
          ],
          [
           4.520981575603782
          ],
          [
           3.003754796783724
          ],
          [
           2.8395250880797187
          ],
          [
           2.7262374504684117
          ],
          [
           1.4739283816397735
          ],
          [
           1.4880913497442734
          ],
          [
           1.4847075123227447
          ],
          [
           1.1554852336645767
          ],
          [
           0.9424414936892067
          ],
          [
           13.799208511058756
          ],
          [
           13.360778336389085
          ],
          [
           13.334105111804213
          ],
          [
           16.268882684554036
          ],
          [
           16.675208439598403
          ],
          [
           17.34903856942455
          ],
          [
           7.78196541844881
          ],
          [
           3.672964270451098
          ],
          [
           2.809683867416009
          ],
          [
           2.0915843852919758
          ],
          [
           1.961022041800657
          ],
          [
           1.2224808616920133
          ],
          [
           1.2653656816860035
          ],
          [
           1.0800161732298101
          ],
          [
           1.204074911309532
          ],
          [
           0.8886083087801637
          ],
          [
           13.736725179028877
          ],
          [
           15.946718400385663
          ],
          [
           14.158522150110935
          ],
          [
           16.737243786312522
          ],
          [
           16.76093053916416
          ],
          [
           16.37734416342395
          ],
          [
           7.530233591496471
          ],
          [
           3.4908251931125043
          ],
          [
           3.1351566085690292
          ],
          [
           2.5651853962741304
          ],
          [
           2.3886625398206904
          ],
          [
           1.4365142693691766
          ],
          [
           1.6139602065721679
          ],
          [
           1.0352437263561423
          ],
          [
           1.1857411130295852
          ],
          [
           0.8563871599320059
          ],
          [
           14.334857594650893
          ],
          [
           16.9671510386336
          ],
          [
           14.864960417382598
          ],
          [
           16.571318907009477
          ],
          [
           17.169318107476734
          ],
          [
           15.430589337757326
          ],
          [
           7.3829696716528215
          ],
          [
           3.085596199992172
          ],
          [
           2.6689863302379235
          ],
          [
           1.8290185894147164
          ],
          [
           1.6920331174482754
          ],
          [
           1.7670285678106659
          ],
          [
           1.5572686631958255
          ],
          [
           1.2727053228739909
          ],
          [
           1.181090320903177
          ],
          [
           1.2071693156713121
          ],
          [
           14.118626762590422
          ],
          [
           15.422414119508025
          ],
          [
           15.390649412718847
          ],
          [
           16.664086218004275
          ],
          [
           17.39205873398972
          ],
          [
           15.024546393874612
          ],
          [
           7.490130608112834
          ],
          [
           3.442201616023543
          ],
          [
           2.717715355533106
          ],
          [
           1.9373545978507718
          ],
          [
           1.6774720243737082
          ],
          [
           1.8385355393123732
          ],
          [
           1.5338722695367129
          ],
          [
           1.0832735940412526
          ],
          [
           1.10949930050138
          ],
          [
           1.2695240694878651
          ],
          [
           14.423276865380918
          ],
          [
           15.165735551217466
          ],
          [
           15.54928485204804
          ],
          [
           16.525163665351712
          ],
          [
           17.42941971542873
          ],
          [
           15.451453227853118
          ],
          [
           6.515011843346767
          ],
          [
           3.4814164701382078
          ],
          [
           2.768253378408215
          ],
          [
           2.7860320139717354
          ],
          [
           1.9506162398788092
          ],
          [
           1.9110168484555583
          ],
          [
           1.49511902138681
          ],
          [
           1.2870835129733496
          ],
          [
           1.1006873416484555
          ],
          [
           1.1182979629234373
          ],
          [
           14.063402952646616
          ],
          [
           15.958596444406574
          ],
          [
           15.466690324281089
          ],
          [
           16.43280768558192
          ],
          [
           17.351701497684335
          ],
          [
           14.998864542140703
          ],
          [
           7.542742470144153
          ],
          [
           3.6512731080427043
          ],
          [
           2.389160808778889
          ],
          [
           2.306327827576868
          ],
          [
           1.8902232805819388
          ],
          [
           1.6703920749428982
          ],
          [
           1.2481930677978412
          ],
          [
           1.0212659112999138
          ],
          [
           0.9413632191881476
          ],
          [
           1.3965316069001366
          ],
          [
           13.87739734509578
          ],
          [
           17.393999441948058
          ],
          [
           14.78175808673859
          ],
          [
           16.29835772770609
          ],
          [
           17.170988518240474
          ],
          [
           15.223458533345248
          ],
          [
           6.724473996901644
          ],
          [
           3.8540132986863207
          ],
          [
           3.0718470691743596
          ],
          [
           2.4515873574525058
          ],
          [
           2.2986249278244024
          ],
          [
           1.6107599963832726
          ],
          [
           1.5774422504512207
          ],
          [
           1.3016456007283668
          ],
          [
           1.2882953624950708
          ],
          [
           0.9493946687515814
          ],
          [
           12.729665035936247
          ],
          [
           15.36779886769389
          ],
          [
           14.01401029797255
          ],
          [
           16.955860797456683
          ],
          [
           17.128609533582942
          ],
          [
           15.884419907716019
          ],
          [
           6.353046103470516
          ],
          [
           3.8337565544944816
          ],
          [
           3.1862319988554235
          ],
          [
           2.5563398251806433
          ],
          [
           1.9436383493929275
          ],
          [
           1.3841613171962837
          ],
          [
           1.2600707929356916
          ],
          [
           1.25987098673801
          ],
          [
           1.5466173864671386
          ],
          [
           1.1555637017109626
          ],
          [
           12.632859621974799
          ],
          [
           14.330129144526476
          ],
          [
           13.75301551483005
          ],
          [
           16.114103186649857
          ],
          [
           16.54677345195226
          ],
          [
           16.147745734777512
          ],
          [
           6.29666704395108
          ],
          [
           4.427360473867433
          ],
          [
           2.9814552429612347
          ],
          [
           2.004014746933268
          ],
          [
           1.7868662940471964
          ],
          [
           1.6781542953151178
          ],
          [
           1.2424142505474076
          ],
          [
           1.2189035669320207
          ],
          [
           0.9743075578983896
          ],
          [
           1.2338830032183081
          ],
          [
           14.536766137808174
          ],
          [
           12.776048838833015
          ],
          [
           13.063567017718784
          ],
          [
           16.827210414318433
          ],
          [
           16.491306783266754
          ],
          [
           16.717642181518237
          ],
          [
           5.762612365120533
          ],
          [
           4.058070960053687
          ],
          [
           2.4132931884204236
          ],
          [
           2.164618507633221
          ],
          [
           1.8669695578469097
          ],
          [
           1.4728194978843585
          ],
          [
           1.2797573077566837
          ],
          [
           1.0731669555814405
          ],
          [
           1.010555261607824
          ],
          [
           1.1898132277827684
          ],
          [
           15.03789841673744
          ],
          [
           16.282419993450013
          ],
          [
           12.931176803233285
          ],
          [
           15.71212889983585
          ],
          [
           15.669281176213534
          ],
          [
           16.897519993944442
          ],
          [
           5.732502216434684
          ],
          [
           3.241845680182336
          ],
          [
           3.3492816622913564
          ],
          [
           2.464720682478506
          ],
          [
           1.656998888487579
          ],
          [
           1.77599145302711
          ],
          [
           1.6066555792467334
          ],
          [
           1.4512611862668077
          ],
          [
           1.1333333752833723
          ],
          [
           0.8452328817313373
          ],
          [
           14.110023536500323
          ],
          [
           18.742495223596404
          ],
          [
           13.012985599428344
          ],
          [
           14.400925035526784
          ],
          [
           15.468118524462641
          ],
          [
           17.862601634673315
          ],
          [
           6.374328098192308
          ],
          [
           3.941966686957609
          ],
          [
           2.491543633603245
          ],
          [
           2.072695194265893
          ],
          [
           1.876588170915463
          ],
          [
           1.3950873583661902
          ],
          [
           1.4664368149109448
          ],
          [
           1.2047124838868082
          ],
          [
           1.0865344800047247
          ],
          [
           1.3170624032419123
          ],
          [
           13.839259977679403
          ],
          [
           18.256906483899378
          ],
          [
           14.066514452730498
          ],
          [
           14.592660818188214
          ],
          [
           14.404859810085053
          ],
          [
           17.728686040386087
          ],
          [
           6.286465979852118
          ],
          [
           4.436006092678803
          ],
          [
           1.5367574314333554
          ],
          [
           1.9803828473746208
          ],
          [
           1.7808612969890132
          ],
          [
           1.286658732804865
          ],
          [
           1.5461069844849653
          ],
          [
           1.55949932938758
          ],
          [
           1.4574927071447257
          ],
          [
           1.0249949425419347
          ],
          [
           13.23497758146559
          ],
          [
           16.174149976012938
          ],
          [
           15.235504393794947
          ],
          [
           13.047746275433518
          ],
          [
           14.658972490099107
          ],
          [
           15.946392785147506
          ],
          [
           4.557472624299882
          ],
          [
           3.6507906993957926
          ],
          [
           1.914105272535951
          ],
          [
           1.78643165098344
          ],
          [
           1.2557992082384941
          ],
          [
           1.7098526597391444
          ],
          [
           1.2442324777893352
          ],
          [
           0.9280287316469084
          ],
          [
           0.3135848260320812
          ],
          [
           1.305198550369745
          ],
          [
           14.115949511070411
          ],
          [
           14.949526822302099
          ],
          [
           14.406565139090347
          ],
          [
           13.079419001100051
          ],
          [
           14.014104269577514
          ],
          [
           15.628404770545142
          ],
          [
           6.034450160614703
          ],
          [
           3.731866815292238
          ],
          [
           2.4257431327353656
          ],
          [
           2.162673793312928
          ],
          [
           1.6512433571973264
          ],
          [
           1.6353961017473142
          ],
          [
           1.5651243491211198
          ],
          [
           1.5062588387300986
          ],
          [
           1.089978090404632
          ],
          [
           0.5273019735870279
          ],
          [
           14.099318665118144
          ],
          [
           13.428550274446774
          ],
          [
           14.583342117762502
          ],
          [
           12.932947669333693
          ],
          [
           14.108271573280446
          ],
          [
           15.400741534743071
          ],
          [
           6.535261434857063
          ],
          [
           3.6553038619457903
          ],
          [
           2.3029192975771235
          ],
          [
           1.7944617991224987
          ],
          [
           1.649103089331852
          ],
          [
           1.9695888562272874
          ],
          [
           1.3776211737620865
          ],
          [
           0.5954163168222638
          ],
          [
           1.122367147120538
          ],
          [
           1.160703297054995
          ],
          [
           13.542346117899848
          ],
          [
           12.87506099502651
          ],
          [
           13.180097686520623
          ],
          [
           13.036005276943353
          ],
          [
           14.735526724555287
          ],
          [
           15.572573157617507
          ],
          [
           6.246184813941068
          ],
          [
           2.571828680896502
          ],
          [
           2.2936816557957647
          ],
          [
           3.03580952074625
          ],
          [
           1.628829498806784
          ],
          [
           1.8424707104063756
          ],
          [
           1.4693398311875316
          ],
          [
           1.4675235394462227
          ],
          [
           1.2864705892481514
          ],
          [
           1.035719028067164
          ]
         ],
         "hovertemplate": "$\\beta = $%{x}<br>$T = $%{y}<br>$\\ln|\\max \\mathcal{U}\\'[1]| = $%{z}<br>$\\ln|\\max \\mathcal{U}\\'[0]| = $%{customdata[0]}",
         "legendgroup": "",
         "marker": {
          "color": [
           11.46718112408897,
           11.107726989516996,
           11.388991488734638,
           11.344337814199646,
           11.753348118001629,
           11.937474176861182,
           1.352800792313874,
           0.6771508127099355,
           0.3483837436589341,
           0.15093026299098894,
           0.01901761574433384,
           -0.07475465139634196,
           -0.1441650743076873,
           -0.19668822016346643,
           -0.23801672062445176,
           -0.2714529802330095,
           25.211814465806828,
           25.08884901234508,
           27.116885003532488,
           27.340724183373464,
           27.01714256190353,
           27.954498870274517,
           5.621678133152789,
           4.008179095193589,
           2.4587690288754143,
           2.5926997285768256,
           1.722481529628584,
           1.5797064605328421,
           1.510911153194496,
           1.565101121548523,
           0.9479623818438749,
           1.042660176906978,
           20.50397080156503,
           20.26127197552081,
           17.8773169668875,
           17.568451753306665,
           18.16811295428911,
           17.688108540804585,
           6.4160184504170825,
           4.491587610821666,
           3.409892447416561,
           2.392772910001595,
           2.353265276565714,
           2.3173233224485426,
           1.376761971607427,
           1.335813592793469,
           0.8518691086039057,
           0.7710032971628784,
           18.259715430842462,
           18.414433045350542,
           18.651000279479177,
           18.74350160937195,
           18.711178391330666,
           18.808467472370314,
           7.232590236674717,
           3.865939754900645,
           2.5496305515343924,
           3.58622001463817,
           2.033839382666337,
           1.8606219703091884,
           1.418987670290392,
           1.3383682274671698,
           1.443971755279647,
           0.82346050415281,
           18.305966665434894,
           18.356060030652426,
           18.431158682189764,
           18.423620412951973,
           18.362715111155463,
           18.340205347391233,
           7.121916899054545,
           4.415831191237595,
           4.593154105078357,
           2.546741589413508,
           1.5828594379689835,
           2.044446205016566,
           1.9061164864794549,
           1.4770583990872304,
           1.2706338384539815,
           1.194261578842975,
           17.617515361067696,
           17.629566829023595,
           17.469926772895064,
           17.28946689162294,
           16.94597360711707,
           16.692562556126255,
           8.168398705616923,
           5.477275114107376,
           3.5244429788331564,
           1.3586240990089764,
           2.246416256505757,
           1.4823441652848968,
           1.7978602140290785,
           1.5279701184442813,
           1.4188589688096802,
           1.1039125922418553,
           16.33463434006321,
           16.352333507585758,
           16.038142906046954,
           15.810538041877235,
           15.463759950949706,
           15.719551375135561,
           7.925862504526997,
           5.4514408979451945,
           2.957609808078911,
           2.3206150639417737,
           1.2768496652213983,
           1.4156231764093397,
           1.1200638547685364,
           0.7289444725000238,
           1.1499934426626581,
           0.998460922999036,
           15.272317408640726,
           15.269617189307237,
           15.00197959858464,
           15.181884116390208,
           15.840111833299716,
           15.789130669861672,
           8.403593912560062,
           5.543798861470985,
           3.6614770635714415,
           2.0974760268475854,
           1.09841660268306,
           1.8637682349991451,
           1.6996214168481685,
           1.1771754874265192,
           1.1785961829233949,
           1.156915830670016,
           15.567478083855924,
           15.123334231004277,
           14.995823393993032,
           15.266706808559173,
           15.60758138391323,
           15.43496392308325,
           8.723782707919977,
           5.832900121345882,
           3.14952450187155,
           1.6740806621498923,
           1.8517442145197602,
           1.7643940629951111,
           1.5914484225826562,
           1.4915516663147756,
           1.402567448343076,
           1.1206563224838022,
           15.285876493790738,
           15.09118836254189,
           14.772399886229639,
           14.833835747015462,
           15.20385116975404,
           14.958452623396624,
           8.56627415941718,
           5.504046153994756,
           2.8512172184178812,
           2.0986507157916696,
           1.9690123390024745,
           1.3733618409915116,
           1.221296875778135,
           1.2134286451750778,
           2.2621267333273227,
           1.0832528996651667,
           15.119029787800804,
           14.948201537992801,
           14.412688800362062,
           14.421620427321095,
           14.734754625348558,
           14.563839863019098,
           8.738566106328173,
           5.612220984271972,
           1.3592022999907618,
           2.559649639953672,
           1.8483822833729184,
           1.3213117993306231,
           1.3483475021978506,
           1.3538390880716196,
           0.9932589445799753,
           0.8306193020648598,
           14.83943165435259,
           14.544158146254517,
           14.02174026188517,
           13.998373469474817,
           14.465347292520804,
           14.590974389146117,
           8.563415638188946,
           5.59912884355904,
           1.2438540028139913,
           2.61553151775448,
           1.714399400687277,
           1.2242644950995738,
           1.122240614387176,
           1.2105242148352142,
           1.0709198309691956,
           0.33848278992509095,
           14.79092963447826,
           14.084430522301462,
           13.638692812652536,
           14.489788686740177,
           15.1323135379627,
           15.454774308361028,
           8.14981944838385,
           5.3492851122464815,
           2.82744206082039,
           2.19545443203651,
           2.051836708957099,
           1.8463622168492406,
           1.6486199757552658,
           0.9700431037232284,
           1.1033480002870855,
           0.9713186500889741,
           14.283629963091208,
           13.925760202990542,
           13.786449349925778,
           13.303176795666058,
           15.043366778562396,
           16.677257981612023,
           9.911796616820972,
           4.976646252569219,
           2.8331588333204443,
           1.6774901005908371,
           2.3915027010078553,
           1.4339294322836207,
           1.7216403036503674,
           1.503494730068319,
           1.0988730839902323,
           1.190784059737609,
           14.052502202660813,
           13.62251348116686,
           13.167527205862967,
           16.992227774086963,
           15.319349414903249,
           16.158712066676294,
           7.965177270232573,
           4.520981575603782,
           3.003754796783724,
           2.8395250880797187,
           2.7262374504684117,
           1.4739283816397735,
           1.4880913497442734,
           1.4847075123227447,
           1.1554852336645767,
           0.9424414936892067,
           13.799208511058756,
           13.360778336389085,
           13.334105111804213,
           16.268882684554036,
           16.675208439598403,
           17.34903856942455,
           7.78196541844881,
           3.672964270451098,
           2.809683867416009,
           2.0915843852919758,
           1.961022041800657,
           1.2224808616920133,
           1.2653656816860035,
           1.0800161732298101,
           1.204074911309532,
           0.8886083087801637,
           13.736725179028877,
           15.946718400385663,
           14.158522150110935,
           16.737243786312522,
           16.76093053916416,
           16.37734416342395,
           7.530233591496471,
           3.4908251931125043,
           3.1351566085690292,
           2.5651853962741304,
           2.3886625398206904,
           1.4365142693691766,
           1.6139602065721679,
           1.0352437263561423,
           1.1857411130295852,
           0.8563871599320059,
           14.334857594650893,
           16.9671510386336,
           14.864960417382598,
           16.571318907009477,
           17.169318107476734,
           15.430589337757326,
           7.3829696716528215,
           3.085596199992172,
           2.6689863302379235,
           1.8290185894147164,
           1.6920331174482754,
           1.7670285678106659,
           1.5572686631958255,
           1.2727053228739909,
           1.181090320903177,
           1.2071693156713121,
           14.118626762590422,
           15.422414119508025,
           15.390649412718847,
           16.664086218004275,
           17.39205873398972,
           15.024546393874612,
           7.490130608112834,
           3.442201616023543,
           2.717715355533106,
           1.9373545978507718,
           1.6774720243737082,
           1.8385355393123732,
           1.5338722695367129,
           1.0832735940412526,
           1.10949930050138,
           1.2695240694878651,
           14.423276865380918,
           15.165735551217466,
           15.54928485204804,
           16.525163665351712,
           17.42941971542873,
           15.451453227853118,
           6.515011843346767,
           3.4814164701382078,
           2.768253378408215,
           2.7860320139717354,
           1.9506162398788092,
           1.9110168484555583,
           1.49511902138681,
           1.2870835129733496,
           1.1006873416484555,
           1.1182979629234373,
           14.063402952646616,
           15.958596444406574,
           15.466690324281089,
           16.43280768558192,
           17.351701497684335,
           14.998864542140703,
           7.542742470144153,
           3.6512731080427043,
           2.389160808778889,
           2.306327827576868,
           1.8902232805819388,
           1.6703920749428982,
           1.2481930677978412,
           1.0212659112999138,
           0.9413632191881476,
           1.3965316069001366,
           13.87739734509578,
           17.393999441948058,
           14.78175808673859,
           16.29835772770609,
           17.170988518240474,
           15.223458533345248,
           6.724473996901644,
           3.8540132986863207,
           3.0718470691743596,
           2.4515873574525058,
           2.2986249278244024,
           1.6107599963832726,
           1.5774422504512207,
           1.3016456007283668,
           1.2882953624950708,
           0.9493946687515814,
           12.729665035936247,
           15.36779886769389,
           14.01401029797255,
           16.955860797456683,
           17.128609533582942,
           15.884419907716019,
           6.353046103470516,
           3.8337565544944816,
           3.1862319988554235,
           2.5563398251806433,
           1.9436383493929275,
           1.3841613171962837,
           1.2600707929356916,
           1.25987098673801,
           1.5466173864671386,
           1.1555637017109626,
           12.632859621974799,
           14.330129144526476,
           13.75301551483005,
           16.114103186649857,
           16.54677345195226,
           16.147745734777512,
           6.29666704395108,
           4.427360473867433,
           2.9814552429612347,
           2.004014746933268,
           1.7868662940471964,
           1.6781542953151178,
           1.2424142505474076,
           1.2189035669320207,
           0.9743075578983896,
           1.2338830032183081,
           14.536766137808174,
           12.776048838833015,
           13.063567017718784,
           16.827210414318433,
           16.491306783266754,
           16.717642181518237,
           5.762612365120533,
           4.058070960053687,
           2.4132931884204236,
           2.164618507633221,
           1.8669695578469097,
           1.4728194978843585,
           1.2797573077566837,
           1.0731669555814405,
           1.010555261607824,
           1.1898132277827684,
           15.03789841673744,
           16.282419993450013,
           12.931176803233285,
           15.71212889983585,
           15.669281176213534,
           16.897519993944442,
           5.732502216434684,
           3.241845680182336,
           3.3492816622913564,
           2.464720682478506,
           1.656998888487579,
           1.77599145302711,
           1.6066555792467334,
           1.4512611862668077,
           1.1333333752833723,
           0.8452328817313373,
           14.110023536500323,
           18.742495223596404,
           13.012985599428344,
           14.400925035526784,
           15.468118524462641,
           17.862601634673315,
           6.374328098192308,
           3.941966686957609,
           2.491543633603245,
           2.072695194265893,
           1.876588170915463,
           1.3950873583661902,
           1.4664368149109448,
           1.2047124838868082,
           1.0865344800047247,
           1.3170624032419123,
           13.839259977679403,
           18.256906483899378,
           14.066514452730498,
           14.592660818188214,
           14.404859810085053,
           17.728686040386087,
           6.286465979852118,
           4.436006092678803,
           1.5367574314333554,
           1.9803828473746208,
           1.7808612969890132,
           1.286658732804865,
           1.5461069844849653,
           1.55949932938758,
           1.4574927071447257,
           1.0249949425419347,
           13.23497758146559,
           16.174149976012938,
           15.235504393794947,
           13.047746275433518,
           14.658972490099107,
           15.946392785147506,
           4.557472624299882,
           3.6507906993957926,
           1.914105272535951,
           1.78643165098344,
           1.2557992082384941,
           1.7098526597391444,
           1.2442324777893352,
           0.9280287316469084,
           0.3135848260320812,
           1.305198550369745,
           14.115949511070411,
           14.949526822302099,
           14.406565139090347,
           13.079419001100051,
           14.014104269577514,
           15.628404770545142,
           6.034450160614703,
           3.731866815292238,
           2.4257431327353656,
           2.162673793312928,
           1.6512433571973264,
           1.6353961017473142,
           1.5651243491211198,
           1.5062588387300986,
           1.089978090404632,
           0.5273019735870279,
           14.099318665118144,
           13.428550274446774,
           14.583342117762502,
           12.932947669333693,
           14.108271573280446,
           15.400741534743071,
           6.535261434857063,
           3.6553038619457903,
           2.3029192975771235,
           1.7944617991224987,
           1.649103089331852,
           1.9695888562272874,
           1.3776211737620865,
           0.5954163168222638,
           1.122367147120538,
           1.160703297054995,
           13.542346117899848,
           12.87506099502651,
           13.180097686520623,
           13.036005276943353,
           14.735526724555287,
           15.572573157617507,
           6.246184813941068,
           2.571828680896502,
           2.2936816557957647,
           3.03580952074625,
           1.628829498806784,
           1.8424707104063756,
           1.4693398311875316,
           1.4675235394462227,
           1.2864705892481514,
           1.035719028067164
          ],
          "coloraxis": "coloraxis",
          "size": 5,
          "symbol": "circle"
         },
         "mode": "markers",
         "name": "",
         "scene": "scene",
         "showlegend": false,
         "type": "scatter3d",
         "x": [
          0,
          0.035,
          0.07,
          0.105,
          0.14,
          0.175,
          0.21,
          0.245,
          0.28,
          0.315,
          0.35,
          0.385,
          0.42,
          0.455,
          0.49,
          0.525,
          0,
          0.035,
          0.07,
          0.105,
          0.14,
          0.175,
          0.21,
          0.245,
          0.28,
          0.315,
          0.35,
          0.385,
          0.42,
          0.455,
          0.49,
          0.525,
          0,
          0.035,
          0.07,
          0.105,
          0.14,
          0.175,
          0.21,
          0.245,
          0.28,
          0.315,
          0.35,
          0.385,
          0.42,
          0.455,
          0.49,
          0.525,
          0,
          0.035,
          0.07,
          0.105,
          0.14,
          0.175,
          0.21,
          0.245,
          0.28,
          0.315,
          0.35,
          0.385,
          0.42,
          0.455,
          0.49,
          0.525,
          0,
          0.035,
          0.07,
          0.105,
          0.14,
          0.175,
          0.21,
          0.245,
          0.28,
          0.315,
          0.35,
          0.385,
          0.42,
          0.455,
          0.49,
          0.525,
          0,
          0.035,
          0.07,
          0.105,
          0.14,
          0.175,
          0.21,
          0.245,
          0.28,
          0.315,
          0.35,
          0.385,
          0.42,
          0.455,
          0.49,
          0.525,
          0,
          0.035,
          0.07,
          0.105,
          0.14,
          0.175,
          0.21,
          0.245,
          0.28,
          0.315,
          0.35,
          0.385,
          0.42,
          0.455,
          0.49,
          0.525,
          0,
          0.035,
          0.07,
          0.105,
          0.14,
          0.175,
          0.21,
          0.245,
          0.28,
          0.315,
          0.35,
          0.385,
          0.42,
          0.455,
          0.49,
          0.525,
          0,
          0.035,
          0.07,
          0.105,
          0.14,
          0.175,
          0.21,
          0.245,
          0.28,
          0.315,
          0.35,
          0.385,
          0.42,
          0.455,
          0.49,
          0.525,
          0,
          0.035,
          0.07,
          0.105,
          0.14,
          0.175,
          0.21,
          0.245,
          0.28,
          0.315,
          0.35,
          0.385,
          0.42,
          0.455,
          0.49,
          0.525,
          0,
          0.035,
          0.07,
          0.105,
          0.14,
          0.175,
          0.21,
          0.245,
          0.28,
          0.315,
          0.35,
          0.385,
          0.42,
          0.455,
          0.49,
          0.525,
          0,
          0.035,
          0.07,
          0.105,
          0.14,
          0.175,
          0.21,
          0.245,
          0.28,
          0.315,
          0.35,
          0.385,
          0.42,
          0.455,
          0.49,
          0.525,
          0,
          0.035,
          0.07,
          0.105,
          0.14,
          0.175,
          0.21,
          0.245,
          0.28,
          0.315,
          0.35,
          0.385,
          0.42,
          0.455,
          0.49,
          0.525,
          0,
          0.035,
          0.07,
          0.105,
          0.14,
          0.175,
          0.21,
          0.245,
          0.28,
          0.315,
          0.35,
          0.385,
          0.42,
          0.455,
          0.49,
          0.525,
          0,
          0.035,
          0.07,
          0.105,
          0.14,
          0.175,
          0.21,
          0.245,
          0.28,
          0.315,
          0.35,
          0.385,
          0.42,
          0.455,
          0.49,
          0.525,
          0,
          0.035,
          0.07,
          0.105,
          0.14,
          0.175,
          0.21,
          0.245,
          0.28,
          0.315,
          0.35,
          0.385,
          0.42,
          0.455,
          0.49,
          0.525,
          0,
          0.035,
          0.07,
          0.105,
          0.14,
          0.175,
          0.21,
          0.245,
          0.28,
          0.315,
          0.35,
          0.385,
          0.42,
          0.455,
          0.49,
          0.525,
          0,
          0.035,
          0.07,
          0.105,
          0.14,
          0.175,
          0.21,
          0.245,
          0.28,
          0.315,
          0.35,
          0.385,
          0.42,
          0.455,
          0.49,
          0.525,
          0,
          0.035,
          0.07,
          0.105,
          0.14,
          0.175,
          0.21,
          0.245,
          0.28,
          0.315,
          0.35,
          0.385,
          0.42,
          0.455,
          0.49,
          0.525,
          0,
          0.035,
          0.07,
          0.105,
          0.14,
          0.175,
          0.21,
          0.245,
          0.28,
          0.315,
          0.35,
          0.385,
          0.42,
          0.455,
          0.49,
          0.525,
          0,
          0.035,
          0.07,
          0.105,
          0.14,
          0.175,
          0.21,
          0.245,
          0.28,
          0.315,
          0.35,
          0.385,
          0.42,
          0.455,
          0.49,
          0.525,
          0,
          0.035,
          0.07,
          0.105,
          0.14,
          0.175,
          0.21,
          0.245,
          0.28,
          0.315,
          0.35,
          0.385,
          0.42,
          0.455,
          0.49,
          0.525,
          0,
          0.035,
          0.07,
          0.105,
          0.14,
          0.175,
          0.21,
          0.245,
          0.28,
          0.315,
          0.35,
          0.385,
          0.42,
          0.455,
          0.49,
          0.525,
          0,
          0.035,
          0.07,
          0.105,
          0.14,
          0.175,
          0.21,
          0.245,
          0.28,
          0.315,
          0.35,
          0.385,
          0.42,
          0.455,
          0.49,
          0.525,
          0,
          0.035,
          0.07,
          0.105,
          0.14,
          0.175,
          0.21,
          0.245,
          0.28,
          0.315,
          0.35,
          0.385,
          0.42,
          0.455,
          0.49,
          0.525,
          0,
          0.035,
          0.07,
          0.105,
          0.14,
          0.175,
          0.21,
          0.245,
          0.28,
          0.315,
          0.35,
          0.385,
          0.42,
          0.455,
          0.49,
          0.525,
          0,
          0.035,
          0.07,
          0.105,
          0.14,
          0.175,
          0.21,
          0.245,
          0.28,
          0.315,
          0.35,
          0.385,
          0.42,
          0.455,
          0.49,
          0.525,
          0,
          0.035,
          0.07,
          0.105,
          0.14,
          0.175,
          0.21,
          0.245,
          0.28,
          0.315,
          0.35,
          0.385,
          0.42,
          0.455,
          0.49,
          0.525,
          0,
          0.035,
          0.07,
          0.105,
          0.14,
          0.175,
          0.21,
          0.245,
          0.28,
          0.315,
          0.35,
          0.385,
          0.42,
          0.455,
          0.49,
          0.525,
          0,
          0.035,
          0.07,
          0.105,
          0.14,
          0.175,
          0.21,
          0.245,
          0.28,
          0.315,
          0.35,
          0.385,
          0.42,
          0.455,
          0.49,
          0.525,
          0,
          0.035,
          0.07,
          0.105,
          0.14,
          0.175,
          0.21,
          0.245,
          0.28,
          0.315,
          0.35,
          0.385,
          0.42,
          0.455,
          0.49,
          0.525,
          0,
          0.035,
          0.07,
          0.105,
          0.14,
          0.175,
          0.21,
          0.245,
          0.28,
          0.315,
          0.35,
          0.385,
          0.42,
          0.455,
          0.49,
          0.525
         ],
         "y": [
          0,
          0,
          0,
          0,
          0,
          0,
          0,
          0,
          0,
          0,
          0,
          0,
          0,
          0,
          0,
          0,
          0.05,
          0.05,
          0.05,
          0.05,
          0.05,
          0.05,
          0.05,
          0.05,
          0.05,
          0.05,
          0.05,
          0.05,
          0.05,
          0.05,
          0.05,
          0.05,
          0.1,
          0.1,
          0.1,
          0.1,
          0.1,
          0.1,
          0.1,
          0.1,
          0.1,
          0.1,
          0.1,
          0.1,
          0.1,
          0.1,
          0.1,
          0.1,
          0.15,
          0.15,
          0.15,
          0.15,
          0.15,
          0.15,
          0.15,
          0.15,
          0.15,
          0.15,
          0.15,
          0.15,
          0.15,
          0.15,
          0.15,
          0.15,
          0.2,
          0.2,
          0.2,
          0.2,
          0.2,
          0.2,
          0.2,
          0.2,
          0.2,
          0.2,
          0.2,
          0.2,
          0.2,
          0.2,
          0.2,
          0.2,
          0.25,
          0.25,
          0.25,
          0.25,
          0.25,
          0.25,
          0.25,
          0.25,
          0.25,
          0.25,
          0.25,
          0.25,
          0.25,
          0.25,
          0.25,
          0.25,
          0.3,
          0.3,
          0.3,
          0.3,
          0.3,
          0.3,
          0.3,
          0.3,
          0.3,
          0.3,
          0.3,
          0.3,
          0.3,
          0.3,
          0.3,
          0.3,
          0.35,
          0.35,
          0.35,
          0.35,
          0.35,
          0.35,
          0.35,
          0.35,
          0.35,
          0.35,
          0.35,
          0.35,
          0.35,
          0.35,
          0.35,
          0.35,
          0.4,
          0.4,
          0.4,
          0.4,
          0.4,
          0.4,
          0.4,
          0.4,
          0.4,
          0.4,
          0.4,
          0.4,
          0.4,
          0.4,
          0.4,
          0.4,
          0.45,
          0.45,
          0.45,
          0.45,
          0.45,
          0.45,
          0.45,
          0.45,
          0.45,
          0.45,
          0.45,
          0.45,
          0.45,
          0.45,
          0.45,
          0.45,
          0.5,
          0.5,
          0.5,
          0.5,
          0.5,
          0.5,
          0.5,
          0.5,
          0.5,
          0.5,
          0.5,
          0.5,
          0.5,
          0.5,
          0.5,
          0.5,
          0.55,
          0.55,
          0.55,
          0.55,
          0.55,
          0.55,
          0.55,
          0.55,
          0.55,
          0.55,
          0.55,
          0.55,
          0.55,
          0.55,
          0.55,
          0.55,
          0.6,
          0.6,
          0.6,
          0.6,
          0.6,
          0.6,
          0.6,
          0.6,
          0.6,
          0.6,
          0.6,
          0.6,
          0.6,
          0.6,
          0.6,
          0.6,
          0.65,
          0.65,
          0.65,
          0.65,
          0.65,
          0.65,
          0.65,
          0.65,
          0.65,
          0.65,
          0.65,
          0.65,
          0.65,
          0.65,
          0.65,
          0.65,
          0.7,
          0.7,
          0.7,
          0.7,
          0.7,
          0.7,
          0.7,
          0.7,
          0.7,
          0.7,
          0.7,
          0.7,
          0.7,
          0.7,
          0.7,
          0.7,
          0.75,
          0.75,
          0.75,
          0.75,
          0.75,
          0.75,
          0.75,
          0.75,
          0.75,
          0.75,
          0.75,
          0.75,
          0.75,
          0.75,
          0.75,
          0.75,
          0.8,
          0.8,
          0.8,
          0.8,
          0.8,
          0.8,
          0.8,
          0.8,
          0.8,
          0.8,
          0.8,
          0.8,
          0.8,
          0.8,
          0.8,
          0.8,
          0.85,
          0.85,
          0.85,
          0.85,
          0.85,
          0.85,
          0.85,
          0.85,
          0.85,
          0.85,
          0.85,
          0.85,
          0.85,
          0.85,
          0.85,
          0.85,
          0.9,
          0.9,
          0.9,
          0.9,
          0.9,
          0.9,
          0.9,
          0.9,
          0.9,
          0.9,
          0.9,
          0.9,
          0.9,
          0.9,
          0.9,
          0.9,
          0.95,
          0.95,
          0.95,
          0.95,
          0.95,
          0.95,
          0.95,
          0.95,
          0.95,
          0.95,
          0.95,
          0.95,
          0.95,
          0.95,
          0.95,
          0.95,
          1,
          1,
          1,
          1,
          1,
          1,
          1,
          1,
          1,
          1,
          1,
          1,
          1,
          1,
          1,
          1,
          1.05,
          1.05,
          1.05,
          1.05,
          1.05,
          1.05,
          1.05,
          1.05,
          1.05,
          1.05,
          1.05,
          1.05,
          1.05,
          1.05,
          1.05,
          1.05,
          1.1,
          1.1,
          1.1,
          1.1,
          1.1,
          1.1,
          1.1,
          1.1,
          1.1,
          1.1,
          1.1,
          1.1,
          1.1,
          1.1,
          1.1,
          1.1,
          1.15,
          1.15,
          1.15,
          1.15,
          1.15,
          1.15,
          1.15,
          1.15,
          1.15,
          1.15,
          1.15,
          1.15,
          1.15,
          1.15,
          1.15,
          1.15,
          1.2,
          1.2,
          1.2,
          1.2,
          1.2,
          1.2,
          1.2,
          1.2,
          1.2,
          1.2,
          1.2,
          1.2,
          1.2,
          1.2,
          1.2,
          1.2,
          1.25,
          1.25,
          1.25,
          1.25,
          1.25,
          1.25,
          1.25,
          1.25,
          1.25,
          1.25,
          1.25,
          1.25,
          1.25,
          1.25,
          1.25,
          1.25,
          1.3,
          1.3,
          1.3,
          1.3,
          1.3,
          1.3,
          1.3,
          1.3,
          1.3,
          1.3,
          1.3,
          1.3,
          1.3,
          1.3,
          1.3,
          1.3,
          1.35,
          1.35,
          1.35,
          1.35,
          1.35,
          1.35,
          1.35,
          1.35,
          1.35,
          1.35,
          1.35,
          1.35,
          1.35,
          1.35,
          1.35,
          1.35,
          1.4,
          1.4,
          1.4,
          1.4,
          1.4,
          1.4,
          1.4,
          1.4,
          1.4,
          1.4,
          1.4,
          1.4,
          1.4,
          1.4,
          1.4,
          1.4,
          1.45,
          1.45,
          1.45,
          1.45,
          1.45,
          1.45,
          1.45,
          1.45,
          1.45,
          1.45,
          1.45,
          1.45,
          1.45,
          1.45,
          1.45,
          1.45,
          1.5,
          1.5,
          1.5,
          1.5,
          1.5,
          1.5,
          1.5,
          1.5,
          1.5,
          1.5,
          1.5,
          1.5,
          1.5,
          1.5,
          1.5,
          1.5,
          1.55,
          1.55,
          1.55,
          1.55,
          1.55,
          1.55,
          1.55,
          1.55,
          1.55,
          1.55,
          1.55,
          1.55,
          1.55,
          1.55,
          1.55,
          1.55
         ],
         "z": [
          11.46718112408897,
          11.107726989516996,
          11.388991488734638,
          11.344337814199646,
          11.753348118001629,
          11.937474176861182,
          1.352800792313874,
          0.6771508127099355,
          0.3483837436589341,
          0.15093026299098894,
          0.01901761574433384,
          -0.07475465139634196,
          -0.1441650743076873,
          -0.19668822016346643,
          -0.23801672062445176,
          -0.2714529802330095,
          617.8061529342082,
          602.2766658821917,
          521.5695039841327,
          519.4179351614189,
          606.582979869938,
          570.5887866379077,
          425.6147653053082,
          245.99856651185905,
          151.76755740651427,
          107.0620229274543,
          85.74873845314985,
          71.93507371241218,
          60.56891757289692,
          49.1507841807004,
          42.21900336704562,
          35.45898712632258,
          618.745760701233,
          603.2560104183898,
          521.3997491389664,
          518.1525054170115,
          605.0200597387703,
          567.5207929918677,
          426.94445434868265,
          247.0718407594086,
          158.01011581713485,
          115.68028883709162,
          90.04410208798582,
          74.1333258380071,
          62.06315015516967,
          50.54756388913793,
          43.64639219231878,
          36.92593261082578,
          664.377983791097,
          593.075454880504,
          512.5863944028706,
          509.7838536766572,
          597.1457545382742,
          560.7115636560195,
          427.07500932052807,
          247.53311703344647,
          153.32823846066913,
          107.7627833572041,
          85.77987681348557,
          72.12002596526092,
          61.191071989722175,
          50.19666096658113,
          43.509878488105095,
          36.89115130207604,
          664.2623939309343,
          592.8725124096181,
          512.2281396425113,
          509.3906504250619,
          596.8168585501707,
          560.3181698530034,
          426.1608738651047,
          249.52853279923437,
          159.71908619447288,
          114.45639468374009,
          88.94307316160749,
          72.9085054300227,
          60.798475520221054,
          49.26540834237743,
          42.35160524667971,
          36.02740629152061,
          616.2306145014783,
          601.5493820790427,
          519.016769035538,
          514.6021649951092,
          602.2570261867015,
          564.1613322553936,
          424.6558281915165,
          248.46263958735304,
          157.9149868648429,
          112.0801165455462,
          86.49213064831898,
          70.4366028138937,
          58.322037976813974,
          47.127617113584435,
          41.09748090768813,
          37.87855257326635,
          662.2441424052271,
          591.4132019719256,
          517.543517001792,
          511.7561608012775,
          600.0617775803057,
          565.0422980578044,
          426.6955174207468,
          248.1909020812122,
          153.89425695046,
          108.60337896676342,
          82.42118916562337,
          71.81227840453975,
          61.93800605606091,
          49.619728555363785,
          42.10656867501571,
          35.06779238807194,
          664.3592978150956,
          593.0503102057818,
          512.4355232608777,
          509.6363861336156,
          597.1219594534551,
          560.6458447662988,
          425.452594556711,
          245.08791148382647,
          150.9280912469428,
          112.49599255976837,
          85.67287118956602,
          68.93106241909543,
          56.524507373906616,
          44.70218043864249,
          37.917433108873844,
          35.048322392532405,
          662.4773412851392,
          591.3310316171356,
          511.3438260595617,
          508.65699063859444,
          595.9444480466401,
          559.6846263721085,
          421.85936772226216,
          244.937761811961,
          151.49380709326493,
          105.69381821157894,
          82.81808153617604,
          70.4840944393632,
          55.92939925541965,
          44.22728127897026,
          39.46829430478515,
          42.204004775488826,
          649.4187329005792,
          591.9258144586792,
          509.6816119908869,
          507.8734198833852,
          601.4070350585954,
          560.5480253239314,
          425.8216886968974,
          242.85105801950186,
          151.1986155450305,
          107.63802891448351,
          80.75301397808104,
          63.77532319870424,
          58.07875417412807,
          44.53783031289426,
          36.24544066360045,
          28.354389168326712,
          663.6522194744115,
          592.2742013588381,
          511.3080761297626,
          511.238640653249,
          604.5988591898802,
          562.357369583924,
          419.75831654377725,
          244.82768801503084,
          147.80259415896,
          108.28658459551923,
          79.54619594512987,
          65.10392884483672,
          55.05459646774426,
          41.13397455008099,
          35.51057075972024,
          31.027748786925777,
          662.4189308239643,
          590.412729720257,
          508.26646559413814,
          504.4068602187962,
          591.5561994078295,
          554.6067355392443,
          419.89229907080755,
          241.28338299262523,
          149.3984345569849,
          102.83980915124555,
          81.92098849822,
          62.65146200556295,
          55.13413523079178,
          40.14162477158434,
          38.239761333273655,
          28.11392424344595,
          657.4655574804498,
          585.6080308896568,
          505.25957355197124,
          502.4464330709353,
          589.1841635507238,
          552.4683221458365,
          419.86096458469245,
          239.8214769901555,
          144.88137634905394,
          100.96861550672375,
          76.2930673893839,
          58.93796044845101,
          46.06336116361765,
          34.10414280548645,
          27.16523325331051,
          20.085406602663504,
          655.52365195089,
          584.3158705449079,
          503.3556538750122,
          500.47630200228235,
          587.6506933254146,
          551.0934232484134,
          414.6092649961981,
          235.2291738282559,
          140.96701361382074,
          95.72116200547656,
          70.38112998053977,
          54.670597067956216,
          42.80978824413737,
          31.918108431325958,
          25.99176515506094,
          21.888992073500155,
          663.8400620161626,
          583.3920605317337,
          502.4073090227512,
          596.6491255749613,
          586.6855671766945,
          550.2997890739509,
          414.46785042299814,
          237.2958557012126,
          140.43464280142527,
          97.07041773469012,
          69.3692394971944,
          57.026663363661285,
          46.09280611291998,
          41.30821153927817,
          47.328248270559385,
          63.32325317611799,
          662.9413269556222,
          582.4829479015539,
          501.5291443174102,
          595.8934566613575,
          585.9479295820535,
          549.6106343356406,
          409.33822698094895,
          229.14380538084842,
          139.05572332438146,
          96.72307914394749,
          76.58708173263236,
          73.89812386454042,
          90.36745464378058,
          31.525163899619496,
          51.65679170106021,
          26.634039945002996,
          662.2323882553557,
          581.7052618930576,
          500.9002714498042,
          595.2209392325831,
          585.3631534106859,
          549.4625087967329,
          410.0622735296264,
          229.77591300917052,
          141.2416324211954,
          112.69783210991955,
          112.50684842738842,
          73.76448571787509,
          52.4105468503516,
          43.1100237488685,
          30.144159768736564,
          23.05939685439344,
          661.6659415151566,
          581.0625630926197,
          500.3528868352565,
          594.6508483227583,
          584.8830920824611,
          548.5443855424701,
          408.0059586269091,
          234.40146007054335,
          171.42398174431287,
          94.66402822639478,
          74.50822130114588,
          62.96547032024948,
          42.426568483618304,
          45.6629578666297,
          28.771620616700186,
          25.777271205107365,
          661.2051269430231,
          580.5305762689272,
          499.87047684167226,
          594.169530960212,
          584.4609507837521,
          548.1302420282802,
          408.0917228171423,
          263.0834453797838,
          161.89667640519804,
          106.38503948967191,
          67.44969923650409,
          60.29650683530465,
          48.46293087626809,
          36.11480901154776,
          29.665621802622343,
          22.405342559060085,
          660.7941720424767,
          580.0801040940789,
          499.49130071222464,
          593.7558591009331,
          584.0974893413069,
          547.7649981450434,
          418.7746523828907,
          237.19233625214943,
          145.76973388019076,
          91.45466474830178,
          71.15534133764302,
          53.02896102314978,
          45.78551727097398,
          33.23264110333821,
          25.838455654921347,
          20.379485138259867,
          660.4030137089761,
          579.6839600103511,
          499.1413410242779,
          593.3887303292581,
          583.7543567217747,
          547.4364356346089,
          434.5901215528637,
          243.25566194281382,
          135.50355019484087,
          93.36122416867286,
          68.80628816627016,
          55.64960847456068,
          42.29273206115728,
          32.29442490718401,
          26.532701076202322,
          20.802851306949776,
          660.049391150505,
          579.3190900614379,
          498.8161705397646,
          593.0506811924228,
          583.4292636440697,
          547.1284285272125,
          410.82470893570024,
          226.53810361897982,
          135.47367439806982,
          94.04267511630945,
          70.01802533566348,
          53.964885599390826,
          43.01926414859738,
          33.46464184885319,
          26.80017460518068,
          21.149269623565214,
          659.7123807720754,
          578.9669608467339,
          498.50722612844777,
          592.7265310830866,
          583.1114152749302,
          546.836821276537,
          413.02188061859107,
          228.9617495389717,
          136.91387515467355,
          92.00299121340944,
          68.69724473840802,
          54.70328219878653,
          43.434514897788475,
          32.59556265956047,
          26.594048409215635,
          20.489652773780787,
          659.380919409081,
          578.6074329779924,
          498.16763507083783,
          592.402334703801,
          583.3493359748315,
          546.5511851586473,
          404.10410477495896,
          227.51995951177327,
          135.97086392232202,
          92.91368694675442,
          67.7535147257988,
          52.987289881731144,
          43.2279007857893,
          32.43394876526355,
          26.976207299526482,
          20.822568756395942,
          659.0397216202501,
          580.1018346849412,
          497.9027316556204,
          592.0624052680514,
          582.5498426853268,
          546.2628182456313,
          403.97812108901627,
          227.35381580436578,
          136.03252142613184,
          91.52219597591959,
          69.58158118810061,
          54.05650437304395,
          43.05266054380678,
          32.39213158704278,
          22.75950489864848,
          10.734435073366365,
          658.6365318379696,
          577.7518638638037,
          497.6225929790886,
          591.6838093787087,
          583.5240460006638,
          546.0925958310739,
          404.2740321256358,
          225.4963291080125,
          124.49984884306832,
          83.8957656819094,
          62.60718468811689,
          54.67365361939717,
          24.633004901630237,
          1.4760682940807264,
          1.984584669627882,
          1.465819638187408,
          658.2890234315837,
          577.1101730033407,
          497.34607517233303,
          591.3485186086879,
          582.5978932694187,
          545.6273792065701,
          404.2408053844914,
          223.04048553527136,
          42.24926517063711,
          17.186327658615674,
          1.6140909970311608,
          2.1981356186532843,
          2.1668154675335036,
          1.536326253126215,
          1.5265439468726545,
          1.526436487738461,
          657.8975482257976,
          576.7881232081016,
          498.4862086509742,
          591.297518529823,
          581.6949125428978,
          545.2309148701324,
          400.99916826739377,
          182.8090261770692,
          45.99194434294038,
          7.949203523157588,
          1.6711473032904767,
          2.8690679799884498,
          2.628708334777092,
          1.5941679247553537,
          1.5845724499171978,
          1.584659305610344,
          657.7951323379458,
          579.0366882786057,
          498.09620826420206,
          591.0014946776747,
          581.2438342336807,
          544.8492061345582,
          398.3970220437896,
          192.3473059334485,
          49.600461286588974,
          7.153401892373802,
          1.7258398647933153,
          1.6786486265322922,
          1.6557088498940806,
          1.649809793594952,
          1.6404039431163575,
          1.6406886720889247,
          657.6535426003064,
          577.0042300603009,
          496.5585757246562,
          590.910277090643,
          581.1965914810953,
          544.5030230231125,
          394.8422616833355,
          203.40127040506172,
          67.060947706588,
          3.7127551411421216,
          1.7785015288483084,
          1.7351226948144105,
          1.7090440019726743,
          1.7034289830194491,
          1.6942151782174957,
          1.6947006464513508,
          657.7929411384722,
          577.4319830833097,
          496.6409572308582,
          591.1042581615502,
          581.0136992602623,
          546.515312860554,
          397.62175055625187,
          212.93591716858108,
          92.82537890963714,
          10.030753530493717,
          4.222645081576425,
          1.7862675065082052,
          1.760523748246585,
          1.7551825553701725,
          1.7461616567874816,
          1.7468507702307914,
          658.0922272122485,
          577.7039644219219,
          496.9352440209329,
          591.7176492074168,
          586.2011762065346,
          545.2812698728419,
          398.31248316415,
          217.4564822708083,
          115.37260523988618,
          13.257666677651168,
          1.8777585765374465,
          1.8355862756468695,
          1.8102152708514194,
          1.8052153283144712,
          1.7963827892887871,
          1.79727709801321
         ]
        }
       ],
       "layout": {
        "coloraxis": {
         "colorbar": {
          "title": {
           "text": "$\\ln|\\max \\mathcal{U}'[0]|$"
          }
         },
         "colorscale": [
          [
           0,
           "#30123b"
          ],
          [
           0.07142857142857142,
           "#4145ab"
          ],
          [
           0.14285714285714285,
           "#4675ed"
          ],
          [
           0.21428571428571427,
           "#39a2fc"
          ],
          [
           0.2857142857142857,
           "#1bcfd4"
          ],
          [
           0.35714285714285715,
           "#24eca6"
          ],
          [
           0.42857142857142855,
           "#61fc6c"
          ],
          [
           0.5,
           "#a4fc3b"
          ],
          [
           0.5714285714285714,
           "#d1e834"
          ],
          [
           0.6428571428571429,
           "#f3c63a"
          ],
          [
           0.7142857142857143,
           "#fe9b2d"
          ],
          [
           0.7857142857142857,
           "#f36315"
          ],
          [
           0.8571428571428571,
           "#d93806"
          ],
          [
           0.9285714285714286,
           "#b11901"
          ],
          [
           1,
           "#7a0402"
          ]
         ]
        },
        "legend": {
         "tracegroupgap": 0
        },
        "margin": {
         "t": 60
        },
        "scene": {
         "domain": {
          "x": [
           0,
           1
          ],
          "y": [
           0,
           1
          ]
         },
         "xaxis": {
          "range": [
           -0.01,
           0.6
          ],
          "title": {
           "text": "$\\beta$"
          }
         },
         "yaxis": {
          "title": {
           "text": "T"
          }
         },
         "zaxis": {
          "title": {
           "text": "$\\ln|\\max \\mathcal{U}\\'[0]|$"
          }
         }
        },
        "template": {
         "data": {
          "bar": [
           {
            "error_x": {
             "color": "rgb(51,51,51)"
            },
            "error_y": {
             "color": "rgb(51,51,51)"
            },
            "marker": {
             "line": {
              "color": "rgb(237,237,237)",
              "width": 0.5
             },
             "pattern": {
              "fillmode": "overlay",
              "size": 10,
              "solidity": 0.2
             }
            },
            "type": "bar"
           }
          ],
          "barpolar": [
           {
            "marker": {
             "line": {
              "color": "rgb(237,237,237)",
              "width": 0.5
             },
             "pattern": {
              "fillmode": "overlay",
              "size": 10,
              "solidity": 0.2
             }
            },
            "type": "barpolar"
           }
          ],
          "carpet": [
           {
            "aaxis": {
             "endlinecolor": "rgb(51,51,51)",
             "gridcolor": "white",
             "linecolor": "white",
             "minorgridcolor": "white",
             "startlinecolor": "rgb(51,51,51)"
            },
            "baxis": {
             "endlinecolor": "rgb(51,51,51)",
             "gridcolor": "white",
             "linecolor": "white",
             "minorgridcolor": "white",
             "startlinecolor": "rgb(51,51,51)"
            },
            "type": "carpet"
           }
          ],
          "choropleth": [
           {
            "colorbar": {
             "outlinewidth": 0,
             "tickcolor": "rgb(237,237,237)",
             "ticklen": 6,
             "ticks": "inside"
            },
            "type": "choropleth"
           }
          ],
          "contour": [
           {
            "colorbar": {
             "outlinewidth": 0,
             "tickcolor": "rgb(237,237,237)",
             "ticklen": 6,
             "ticks": "inside"
            },
            "colorscale": [
             [
              0,
              "rgb(20,44,66)"
             ],
             [
              1,
              "rgb(90,179,244)"
             ]
            ],
            "type": "contour"
           }
          ],
          "contourcarpet": [
           {
            "colorbar": {
             "outlinewidth": 0,
             "tickcolor": "rgb(237,237,237)",
             "ticklen": 6,
             "ticks": "inside"
            },
            "type": "contourcarpet"
           }
          ],
          "heatmap": [
           {
            "colorbar": {
             "outlinewidth": 0,
             "tickcolor": "rgb(237,237,237)",
             "ticklen": 6,
             "ticks": "inside"
            },
            "colorscale": [
             [
              0,
              "rgb(20,44,66)"
             ],
             [
              1,
              "rgb(90,179,244)"
             ]
            ],
            "type": "heatmap"
           }
          ],
          "heatmapgl": [
           {
            "colorbar": {
             "outlinewidth": 0,
             "tickcolor": "rgb(237,237,237)",
             "ticklen": 6,
             "ticks": "inside"
            },
            "colorscale": [
             [
              0,
              "rgb(20,44,66)"
             ],
             [
              1,
              "rgb(90,179,244)"
             ]
            ],
            "type": "heatmapgl"
           }
          ],
          "histogram": [
           {
            "marker": {
             "pattern": {
              "fillmode": "overlay",
              "size": 10,
              "solidity": 0.2
             }
            },
            "type": "histogram"
           }
          ],
          "histogram2d": [
           {
            "colorbar": {
             "outlinewidth": 0,
             "tickcolor": "rgb(237,237,237)",
             "ticklen": 6,
             "ticks": "inside"
            },
            "colorscale": [
             [
              0,
              "rgb(20,44,66)"
             ],
             [
              1,
              "rgb(90,179,244)"
             ]
            ],
            "type": "histogram2d"
           }
          ],
          "histogram2dcontour": [
           {
            "colorbar": {
             "outlinewidth": 0,
             "tickcolor": "rgb(237,237,237)",
             "ticklen": 6,
             "ticks": "inside"
            },
            "colorscale": [
             [
              0,
              "rgb(20,44,66)"
             ],
             [
              1,
              "rgb(90,179,244)"
             ]
            ],
            "type": "histogram2dcontour"
           }
          ],
          "mesh3d": [
           {
            "colorbar": {
             "outlinewidth": 0,
             "tickcolor": "rgb(237,237,237)",
             "ticklen": 6,
             "ticks": "inside"
            },
            "type": "mesh3d"
           }
          ],
          "parcoords": [
           {
            "line": {
             "colorbar": {
              "outlinewidth": 0,
              "tickcolor": "rgb(237,237,237)",
              "ticklen": 6,
              "ticks": "inside"
             }
            },
            "type": "parcoords"
           }
          ],
          "pie": [
           {
            "automargin": true,
            "type": "pie"
           }
          ],
          "scatter": [
           {
            "fillpattern": {
             "fillmode": "overlay",
             "size": 10,
             "solidity": 0.2
            },
            "type": "scatter"
           }
          ],
          "scatter3d": [
           {
            "line": {
             "colorbar": {
              "outlinewidth": 0,
              "tickcolor": "rgb(237,237,237)",
              "ticklen": 6,
              "ticks": "inside"
             }
            },
            "marker": {
             "colorbar": {
              "outlinewidth": 0,
              "tickcolor": "rgb(237,237,237)",
              "ticklen": 6,
              "ticks": "inside"
             }
            },
            "type": "scatter3d"
           }
          ],
          "scattercarpet": [
           {
            "marker": {
             "colorbar": {
              "outlinewidth": 0,
              "tickcolor": "rgb(237,237,237)",
              "ticklen": 6,
              "ticks": "inside"
             }
            },
            "type": "scattercarpet"
           }
          ],
          "scattergeo": [
           {
            "marker": {
             "colorbar": {
              "outlinewidth": 0,
              "tickcolor": "rgb(237,237,237)",
              "ticklen": 6,
              "ticks": "inside"
             }
            },
            "type": "scattergeo"
           }
          ],
          "scattergl": [
           {
            "marker": {
             "colorbar": {
              "outlinewidth": 0,
              "tickcolor": "rgb(237,237,237)",
              "ticklen": 6,
              "ticks": "inside"
             }
            },
            "type": "scattergl"
           }
          ],
          "scattermapbox": [
           {
            "marker": {
             "colorbar": {
              "outlinewidth": 0,
              "tickcolor": "rgb(237,237,237)",
              "ticklen": 6,
              "ticks": "inside"
             }
            },
            "type": "scattermapbox"
           }
          ],
          "scatterpolar": [
           {
            "marker": {
             "colorbar": {
              "outlinewidth": 0,
              "tickcolor": "rgb(237,237,237)",
              "ticklen": 6,
              "ticks": "inside"
             }
            },
            "type": "scatterpolar"
           }
          ],
          "scatterpolargl": [
           {
            "marker": {
             "colorbar": {
              "outlinewidth": 0,
              "tickcolor": "rgb(237,237,237)",
              "ticklen": 6,
              "ticks": "inside"
             }
            },
            "type": "scatterpolargl"
           }
          ],
          "scatterternary": [
           {
            "marker": {
             "colorbar": {
              "outlinewidth": 0,
              "tickcolor": "rgb(237,237,237)",
              "ticklen": 6,
              "ticks": "inside"
             }
            },
            "type": "scatterternary"
           }
          ],
          "surface": [
           {
            "colorbar": {
             "outlinewidth": 0,
             "tickcolor": "rgb(237,237,237)",
             "ticklen": 6,
             "ticks": "inside"
            },
            "colorscale": [
             [
              0,
              "rgb(20,44,66)"
             ],
             [
              1,
              "rgb(90,179,244)"
             ]
            ],
            "type": "surface"
           }
          ],
          "table": [
           {
            "cells": {
             "fill": {
              "color": "rgb(237,237,237)"
             },
             "line": {
              "color": "white"
             }
            },
            "header": {
             "fill": {
              "color": "rgb(217,217,217)"
             },
             "line": {
              "color": "white"
             }
            },
            "type": "table"
           }
          ]
         },
         "layout": {
          "annotationdefaults": {
           "arrowhead": 0,
           "arrowwidth": 1
          },
          "autotypenumbers": "strict",
          "coloraxis": {
           "colorbar": {
            "outlinewidth": 0,
            "tickcolor": "rgb(237,237,237)",
            "ticklen": 6,
            "ticks": "inside"
           }
          },
          "colorscale": {
           "sequential": [
            [
             0,
             "rgb(20,44,66)"
            ],
            [
             1,
             "rgb(90,179,244)"
            ]
           ],
           "sequentialminus": [
            [
             0,
             "rgb(20,44,66)"
            ],
            [
             1,
             "rgb(90,179,244)"
            ]
           ]
          },
          "colorway": [
           "#F8766D",
           "#A3A500",
           "#00BF7D",
           "#00B0F6",
           "#E76BF3"
          ],
          "font": {
           "color": "rgb(51,51,51)"
          },
          "geo": {
           "bgcolor": "white",
           "lakecolor": "white",
           "landcolor": "rgb(237,237,237)",
           "showlakes": true,
           "showland": true,
           "subunitcolor": "white"
          },
          "hoverlabel": {
           "align": "left"
          },
          "hovermode": "closest",
          "paper_bgcolor": "white",
          "plot_bgcolor": "rgb(237,237,237)",
          "polar": {
           "angularaxis": {
            "gridcolor": "white",
            "linecolor": "white",
            "showgrid": true,
            "tickcolor": "rgb(51,51,51)",
            "ticks": "outside"
           },
           "bgcolor": "rgb(237,237,237)",
           "radialaxis": {
            "gridcolor": "white",
            "linecolor": "white",
            "showgrid": true,
            "tickcolor": "rgb(51,51,51)",
            "ticks": "outside"
           }
          },
          "scene": {
           "xaxis": {
            "backgroundcolor": "rgb(237,237,237)",
            "gridcolor": "white",
            "gridwidth": 2,
            "linecolor": "white",
            "showbackground": true,
            "showgrid": true,
            "tickcolor": "rgb(51,51,51)",
            "ticks": "outside",
            "zerolinecolor": "white"
           },
           "yaxis": {
            "backgroundcolor": "rgb(237,237,237)",
            "gridcolor": "white",
            "gridwidth": 2,
            "linecolor": "white",
            "showbackground": true,
            "showgrid": true,
            "tickcolor": "rgb(51,51,51)",
            "ticks": "outside",
            "zerolinecolor": "white"
           },
           "zaxis": {
            "backgroundcolor": "rgb(237,237,237)",
            "gridcolor": "white",
            "gridwidth": 2,
            "linecolor": "white",
            "showbackground": true,
            "showgrid": true,
            "tickcolor": "rgb(51,51,51)",
            "ticks": "outside",
            "zerolinecolor": "white"
           }
          },
          "shapedefaults": {
           "fillcolor": "black",
           "line": {
            "width": 0
           },
           "opacity": 0.3
          },
          "ternary": {
           "aaxis": {
            "gridcolor": "white",
            "linecolor": "white",
            "showgrid": true,
            "tickcolor": "rgb(51,51,51)",
            "ticks": "outside"
           },
           "baxis": {
            "gridcolor": "white",
            "linecolor": "white",
            "showgrid": true,
            "tickcolor": "rgb(51,51,51)",
            "ticks": "outside"
           },
           "bgcolor": "rgb(237,237,237)",
           "caxis": {
            "gridcolor": "white",
            "linecolor": "white",
            "showgrid": true,
            "tickcolor": "rgb(51,51,51)",
            "ticks": "outside"
           }
          },
          "xaxis": {
           "automargin": true,
           "gridcolor": "white",
           "linecolor": "white",
           "showgrid": true,
           "tickcolor": "rgb(51,51,51)",
           "ticks": "outside",
           "title": {
            "standoff": 15
           },
           "zerolinecolor": "white"
          },
          "yaxis": {
           "automargin": true,
           "gridcolor": "white",
           "linecolor": "white",
           "showgrid": true,
           "tickcolor": "rgb(51,51,51)",
           "ticks": "outside",
           "title": {
            "standoff": 15
           },
           "zerolinecolor": "white"
          }
         }
        }
       }
      },
      "text/html": [
       "<div>                            <div id=\"fb7a3c13-9a64-462e-90ff-a2363cf5d7b8\" class=\"plotly-graph-div\" style=\"height:525px; width:100%;\"></div>            <script type=\"text/javascript\">                require([\"plotly\"], function(Plotly) {                    window.PLOTLYENV=window.PLOTLYENV || {};                                    if (document.getElementById(\"fb7a3c13-9a64-462e-90ff-a2363cf5d7b8\")) {                    Plotly.newPlot(                        \"fb7a3c13-9a64-462e-90ff-a2363cf5d7b8\",                        [{\"customdata\":[[11.46718112408897],[11.107726989516996],[11.388991488734638],[11.344337814199646],[11.753348118001629],[11.937474176861182],[1.352800792313874],[0.6771508127099355],[0.3483837436589341],[0.15093026299098894],[0.01901761574433384],[-0.07475465139634196],[-0.1441650743076873],[-0.19668822016346643],[-0.23801672062445176],[-0.2714529802330095],[25.211814465806828],[25.08884901234508],[27.116885003532488],[27.340724183373464],[27.01714256190353],[27.954498870274517],[5.621678133152789],[4.008179095193589],[2.4587690288754143],[2.5926997285768256],[1.722481529628584],[1.5797064605328421],[1.510911153194496],[1.565101121548523],[0.9479623818438749],[1.042660176906978],[20.50397080156503],[20.26127197552081],[17.8773169668875],[17.568451753306665],[18.16811295428911],[17.688108540804585],[6.4160184504170825],[4.491587610821666],[3.409892447416561],[2.392772910001595],[2.353265276565714],[2.3173233224485426],[1.376761971607427],[1.335813592793469],[0.8518691086039057],[0.7710032971628784],[18.259715430842462],[18.414433045350542],[18.651000279479177],[18.74350160937195],[18.711178391330666],[18.808467472370314],[7.232590236674717],[3.865939754900645],[2.5496305515343924],[3.58622001463817],[2.033839382666337],[1.8606219703091884],[1.418987670290392],[1.3383682274671698],[1.443971755279647],[0.82346050415281],[18.305966665434894],[18.356060030652426],[18.431158682189764],[18.423620412951973],[18.362715111155463],[18.340205347391233],[7.121916899054545],[4.415831191237595],[4.593154105078357],[2.546741589413508],[1.5828594379689835],[2.044446205016566],[1.9061164864794549],[1.4770583990872304],[1.2706338384539815],[1.194261578842975],[17.617515361067696],[17.629566829023595],[17.469926772895064],[17.28946689162294],[16.94597360711707],[16.692562556126255],[8.168398705616923],[5.477275114107376],[3.5244429788331564],[1.3586240990089764],[2.246416256505757],[1.4823441652848968],[1.7978602140290785],[1.5279701184442813],[1.4188589688096802],[1.1039125922418553],[16.33463434006321],[16.352333507585758],[16.038142906046954],[15.810538041877235],[15.463759950949706],[15.719551375135561],[7.925862504526997],[5.4514408979451945],[2.957609808078911],[2.3206150639417737],[1.2768496652213983],[1.4156231764093397],[1.1200638547685364],[0.7289444725000238],[1.1499934426626581],[0.998460922999036],[15.272317408640726],[15.269617189307237],[15.00197959858464],[15.181884116390208],[15.840111833299716],[15.789130669861672],[8.403593912560062],[5.543798861470985],[3.6614770635714415],[2.0974760268475854],[1.09841660268306],[1.8637682349991451],[1.6996214168481685],[1.1771754874265192],[1.1785961829233949],[1.156915830670016],[15.567478083855924],[15.123334231004277],[14.995823393993032],[15.266706808559173],[15.60758138391323],[15.43496392308325],[8.723782707919977],[5.832900121345882],[3.14952450187155],[1.6740806621498923],[1.8517442145197602],[1.7643940629951111],[1.5914484225826562],[1.4915516663147756],[1.402567448343076],[1.1206563224838022],[15.285876493790738],[15.09118836254189],[14.772399886229639],[14.833835747015462],[15.20385116975404],[14.958452623396624],[8.56627415941718],[5.504046153994756],[2.8512172184178812],[2.0986507157916696],[1.9690123390024745],[1.3733618409915116],[1.221296875778135],[1.2134286451750778],[2.2621267333273227],[1.0832528996651667],[15.119029787800804],[14.948201537992801],[14.412688800362062],[14.421620427321095],[14.734754625348558],[14.563839863019098],[8.738566106328173],[5.612220984271972],[1.3592022999907618],[2.559649639953672],[1.8483822833729184],[1.3213117993306231],[1.3483475021978506],[1.3538390880716196],[0.9932589445799753],[0.8306193020648598],[14.83943165435259],[14.544158146254517],[14.02174026188517],[13.998373469474817],[14.465347292520804],[14.590974389146117],[8.563415638188946],[5.59912884355904],[1.2438540028139913],[2.61553151775448],[1.714399400687277],[1.2242644950995738],[1.122240614387176],[1.2105242148352142],[1.0709198309691956],[0.33848278992509095],[14.79092963447826],[14.084430522301462],[13.638692812652536],[14.489788686740177],[15.1323135379627],[15.454774308361028],[8.14981944838385],[5.3492851122464815],[2.82744206082039],[2.19545443203651],[2.051836708957099],[1.8463622168492406],[1.6486199757552658],[0.9700431037232284],[1.1033480002870855],[0.9713186500889741],[14.283629963091208],[13.925760202990542],[13.786449349925778],[13.303176795666058],[15.043366778562396],[16.677257981612023],[9.911796616820972],[4.976646252569219],[2.8331588333204443],[1.6774901005908371],[2.3915027010078553],[1.4339294322836207],[1.7216403036503674],[1.503494730068319],[1.0988730839902323],[1.190784059737609],[14.052502202660813],[13.62251348116686],[13.167527205862967],[16.992227774086963],[15.319349414903249],[16.158712066676294],[7.965177270232573],[4.520981575603782],[3.003754796783724],[2.8395250880797187],[2.7262374504684117],[1.4739283816397735],[1.4880913497442734],[1.4847075123227447],[1.1554852336645767],[0.9424414936892067],[13.799208511058756],[13.360778336389085],[13.334105111804213],[16.268882684554036],[16.675208439598403],[17.34903856942455],[7.78196541844881],[3.672964270451098],[2.809683867416009],[2.0915843852919758],[1.961022041800657],[1.2224808616920133],[1.2653656816860035],[1.0800161732298101],[1.204074911309532],[0.8886083087801637],[13.736725179028877],[15.946718400385663],[14.158522150110935],[16.737243786312522],[16.76093053916416],[16.37734416342395],[7.530233591496471],[3.4908251931125043],[3.1351566085690292],[2.5651853962741304],[2.3886625398206904],[1.4365142693691766],[1.6139602065721679],[1.0352437263561423],[1.1857411130295852],[0.8563871599320059],[14.334857594650893],[16.9671510386336],[14.864960417382598],[16.571318907009477],[17.169318107476734],[15.430589337757326],[7.3829696716528215],[3.085596199992172],[2.6689863302379235],[1.8290185894147164],[1.6920331174482754],[1.7670285678106659],[1.5572686631958255],[1.2727053228739909],[1.181090320903177],[1.2071693156713121],[14.118626762590422],[15.422414119508025],[15.390649412718847],[16.664086218004275],[17.39205873398972],[15.024546393874612],[7.490130608112834],[3.442201616023543],[2.717715355533106],[1.9373545978507718],[1.6774720243737082],[1.8385355393123732],[1.5338722695367129],[1.0832735940412526],[1.10949930050138],[1.2695240694878651],[14.423276865380918],[15.165735551217466],[15.54928485204804],[16.525163665351712],[17.42941971542873],[15.451453227853118],[6.515011843346767],[3.4814164701382078],[2.768253378408215],[2.7860320139717354],[1.9506162398788092],[1.9110168484555583],[1.49511902138681],[1.2870835129733496],[1.1006873416484555],[1.1182979629234373],[14.063402952646616],[15.958596444406574],[15.466690324281089],[16.43280768558192],[17.351701497684335],[14.998864542140703],[7.542742470144153],[3.6512731080427043],[2.389160808778889],[2.306327827576868],[1.8902232805819388],[1.6703920749428982],[1.2481930677978412],[1.0212659112999138],[0.9413632191881476],[1.3965316069001366],[13.87739734509578],[17.393999441948058],[14.78175808673859],[16.29835772770609],[17.170988518240474],[15.223458533345248],[6.724473996901644],[3.8540132986863207],[3.0718470691743596],[2.4515873574525058],[2.2986249278244024],[1.6107599963832726],[1.5774422504512207],[1.3016456007283668],[1.2882953624950708],[0.9493946687515814],[12.729665035936247],[15.36779886769389],[14.01401029797255],[16.955860797456683],[17.128609533582942],[15.884419907716019],[6.353046103470516],[3.8337565544944816],[3.1862319988554235],[2.5563398251806433],[1.9436383493929275],[1.3841613171962837],[1.2600707929356916],[1.25987098673801],[1.5466173864671386],[1.1555637017109626],[12.632859621974799],[14.330129144526476],[13.75301551483005],[16.114103186649857],[16.54677345195226],[16.147745734777512],[6.29666704395108],[4.427360473867433],[2.9814552429612347],[2.004014746933268],[1.7868662940471964],[1.6781542953151178],[1.2424142505474076],[1.2189035669320207],[0.9743075578983896],[1.2338830032183081],[14.536766137808174],[12.776048838833015],[13.063567017718784],[16.827210414318433],[16.491306783266754],[16.717642181518237],[5.762612365120533],[4.058070960053687],[2.4132931884204236],[2.164618507633221],[1.8669695578469097],[1.4728194978843585],[1.2797573077566837],[1.0731669555814405],[1.010555261607824],[1.1898132277827684],[15.03789841673744],[16.282419993450013],[12.931176803233285],[15.71212889983585],[15.669281176213534],[16.897519993944442],[5.732502216434684],[3.241845680182336],[3.3492816622913564],[2.464720682478506],[1.656998888487579],[1.77599145302711],[1.6066555792467334],[1.4512611862668077],[1.1333333752833723],[0.8452328817313373],[14.110023536500323],[18.742495223596404],[13.012985599428344],[14.400925035526784],[15.468118524462641],[17.862601634673315],[6.374328098192308],[3.941966686957609],[2.491543633603245],[2.072695194265893],[1.876588170915463],[1.3950873583661902],[1.4664368149109448],[1.2047124838868082],[1.0865344800047247],[1.3170624032419123],[13.839259977679403],[18.256906483899378],[14.066514452730498],[14.592660818188214],[14.404859810085053],[17.728686040386087],[6.286465979852118],[4.436006092678803],[1.5367574314333554],[1.9803828473746208],[1.7808612969890132],[1.286658732804865],[1.5461069844849653],[1.55949932938758],[1.4574927071447257],[1.0249949425419347],[13.23497758146559],[16.174149976012938],[15.235504393794947],[13.047746275433518],[14.658972490099107],[15.946392785147506],[4.557472624299882],[3.6507906993957926],[1.914105272535951],[1.78643165098344],[1.2557992082384941],[1.7098526597391444],[1.2442324777893352],[0.9280287316469084],[0.3135848260320812],[1.305198550369745],[14.115949511070411],[14.949526822302099],[14.406565139090347],[13.079419001100051],[14.014104269577514],[15.628404770545142],[6.034450160614703],[3.731866815292238],[2.4257431327353656],[2.162673793312928],[1.6512433571973264],[1.6353961017473142],[1.5651243491211198],[1.5062588387300986],[1.089978090404632],[0.5273019735870279],[14.099318665118144],[13.428550274446774],[14.583342117762502],[12.932947669333693],[14.108271573280446],[15.400741534743071],[6.535261434857063],[3.6553038619457903],[2.3029192975771235],[1.7944617991224987],[1.649103089331852],[1.9695888562272874],[1.3776211737620865],[0.5954163168222638],[1.122367147120538],[1.160703297054995],[13.542346117899848],[12.87506099502651],[13.180097686520623],[13.036005276943353],[14.735526724555287],[15.572573157617507],[6.246184813941068],[2.571828680896502],[2.2936816557957647],[3.03580952074625],[1.628829498806784],[1.8424707104063756],[1.4693398311875316],[1.4675235394462227],[1.2864705892481514],[1.035719028067164]],\"hovertemplate\":\"$\\\\beta = $%{x}\\u003cbr\\u003e$T = $%{y}\\u003cbr\\u003e$\\\\ln|\\\\max \\\\mathcal{U}\\\\'[1]| = $%{z}\\u003cbr\\u003e$\\\\ln|\\\\max \\\\mathcal{U}\\\\'[0]| = $%{customdata[0]}\",\"legendgroup\":\"\",\"marker\":{\"color\":[11.46718112408897,11.107726989516996,11.388991488734638,11.344337814199646,11.753348118001629,11.937474176861182,1.352800792313874,0.6771508127099355,0.3483837436589341,0.15093026299098894,0.01901761574433384,-0.07475465139634196,-0.1441650743076873,-0.19668822016346643,-0.23801672062445176,-0.2714529802330095,25.211814465806828,25.08884901234508,27.116885003532488,27.340724183373464,27.01714256190353,27.954498870274517,5.621678133152789,4.008179095193589,2.4587690288754143,2.5926997285768256,1.722481529628584,1.5797064605328421,1.510911153194496,1.565101121548523,0.9479623818438749,1.042660176906978,20.50397080156503,20.26127197552081,17.8773169668875,17.568451753306665,18.16811295428911,17.688108540804585,6.4160184504170825,4.491587610821666,3.409892447416561,2.392772910001595,2.353265276565714,2.3173233224485426,1.376761971607427,1.335813592793469,0.8518691086039057,0.7710032971628784,18.259715430842462,18.414433045350542,18.651000279479177,18.74350160937195,18.711178391330666,18.808467472370314,7.232590236674717,3.865939754900645,2.5496305515343924,3.58622001463817,2.033839382666337,1.8606219703091884,1.418987670290392,1.3383682274671698,1.443971755279647,0.82346050415281,18.305966665434894,18.356060030652426,18.431158682189764,18.423620412951973,18.362715111155463,18.340205347391233,7.121916899054545,4.415831191237595,4.593154105078357,2.546741589413508,1.5828594379689835,2.044446205016566,1.9061164864794549,1.4770583990872304,1.2706338384539815,1.194261578842975,17.617515361067696,17.629566829023595,17.469926772895064,17.28946689162294,16.94597360711707,16.692562556126255,8.168398705616923,5.477275114107376,3.5244429788331564,1.3586240990089764,2.246416256505757,1.4823441652848968,1.7978602140290785,1.5279701184442813,1.4188589688096802,1.1039125922418553,16.33463434006321,16.352333507585758,16.038142906046954,15.810538041877235,15.463759950949706,15.719551375135561,7.925862504526997,5.4514408979451945,2.957609808078911,2.3206150639417737,1.2768496652213983,1.4156231764093397,1.1200638547685364,0.7289444725000238,1.1499934426626581,0.998460922999036,15.272317408640726,15.269617189307237,15.00197959858464,15.181884116390208,15.840111833299716,15.789130669861672,8.403593912560062,5.543798861470985,3.6614770635714415,2.0974760268475854,1.09841660268306,1.8637682349991451,1.6996214168481685,1.1771754874265192,1.1785961829233949,1.156915830670016,15.567478083855924,15.123334231004277,14.995823393993032,15.266706808559173,15.60758138391323,15.43496392308325,8.723782707919977,5.832900121345882,3.14952450187155,1.6740806621498923,1.8517442145197602,1.7643940629951111,1.5914484225826562,1.4915516663147756,1.402567448343076,1.1206563224838022,15.285876493790738,15.09118836254189,14.772399886229639,14.833835747015462,15.20385116975404,14.958452623396624,8.56627415941718,5.504046153994756,2.8512172184178812,2.0986507157916696,1.9690123390024745,1.3733618409915116,1.221296875778135,1.2134286451750778,2.2621267333273227,1.0832528996651667,15.119029787800804,14.948201537992801,14.412688800362062,14.421620427321095,14.734754625348558,14.563839863019098,8.738566106328173,5.612220984271972,1.3592022999907618,2.559649639953672,1.8483822833729184,1.3213117993306231,1.3483475021978506,1.3538390880716196,0.9932589445799753,0.8306193020648598,14.83943165435259,14.544158146254517,14.02174026188517,13.998373469474817,14.465347292520804,14.590974389146117,8.563415638188946,5.59912884355904,1.2438540028139913,2.61553151775448,1.714399400687277,1.2242644950995738,1.122240614387176,1.2105242148352142,1.0709198309691956,0.33848278992509095,14.79092963447826,14.084430522301462,13.638692812652536,14.489788686740177,15.1323135379627,15.454774308361028,8.14981944838385,5.3492851122464815,2.82744206082039,2.19545443203651,2.051836708957099,1.8463622168492406,1.6486199757552658,0.9700431037232284,1.1033480002870855,0.9713186500889741,14.283629963091208,13.925760202990542,13.786449349925778,13.303176795666058,15.043366778562396,16.677257981612023,9.911796616820972,4.976646252569219,2.8331588333204443,1.6774901005908371,2.3915027010078553,1.4339294322836207,1.7216403036503674,1.503494730068319,1.0988730839902323,1.190784059737609,14.052502202660813,13.62251348116686,13.167527205862967,16.992227774086963,15.319349414903249,16.158712066676294,7.965177270232573,4.520981575603782,3.003754796783724,2.8395250880797187,2.7262374504684117,1.4739283816397735,1.4880913497442734,1.4847075123227447,1.1554852336645767,0.9424414936892067,13.799208511058756,13.360778336389085,13.334105111804213,16.268882684554036,16.675208439598403,17.34903856942455,7.78196541844881,3.672964270451098,2.809683867416009,2.0915843852919758,1.961022041800657,1.2224808616920133,1.2653656816860035,1.0800161732298101,1.204074911309532,0.8886083087801637,13.736725179028877,15.946718400385663,14.158522150110935,16.737243786312522,16.76093053916416,16.37734416342395,7.530233591496471,3.4908251931125043,3.1351566085690292,2.5651853962741304,2.3886625398206904,1.4365142693691766,1.6139602065721679,1.0352437263561423,1.1857411130295852,0.8563871599320059,14.334857594650893,16.9671510386336,14.864960417382598,16.571318907009477,17.169318107476734,15.430589337757326,7.3829696716528215,3.085596199992172,2.6689863302379235,1.8290185894147164,1.6920331174482754,1.7670285678106659,1.5572686631958255,1.2727053228739909,1.181090320903177,1.2071693156713121,14.118626762590422,15.422414119508025,15.390649412718847,16.664086218004275,17.39205873398972,15.024546393874612,7.490130608112834,3.442201616023543,2.717715355533106,1.9373545978507718,1.6774720243737082,1.8385355393123732,1.5338722695367129,1.0832735940412526,1.10949930050138,1.2695240694878651,14.423276865380918,15.165735551217466,15.54928485204804,16.525163665351712,17.42941971542873,15.451453227853118,6.515011843346767,3.4814164701382078,2.768253378408215,2.7860320139717354,1.9506162398788092,1.9110168484555583,1.49511902138681,1.2870835129733496,1.1006873416484555,1.1182979629234373,14.063402952646616,15.958596444406574,15.466690324281089,16.43280768558192,17.351701497684335,14.998864542140703,7.542742470144153,3.6512731080427043,2.389160808778889,2.306327827576868,1.8902232805819388,1.6703920749428982,1.2481930677978412,1.0212659112999138,0.9413632191881476,1.3965316069001366,13.87739734509578,17.393999441948058,14.78175808673859,16.29835772770609,17.170988518240474,15.223458533345248,6.724473996901644,3.8540132986863207,3.0718470691743596,2.4515873574525058,2.2986249278244024,1.6107599963832726,1.5774422504512207,1.3016456007283668,1.2882953624950708,0.9493946687515814,12.729665035936247,15.36779886769389,14.01401029797255,16.955860797456683,17.128609533582942,15.884419907716019,6.353046103470516,3.8337565544944816,3.1862319988554235,2.5563398251806433,1.9436383493929275,1.3841613171962837,1.2600707929356916,1.25987098673801,1.5466173864671386,1.1555637017109626,12.632859621974799,14.330129144526476,13.75301551483005,16.114103186649857,16.54677345195226,16.147745734777512,6.29666704395108,4.427360473867433,2.9814552429612347,2.004014746933268,1.7868662940471964,1.6781542953151178,1.2424142505474076,1.2189035669320207,0.9743075578983896,1.2338830032183081,14.536766137808174,12.776048838833015,13.063567017718784,16.827210414318433,16.491306783266754,16.717642181518237,5.762612365120533,4.058070960053687,2.4132931884204236,2.164618507633221,1.8669695578469097,1.4728194978843585,1.2797573077566837,1.0731669555814405,1.010555261607824,1.1898132277827684,15.03789841673744,16.282419993450013,12.931176803233285,15.71212889983585,15.669281176213534,16.897519993944442,5.732502216434684,3.241845680182336,3.3492816622913564,2.464720682478506,1.656998888487579,1.77599145302711,1.6066555792467334,1.4512611862668077,1.1333333752833723,0.8452328817313373,14.110023536500323,18.742495223596404,13.012985599428344,14.400925035526784,15.468118524462641,17.862601634673315,6.374328098192308,3.941966686957609,2.491543633603245,2.072695194265893,1.876588170915463,1.3950873583661902,1.4664368149109448,1.2047124838868082,1.0865344800047247,1.3170624032419123,13.839259977679403,18.256906483899378,14.066514452730498,14.592660818188214,14.404859810085053,17.728686040386087,6.286465979852118,4.436006092678803,1.5367574314333554,1.9803828473746208,1.7808612969890132,1.286658732804865,1.5461069844849653,1.55949932938758,1.4574927071447257,1.0249949425419347,13.23497758146559,16.174149976012938,15.235504393794947,13.047746275433518,14.658972490099107,15.946392785147506,4.557472624299882,3.6507906993957926,1.914105272535951,1.78643165098344,1.2557992082384941,1.7098526597391444,1.2442324777893352,0.9280287316469084,0.3135848260320812,1.305198550369745,14.115949511070411,14.949526822302099,14.406565139090347,13.079419001100051,14.014104269577514,15.628404770545142,6.034450160614703,3.731866815292238,2.4257431327353656,2.162673793312928,1.6512433571973264,1.6353961017473142,1.5651243491211198,1.5062588387300986,1.089978090404632,0.5273019735870279,14.099318665118144,13.428550274446774,14.583342117762502,12.932947669333693,14.108271573280446,15.400741534743071,6.535261434857063,3.6553038619457903,2.3029192975771235,1.7944617991224987,1.649103089331852,1.9695888562272874,1.3776211737620865,0.5954163168222638,1.122367147120538,1.160703297054995,13.542346117899848,12.87506099502651,13.180097686520623,13.036005276943353,14.735526724555287,15.572573157617507,6.246184813941068,2.571828680896502,2.2936816557957647,3.03580952074625,1.628829498806784,1.8424707104063756,1.4693398311875316,1.4675235394462227,1.2864705892481514,1.035719028067164],\"coloraxis\":\"coloraxis\",\"symbol\":\"circle\",\"size\":5},\"mode\":\"markers\",\"name\":\"\",\"scene\":\"scene\",\"showlegend\":false,\"x\":[0.0,0.035,0.07,0.105,0.14,0.175,0.21,0.245,0.28,0.315,0.35,0.385,0.42,0.455,0.49,0.525,0.0,0.035,0.07,0.105,0.14,0.175,0.21,0.245,0.28,0.315,0.35,0.385,0.42,0.455,0.49,0.525,0.0,0.035,0.07,0.105,0.14,0.175,0.21,0.245,0.28,0.315,0.35,0.385,0.42,0.455,0.49,0.525,0.0,0.035,0.07,0.105,0.14,0.175,0.21,0.245,0.28,0.315,0.35,0.385,0.42,0.455,0.49,0.525,0.0,0.035,0.07,0.105,0.14,0.175,0.21,0.245,0.28,0.315,0.35,0.385,0.42,0.455,0.49,0.525,0.0,0.035,0.07,0.105,0.14,0.175,0.21,0.245,0.28,0.315,0.35,0.385,0.42,0.455,0.49,0.525,0.0,0.035,0.07,0.105,0.14,0.175,0.21,0.245,0.28,0.315,0.35,0.385,0.42,0.455,0.49,0.525,0.0,0.035,0.07,0.105,0.14,0.175,0.21,0.245,0.28,0.315,0.35,0.385,0.42,0.455,0.49,0.525,0.0,0.035,0.07,0.105,0.14,0.175,0.21,0.245,0.28,0.315,0.35,0.385,0.42,0.455,0.49,0.525,0.0,0.035,0.07,0.105,0.14,0.175,0.21,0.245,0.28,0.315,0.35,0.385,0.42,0.455,0.49,0.525,0.0,0.035,0.07,0.105,0.14,0.175,0.21,0.245,0.28,0.315,0.35,0.385,0.42,0.455,0.49,0.525,0.0,0.035,0.07,0.105,0.14,0.175,0.21,0.245,0.28,0.315,0.35,0.385,0.42,0.455,0.49,0.525,0.0,0.035,0.07,0.105,0.14,0.175,0.21,0.245,0.28,0.315,0.35,0.385,0.42,0.455,0.49,0.525,0.0,0.035,0.07,0.105,0.14,0.175,0.21,0.245,0.28,0.315,0.35,0.385,0.42,0.455,0.49,0.525,0.0,0.035,0.07,0.105,0.14,0.175,0.21,0.245,0.28,0.315,0.35,0.385,0.42,0.455,0.49,0.525,0.0,0.035,0.07,0.105,0.14,0.175,0.21,0.245,0.28,0.315,0.35,0.385,0.42,0.455,0.49,0.525,0.0,0.035,0.07,0.105,0.14,0.175,0.21,0.245,0.28,0.315,0.35,0.385,0.42,0.455,0.49,0.525,0.0,0.035,0.07,0.105,0.14,0.175,0.21,0.245,0.28,0.315,0.35,0.385,0.42,0.455,0.49,0.525,0.0,0.035,0.07,0.105,0.14,0.175,0.21,0.245,0.28,0.315,0.35,0.385,0.42,0.455,0.49,0.525,0.0,0.035,0.07,0.105,0.14,0.175,0.21,0.245,0.28,0.315,0.35,0.385,0.42,0.455,0.49,0.525,0.0,0.035,0.07,0.105,0.14,0.175,0.21,0.245,0.28,0.315,0.35,0.385,0.42,0.455,0.49,0.525,0.0,0.035,0.07,0.105,0.14,0.175,0.21,0.245,0.28,0.315,0.35,0.385,0.42,0.455,0.49,0.525,0.0,0.035,0.07,0.105,0.14,0.175,0.21,0.245,0.28,0.315,0.35,0.385,0.42,0.455,0.49,0.525,0.0,0.035,0.07,0.105,0.14,0.175,0.21,0.245,0.28,0.315,0.35,0.385,0.42,0.455,0.49,0.525,0.0,0.035,0.07,0.105,0.14,0.175,0.21,0.245,0.28,0.315,0.35,0.385,0.42,0.455,0.49,0.525,0.0,0.035,0.07,0.105,0.14,0.175,0.21,0.245,0.28,0.315,0.35,0.385,0.42,0.455,0.49,0.525,0.0,0.035,0.07,0.105,0.14,0.175,0.21,0.245,0.28,0.315,0.35,0.385,0.42,0.455,0.49,0.525,0.0,0.035,0.07,0.105,0.14,0.175,0.21,0.245,0.28,0.315,0.35,0.385,0.42,0.455,0.49,0.525,0.0,0.035,0.07,0.105,0.14,0.175,0.21,0.245,0.28,0.315,0.35,0.385,0.42,0.455,0.49,0.525,0.0,0.035,0.07,0.105,0.14,0.175,0.21,0.245,0.28,0.315,0.35,0.385,0.42,0.455,0.49,0.525,0.0,0.035,0.07,0.105,0.14,0.175,0.21,0.245,0.28,0.315,0.35,0.385,0.42,0.455,0.49,0.525,0.0,0.035,0.07,0.105,0.14,0.175,0.21,0.245,0.28,0.315,0.35,0.385,0.42,0.455,0.49,0.525],\"y\":[0.0,0.0,0.0,0.0,0.0,0.0,0.0,0.0,0.0,0.0,0.0,0.0,0.0,0.0,0.0,0.0,0.05,0.05,0.05,0.05,0.05,0.05,0.05,0.05,0.05,0.05,0.05,0.05,0.05,0.05,0.05,0.05,0.1,0.1,0.1,0.1,0.1,0.1,0.1,0.1,0.1,0.1,0.1,0.1,0.1,0.1,0.1,0.1,0.15,0.15,0.15,0.15,0.15,0.15,0.15,0.15,0.15,0.15,0.15,0.15,0.15,0.15,0.15,0.15,0.2,0.2,0.2,0.2,0.2,0.2,0.2,0.2,0.2,0.2,0.2,0.2,0.2,0.2,0.2,0.2,0.25,0.25,0.25,0.25,0.25,0.25,0.25,0.25,0.25,0.25,0.25,0.25,0.25,0.25,0.25,0.25,0.3,0.3,0.3,0.3,0.3,0.3,0.3,0.3,0.3,0.3,0.3,0.3,0.3,0.3,0.3,0.3,0.35,0.35,0.35,0.35,0.35,0.35,0.35,0.35,0.35,0.35,0.35,0.35,0.35,0.35,0.35,0.35,0.4,0.4,0.4,0.4,0.4,0.4,0.4,0.4,0.4,0.4,0.4,0.4,0.4,0.4,0.4,0.4,0.45,0.45,0.45,0.45,0.45,0.45,0.45,0.45,0.45,0.45,0.45,0.45,0.45,0.45,0.45,0.45,0.5,0.5,0.5,0.5,0.5,0.5,0.5,0.5,0.5,0.5,0.5,0.5,0.5,0.5,0.5,0.5,0.55,0.55,0.55,0.55,0.55,0.55,0.55,0.55,0.55,0.55,0.55,0.55,0.55,0.55,0.55,0.55,0.6,0.6,0.6,0.6,0.6,0.6,0.6,0.6,0.6,0.6,0.6,0.6,0.6,0.6,0.6,0.6,0.65,0.65,0.65,0.65,0.65,0.65,0.65,0.65,0.65,0.65,0.65,0.65,0.65,0.65,0.65,0.65,0.7,0.7,0.7,0.7,0.7,0.7,0.7,0.7,0.7,0.7,0.7,0.7,0.7,0.7,0.7,0.7,0.75,0.75,0.75,0.75,0.75,0.75,0.75,0.75,0.75,0.75,0.75,0.75,0.75,0.75,0.75,0.75,0.8,0.8,0.8,0.8,0.8,0.8,0.8,0.8,0.8,0.8,0.8,0.8,0.8,0.8,0.8,0.8,0.85,0.85,0.85,0.85,0.85,0.85,0.85,0.85,0.85,0.85,0.85,0.85,0.85,0.85,0.85,0.85,0.9,0.9,0.9,0.9,0.9,0.9,0.9,0.9,0.9,0.9,0.9,0.9,0.9,0.9,0.9,0.9,0.95,0.95,0.95,0.95,0.95,0.95,0.95,0.95,0.95,0.95,0.95,0.95,0.95,0.95,0.95,0.95,1.0,1.0,1.0,1.0,1.0,1.0,1.0,1.0,1.0,1.0,1.0,1.0,1.0,1.0,1.0,1.0,1.05,1.05,1.05,1.05,1.05,1.05,1.05,1.05,1.05,1.05,1.05,1.05,1.05,1.05,1.05,1.05,1.1,1.1,1.1,1.1,1.1,1.1,1.1,1.1,1.1,1.1,1.1,1.1,1.1,1.1,1.1,1.1,1.15,1.15,1.15,1.15,1.15,1.15,1.15,1.15,1.15,1.15,1.15,1.15,1.15,1.15,1.15,1.15,1.2,1.2,1.2,1.2,1.2,1.2,1.2,1.2,1.2,1.2,1.2,1.2,1.2,1.2,1.2,1.2,1.25,1.25,1.25,1.25,1.25,1.25,1.25,1.25,1.25,1.25,1.25,1.25,1.25,1.25,1.25,1.25,1.3,1.3,1.3,1.3,1.3,1.3,1.3,1.3,1.3,1.3,1.3,1.3,1.3,1.3,1.3,1.3,1.35,1.35,1.35,1.35,1.35,1.35,1.35,1.35,1.35,1.35,1.35,1.35,1.35,1.35,1.35,1.35,1.4,1.4,1.4,1.4,1.4,1.4,1.4,1.4,1.4,1.4,1.4,1.4,1.4,1.4,1.4,1.4,1.45,1.45,1.45,1.45,1.45,1.45,1.45,1.45,1.45,1.45,1.45,1.45,1.45,1.45,1.45,1.45,1.5,1.5,1.5,1.5,1.5,1.5,1.5,1.5,1.5,1.5,1.5,1.5,1.5,1.5,1.5,1.5,1.55,1.55,1.55,1.55,1.55,1.55,1.55,1.55,1.55,1.55,1.55,1.55,1.55,1.55,1.55,1.55],\"z\":[11.46718112408897,11.107726989516996,11.388991488734638,11.344337814199646,11.753348118001629,11.937474176861182,1.352800792313874,0.6771508127099355,0.3483837436589341,0.15093026299098894,0.01901761574433384,-0.07475465139634196,-0.1441650743076873,-0.19668822016346643,-0.23801672062445176,-0.2714529802330095,617.8061529342082,602.2766658821917,521.5695039841327,519.4179351614189,606.582979869938,570.5887866379077,425.6147653053082,245.99856651185905,151.76755740651427,107.0620229274543,85.74873845314985,71.93507371241218,60.56891757289692,49.1507841807004,42.21900336704562,35.45898712632258,618.745760701233,603.2560104183898,521.3997491389664,518.1525054170115,605.0200597387703,567.5207929918677,426.94445434868265,247.0718407594086,158.01011581713485,115.68028883709162,90.04410208798582,74.1333258380071,62.06315015516967,50.54756388913793,43.64639219231878,36.92593261082578,664.377983791097,593.075454880504,512.5863944028706,509.7838536766572,597.1457545382742,560.7115636560195,427.07500932052807,247.53311703344647,153.32823846066913,107.7627833572041,85.77987681348557,72.12002596526092,61.191071989722175,50.19666096658113,43.509878488105095,36.89115130207604,664.2623939309343,592.8725124096181,512.2281396425113,509.3906504250619,596.8168585501707,560.3181698530034,426.1608738651047,249.52853279923437,159.71908619447288,114.45639468374009,88.94307316160749,72.9085054300227,60.798475520221054,49.26540834237743,42.35160524667971,36.02740629152061,616.2306145014783,601.5493820790427,519.016769035538,514.6021649951092,602.2570261867015,564.1613322553936,424.6558281915165,248.46263958735304,157.9149868648429,112.0801165455462,86.49213064831898,70.4366028138937,58.322037976813974,47.127617113584435,41.09748090768813,37.87855257326635,662.2441424052271,591.4132019719256,517.543517001792,511.7561608012775,600.0617775803057,565.0422980578044,426.6955174207468,248.1909020812122,153.89425695046,108.60337896676342,82.42118916562337,71.81227840453975,61.93800605606091,49.619728555363785,42.10656867501571,35.06779238807194,664.3592978150956,593.0503102057818,512.4355232608777,509.6363861336156,597.1219594534551,560.6458447662988,425.452594556711,245.08791148382647,150.9280912469428,112.49599255976837,85.67287118956602,68.93106241909543,56.524507373906616,44.70218043864249,37.917433108873844,35.048322392532405,662.4773412851392,591.3310316171356,511.3438260595617,508.65699063859444,595.9444480466401,559.6846263721085,421.85936772226216,244.937761811961,151.49380709326493,105.69381821157894,82.81808153617604,70.4840944393632,55.92939925541965,44.22728127897026,39.46829430478515,42.204004775488826,649.4187329005792,591.9258144586792,509.6816119908869,507.8734198833852,601.4070350585954,560.5480253239314,425.8216886968974,242.85105801950186,151.1986155450305,107.63802891448351,80.75301397808104,63.77532319870424,58.07875417412807,44.53783031289426,36.24544066360045,28.354389168326712,663.6522194744115,592.2742013588381,511.3080761297626,511.238640653249,604.5988591898802,562.357369583924,419.75831654377725,244.82768801503084,147.80259415896,108.28658459551923,79.54619594512987,65.10392884483672,55.05459646774426,41.13397455008099,35.51057075972024,31.027748786925777,662.4189308239643,590.412729720257,508.26646559413814,504.4068602187962,591.5561994078295,554.6067355392443,419.89229907080755,241.28338299262523,149.3984345569849,102.83980915124555,81.92098849822,62.65146200556295,55.13413523079178,40.14162477158434,38.239761333273655,28.11392424344595,657.4655574804498,585.6080308896568,505.25957355197124,502.4464330709353,589.1841635507238,552.4683221458365,419.86096458469245,239.8214769901555,144.88137634905394,100.96861550672375,76.2930673893839,58.93796044845101,46.06336116361765,34.10414280548645,27.16523325331051,20.085406602663504,655.52365195089,584.3158705449079,503.3556538750122,500.47630200228235,587.6506933254146,551.0934232484134,414.6092649961981,235.2291738282559,140.96701361382074,95.72116200547656,70.38112998053977,54.670597067956216,42.80978824413737,31.918108431325958,25.99176515506094,21.888992073500155,663.8400620161626,583.3920605317337,502.4073090227512,596.6491255749613,586.6855671766945,550.2997890739509,414.46785042299814,237.2958557012126,140.43464280142527,97.07041773469012,69.3692394971944,57.026663363661285,46.09280611291998,41.30821153927817,47.328248270559385,63.32325317611799,662.9413269556222,582.4829479015539,501.5291443174102,595.8934566613575,585.9479295820535,549.6106343356406,409.33822698094895,229.14380538084842,139.05572332438146,96.72307914394749,76.58708173263236,73.89812386454042,90.36745464378058,31.525163899619496,51.65679170106021,26.634039945002996,662.2323882553557,581.7052618930576,500.9002714498042,595.2209392325831,585.3631534106859,549.4625087967329,410.0622735296264,229.77591300917052,141.2416324211954,112.69783210991955,112.50684842738842,73.76448571787509,52.4105468503516,43.1100237488685,30.144159768736564,23.05939685439344,661.6659415151566,581.0625630926197,500.3528868352565,594.6508483227583,584.8830920824611,548.5443855424701,408.0059586269091,234.40146007054335,171.42398174431287,94.66402822639478,74.50822130114588,62.96547032024948,42.426568483618304,45.6629578666297,28.771620616700186,25.777271205107365,661.2051269430231,580.5305762689272,499.87047684167226,594.169530960212,584.4609507837521,548.1302420282802,408.0917228171423,263.0834453797838,161.89667640519804,106.38503948967191,67.44969923650409,60.29650683530465,48.46293087626809,36.11480901154776,29.665621802622343,22.405342559060085,660.7941720424767,580.0801040940789,499.49130071222464,593.7558591009331,584.0974893413069,547.7649981450434,418.7746523828907,237.19233625214943,145.76973388019076,91.45466474830178,71.15534133764302,53.02896102314978,45.78551727097398,33.23264110333821,25.838455654921347,20.379485138259867,660.4030137089761,579.6839600103511,499.1413410242779,593.3887303292581,583.7543567217747,547.4364356346089,434.5901215528637,243.25566194281382,135.50355019484087,93.36122416867286,68.80628816627016,55.64960847456068,42.29273206115728,32.29442490718401,26.532701076202322,20.802851306949776,660.049391150505,579.3190900614379,498.8161705397646,593.0506811924228,583.4292636440697,547.1284285272125,410.82470893570024,226.53810361897982,135.47367439806982,94.04267511630945,70.01802533566348,53.964885599390826,43.01926414859738,33.46464184885319,26.80017460518068,21.149269623565214,659.7123807720754,578.9669608467339,498.50722612844777,592.7265310830866,583.1114152749302,546.836821276537,413.02188061859107,228.9617495389717,136.91387515467355,92.00299121340944,68.69724473840802,54.70328219878653,43.434514897788475,32.59556265956047,26.594048409215635,20.489652773780787,659.380919409081,578.6074329779924,498.16763507083783,592.402334703801,583.3493359748315,546.5511851586473,404.10410477495896,227.51995951177327,135.97086392232202,92.91368694675442,67.7535147257988,52.987289881731144,43.2279007857893,32.43394876526355,26.976207299526482,20.822568756395942,659.0397216202501,580.1018346849412,497.9027316556204,592.0624052680514,582.5498426853268,546.2628182456313,403.97812108901627,227.35381580436578,136.03252142613184,91.52219597591959,69.58158118810061,54.05650437304395,43.05266054380678,32.39213158704278,22.75950489864848,10.734435073366365,658.6365318379696,577.7518638638037,497.6225929790886,591.6838093787087,583.5240460006638,546.0925958310739,404.2740321256358,225.4963291080125,124.49984884306832,83.8957656819094,62.60718468811689,54.67365361939717,24.633004901630237,1.4760682940807264,1.984584669627882,1.465819638187408,658.2890234315837,577.1101730033407,497.34607517233303,591.3485186086879,582.5978932694187,545.6273792065701,404.2408053844914,223.04048553527136,42.24926517063711,17.186327658615674,1.6140909970311608,2.1981356186532843,2.1668154675335036,1.536326253126215,1.5265439468726545,1.526436487738461,657.8975482257976,576.7881232081016,498.4862086509742,591.297518529823,581.6949125428978,545.2309148701324,400.99916826739377,182.8090261770692,45.99194434294038,7.949203523157588,1.6711473032904767,2.8690679799884498,2.628708334777092,1.5941679247553537,1.5845724499171978,1.584659305610344,657.7951323379458,579.0366882786057,498.09620826420206,591.0014946776747,581.2438342336807,544.8492061345582,398.3970220437896,192.3473059334485,49.600461286588974,7.153401892373802,1.7258398647933153,1.6786486265322922,1.6557088498940806,1.649809793594952,1.6404039431163575,1.6406886720889247,657.6535426003064,577.0042300603009,496.5585757246562,590.910277090643,581.1965914810953,544.5030230231125,394.8422616833355,203.40127040506172,67.060947706588,3.7127551411421216,1.7785015288483084,1.7351226948144105,1.7090440019726743,1.7034289830194491,1.6942151782174957,1.6947006464513508,657.7929411384722,577.4319830833097,496.6409572308582,591.1042581615502,581.0136992602623,546.515312860554,397.62175055625187,212.93591716858108,92.82537890963714,10.030753530493717,4.222645081576425,1.7862675065082052,1.760523748246585,1.7551825553701725,1.7461616567874816,1.7468507702307914,658.0922272122485,577.7039644219219,496.9352440209329,591.7176492074168,586.2011762065346,545.2812698728419,398.31248316415,217.4564822708083,115.37260523988618,13.257666677651168,1.8777585765374465,1.8355862756468695,1.8102152708514194,1.8052153283144712,1.7963827892887871,1.79727709801321],\"type\":\"scatter3d\"}],                        {\"template\":{\"data\":{\"barpolar\":[{\"marker\":{\"line\":{\"color\":\"rgb(237,237,237)\",\"width\":0.5},\"pattern\":{\"fillmode\":\"overlay\",\"size\":10,\"solidity\":0.2}},\"type\":\"barpolar\"}],\"bar\":[{\"error_x\":{\"color\":\"rgb(51,51,51)\"},\"error_y\":{\"color\":\"rgb(51,51,51)\"},\"marker\":{\"line\":{\"color\":\"rgb(237,237,237)\",\"width\":0.5},\"pattern\":{\"fillmode\":\"overlay\",\"size\":10,\"solidity\":0.2}},\"type\":\"bar\"}],\"carpet\":[{\"aaxis\":{\"endlinecolor\":\"rgb(51,51,51)\",\"gridcolor\":\"white\",\"linecolor\":\"white\",\"minorgridcolor\":\"white\",\"startlinecolor\":\"rgb(51,51,51)\"},\"baxis\":{\"endlinecolor\":\"rgb(51,51,51)\",\"gridcolor\":\"white\",\"linecolor\":\"white\",\"minorgridcolor\":\"white\",\"startlinecolor\":\"rgb(51,51,51)\"},\"type\":\"carpet\"}],\"choropleth\":[{\"colorbar\":{\"outlinewidth\":0,\"tickcolor\":\"rgb(237,237,237)\",\"ticklen\":6,\"ticks\":\"inside\"},\"type\":\"choropleth\"}],\"contourcarpet\":[{\"colorbar\":{\"outlinewidth\":0,\"tickcolor\":\"rgb(237,237,237)\",\"ticklen\":6,\"ticks\":\"inside\"},\"type\":\"contourcarpet\"}],\"contour\":[{\"colorbar\":{\"outlinewidth\":0,\"tickcolor\":\"rgb(237,237,237)\",\"ticklen\":6,\"ticks\":\"inside\"},\"colorscale\":[[0,\"rgb(20,44,66)\"],[1,\"rgb(90,179,244)\"]],\"type\":\"contour\"}],\"heatmapgl\":[{\"colorbar\":{\"outlinewidth\":0,\"tickcolor\":\"rgb(237,237,237)\",\"ticklen\":6,\"ticks\":\"inside\"},\"colorscale\":[[0,\"rgb(20,44,66)\"],[1,\"rgb(90,179,244)\"]],\"type\":\"heatmapgl\"}],\"heatmap\":[{\"colorbar\":{\"outlinewidth\":0,\"tickcolor\":\"rgb(237,237,237)\",\"ticklen\":6,\"ticks\":\"inside\"},\"colorscale\":[[0,\"rgb(20,44,66)\"],[1,\"rgb(90,179,244)\"]],\"type\":\"heatmap\"}],\"histogram2dcontour\":[{\"colorbar\":{\"outlinewidth\":0,\"tickcolor\":\"rgb(237,237,237)\",\"ticklen\":6,\"ticks\":\"inside\"},\"colorscale\":[[0,\"rgb(20,44,66)\"],[1,\"rgb(90,179,244)\"]],\"type\":\"histogram2dcontour\"}],\"histogram2d\":[{\"colorbar\":{\"outlinewidth\":0,\"tickcolor\":\"rgb(237,237,237)\",\"ticklen\":6,\"ticks\":\"inside\"},\"colorscale\":[[0,\"rgb(20,44,66)\"],[1,\"rgb(90,179,244)\"]],\"type\":\"histogram2d\"}],\"histogram\":[{\"marker\":{\"pattern\":{\"fillmode\":\"overlay\",\"size\":10,\"solidity\":0.2}},\"type\":\"histogram\"}],\"mesh3d\":[{\"colorbar\":{\"outlinewidth\":0,\"tickcolor\":\"rgb(237,237,237)\",\"ticklen\":6,\"ticks\":\"inside\"},\"type\":\"mesh3d\"}],\"parcoords\":[{\"line\":{\"colorbar\":{\"outlinewidth\":0,\"tickcolor\":\"rgb(237,237,237)\",\"ticklen\":6,\"ticks\":\"inside\"}},\"type\":\"parcoords\"}],\"pie\":[{\"automargin\":true,\"type\":\"pie\"}],\"scatter3d\":[{\"line\":{\"colorbar\":{\"outlinewidth\":0,\"tickcolor\":\"rgb(237,237,237)\",\"ticklen\":6,\"ticks\":\"inside\"}},\"marker\":{\"colorbar\":{\"outlinewidth\":0,\"tickcolor\":\"rgb(237,237,237)\",\"ticklen\":6,\"ticks\":\"inside\"}},\"type\":\"scatter3d\"}],\"scattercarpet\":[{\"marker\":{\"colorbar\":{\"outlinewidth\":0,\"tickcolor\":\"rgb(237,237,237)\",\"ticklen\":6,\"ticks\":\"inside\"}},\"type\":\"scattercarpet\"}],\"scattergeo\":[{\"marker\":{\"colorbar\":{\"outlinewidth\":0,\"tickcolor\":\"rgb(237,237,237)\",\"ticklen\":6,\"ticks\":\"inside\"}},\"type\":\"scattergeo\"}],\"scattergl\":[{\"marker\":{\"colorbar\":{\"outlinewidth\":0,\"tickcolor\":\"rgb(237,237,237)\",\"ticklen\":6,\"ticks\":\"inside\"}},\"type\":\"scattergl\"}],\"scattermapbox\":[{\"marker\":{\"colorbar\":{\"outlinewidth\":0,\"tickcolor\":\"rgb(237,237,237)\",\"ticklen\":6,\"ticks\":\"inside\"}},\"type\":\"scattermapbox\"}],\"scatterpolargl\":[{\"marker\":{\"colorbar\":{\"outlinewidth\":0,\"tickcolor\":\"rgb(237,237,237)\",\"ticklen\":6,\"ticks\":\"inside\"}},\"type\":\"scatterpolargl\"}],\"scatterpolar\":[{\"marker\":{\"colorbar\":{\"outlinewidth\":0,\"tickcolor\":\"rgb(237,237,237)\",\"ticklen\":6,\"ticks\":\"inside\"}},\"type\":\"scatterpolar\"}],\"scatter\":[{\"fillpattern\":{\"fillmode\":\"overlay\",\"size\":10,\"solidity\":0.2},\"type\":\"scatter\"}],\"scatterternary\":[{\"marker\":{\"colorbar\":{\"outlinewidth\":0,\"tickcolor\":\"rgb(237,237,237)\",\"ticklen\":6,\"ticks\":\"inside\"}},\"type\":\"scatterternary\"}],\"surface\":[{\"colorbar\":{\"outlinewidth\":0,\"tickcolor\":\"rgb(237,237,237)\",\"ticklen\":6,\"ticks\":\"inside\"},\"colorscale\":[[0,\"rgb(20,44,66)\"],[1,\"rgb(90,179,244)\"]],\"type\":\"surface\"}],\"table\":[{\"cells\":{\"fill\":{\"color\":\"rgb(237,237,237)\"},\"line\":{\"color\":\"white\"}},\"header\":{\"fill\":{\"color\":\"rgb(217,217,217)\"},\"line\":{\"color\":\"white\"}},\"type\":\"table\"}]},\"layout\":{\"annotationdefaults\":{\"arrowhead\":0,\"arrowwidth\":1},\"autotypenumbers\":\"strict\",\"coloraxis\":{\"colorbar\":{\"outlinewidth\":0,\"tickcolor\":\"rgb(237,237,237)\",\"ticklen\":6,\"ticks\":\"inside\"}},\"colorscale\":{\"sequential\":[[0,\"rgb(20,44,66)\"],[1,\"rgb(90,179,244)\"]],\"sequentialminus\":[[0,\"rgb(20,44,66)\"],[1,\"rgb(90,179,244)\"]]},\"colorway\":[\"#F8766D\",\"#A3A500\",\"#00BF7D\",\"#00B0F6\",\"#E76BF3\"],\"font\":{\"color\":\"rgb(51,51,51)\"},\"geo\":{\"bgcolor\":\"white\",\"lakecolor\":\"white\",\"landcolor\":\"rgb(237,237,237)\",\"showlakes\":true,\"showland\":true,\"subunitcolor\":\"white\"},\"hoverlabel\":{\"align\":\"left\"},\"hovermode\":\"closest\",\"paper_bgcolor\":\"white\",\"plot_bgcolor\":\"rgb(237,237,237)\",\"polar\":{\"angularaxis\":{\"gridcolor\":\"white\",\"linecolor\":\"white\",\"showgrid\":true,\"tickcolor\":\"rgb(51,51,51)\",\"ticks\":\"outside\"},\"bgcolor\":\"rgb(237,237,237)\",\"radialaxis\":{\"gridcolor\":\"white\",\"linecolor\":\"white\",\"showgrid\":true,\"tickcolor\":\"rgb(51,51,51)\",\"ticks\":\"outside\"}},\"scene\":{\"xaxis\":{\"backgroundcolor\":\"rgb(237,237,237)\",\"gridcolor\":\"white\",\"gridwidth\":2,\"linecolor\":\"white\",\"showbackground\":true,\"showgrid\":true,\"tickcolor\":\"rgb(51,51,51)\",\"ticks\":\"outside\",\"zerolinecolor\":\"white\"},\"yaxis\":{\"backgroundcolor\":\"rgb(237,237,237)\",\"gridcolor\":\"white\",\"gridwidth\":2,\"linecolor\":\"white\",\"showbackground\":true,\"showgrid\":true,\"tickcolor\":\"rgb(51,51,51)\",\"ticks\":\"outside\",\"zerolinecolor\":\"white\"},\"zaxis\":{\"backgroundcolor\":\"rgb(237,237,237)\",\"gridcolor\":\"white\",\"gridwidth\":2,\"linecolor\":\"white\",\"showbackground\":true,\"showgrid\":true,\"tickcolor\":\"rgb(51,51,51)\",\"ticks\":\"outside\",\"zerolinecolor\":\"white\"}},\"shapedefaults\":{\"fillcolor\":\"black\",\"line\":{\"width\":0},\"opacity\":0.3},\"ternary\":{\"aaxis\":{\"gridcolor\":\"white\",\"linecolor\":\"white\",\"showgrid\":true,\"tickcolor\":\"rgb(51,51,51)\",\"ticks\":\"outside\"},\"baxis\":{\"gridcolor\":\"white\",\"linecolor\":\"white\",\"showgrid\":true,\"tickcolor\":\"rgb(51,51,51)\",\"ticks\":\"outside\"},\"bgcolor\":\"rgb(237,237,237)\",\"caxis\":{\"gridcolor\":\"white\",\"linecolor\":\"white\",\"showgrid\":true,\"tickcolor\":\"rgb(51,51,51)\",\"ticks\":\"outside\"}},\"xaxis\":{\"automargin\":true,\"gridcolor\":\"white\",\"linecolor\":\"white\",\"showgrid\":true,\"tickcolor\":\"rgb(51,51,51)\",\"ticks\":\"outside\",\"title\":{\"standoff\":15},\"zerolinecolor\":\"white\"},\"yaxis\":{\"automargin\":true,\"gridcolor\":\"white\",\"linecolor\":\"white\",\"showgrid\":true,\"tickcolor\":\"rgb(51,51,51)\",\"ticks\":\"outside\",\"title\":{\"standoff\":15},\"zerolinecolor\":\"white\"}}},\"scene\":{\"domain\":{\"x\":[0.0,1.0],\"y\":[0.0,1.0]},\"xaxis\":{\"title\":{\"text\":\"$\\\\beta$\"},\"range\":[-0.01,0.6]},\"yaxis\":{\"title\":{\"text\":\"T\"}},\"zaxis\":{\"title\":{\"text\":\"$\\\\ln|\\\\max \\\\mathcal{U}\\\\'[0]|$\"}}},\"coloraxis\":{\"colorbar\":{\"title\":{\"text\":\"$\\\\ln|\\\\max \\\\mathcal{U}'[0]|$\"}},\"colorscale\":[[0.0,\"#30123b\"],[0.07142857142857142,\"#4145ab\"],[0.14285714285714285,\"#4675ed\"],[0.21428571428571427,\"#39a2fc\"],[0.2857142857142857,\"#1bcfd4\"],[0.35714285714285715,\"#24eca6\"],[0.42857142857142855,\"#61fc6c\"],[0.5,\"#a4fc3b\"],[0.5714285714285714,\"#d1e834\"],[0.6428571428571429,\"#f3c63a\"],[0.7142857142857143,\"#fe9b2d\"],[0.7857142857142857,\"#f36315\"],[0.8571428571428571,\"#d93806\"],[0.9285714285714286,\"#b11901\"],[1.0,\"#7a0402\"]]},\"legend\":{\"tracegroupgap\":0},\"margin\":{\"t\":60}},                        {\"responsive\": true}                    ).then(function(){\n",
       "                            \n",
       "var gd = document.getElementById('fb7a3c13-9a64-462e-90ff-a2363cf5d7b8');\n",
       "var x = new MutationObserver(function (mutations, observer) {{\n",
       "        var display = window.getComputedStyle(gd).display;\n",
       "        if (!display || display === 'none') {{\n",
       "            console.log([gd, 'removed!']);\n",
       "            Plotly.purge(gd);\n",
       "            observer.disconnect();\n",
       "        }}\n",
       "}});\n",
       "\n",
       "// Listen for the removal of the full notebook cells\n",
       "var notebookContainer = gd.closest('#notebook-container');\n",
       "if (notebookContainer) {{\n",
       "    x.observe(notebookContainer, {childList: true});\n",
       "}}\n",
       "\n",
       "// Listen for the clearing of the current output cell\n",
       "var outputEl = gd.closest('.output');\n",
       "if (outputEl) {{\n",
       "    x.observe(outputEl, {childList: true});\n",
       "}}\n",
       "\n",
       "                        })                };                });            </script>        </div>"
      ]
     },
     "metadata": {},
     "output_type": "display_data"
    }
   ],
   "source": [
    "fig = px.scatter_3d(df,\n",
    "                    x='beta',\n",
    "                    y='T',\n",
    "                    z='abs_log_max_chi_1',\n",
    "                    color='abs_log_max_chi_0',\n",
    "                    color_continuous_scale='turbo',\n",
    "                    custom_data=['abs_log_max_chi_0'])\n",
    "fig.update_layout(\n",
    "    scene={\n",
    "        'xaxis': dict(title=r'$\\beta$', range=[-0.01, 0.6]),\n",
    "        'yaxis': dict(title='T'),\n",
    "        'zaxis': dict(title=r'$\\ln|\\max \\mathcal{U}\\'[0]|$'),\n",
    "    },\n",
    "    coloraxis={'colorbar': dict(title='$\\ln|\\max \\mathcal{U}\\'[0]|$')},\n",
    "    template='ggplot2')\n",
    "fig.update_traces(\n",
    "    hovertemplate=\n",
    "    r'$\\beta = $%{x}<br>$T = $%{y}<br>$\\ln|\\max \\mathcal{U}\\'[1]| = $%{z}<br>$\\ln|\\max \\mathcal{U}\\'[0]| = $%{customdata[0]}',\n",
    "    marker=dict(size=5))\n",
    "fig.update\n",
    "fig.show()\n"
   ]
  }
 ],
 "metadata": {
  "kernelspec": {
   "display_name": "venv",
   "language": "python",
   "name": "python3"
  },
  "language_info": {
   "codemirror_mode": {
    "name": "ipython",
    "version": 3
   },
   "file_extension": ".py",
   "mimetype": "text/x-python",
   "name": "python",
   "nbconvert_exporter": "python",
   "pygments_lexer": "ipython3",
   "version": "3.10.13"
  }
 },
 "nbformat": 4,
 "nbformat_minor": 4
}
