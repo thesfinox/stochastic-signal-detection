{
 "cells": [
  {
   "cell_type": "markdown",
   "metadata": {},
   "source": [
    "# Stochastic Signal Detection (SSD)\n",
    "\n",
    "In what follows, we compute the relevant objects to compute the behaviour of the Renormalization Group (RG)."
   ]
  },
  {
   "cell_type": "code",
   "execution_count": 1,
   "metadata": {},
   "outputs": [],
   "source": [
    "%load_ext autoreload\n",
    "%autoreload 2\n",
    "%matplotlib inline"
   ]
  },
  {
   "cell_type": "code",
   "execution_count": 2,
   "metadata": {},
   "outputs": [],
   "source": [
    "from sympy import *\n",
    "\n",
    "init_printing(\n",
    "    use_unicode=True,\n",
    "    use_latex=True,\n",
    "    pretty_print=True,\n",
    "    wrap_line=True,\n",
    ")"
   ]
  },
  {
   "cell_type": "markdown",
   "metadata": {},
   "source": [
    "## Functional Renormalization Group\n",
    "\n",
    "The _Functional Renormalization Group_ (FRG) is a powerful tool to describe the behaviour of the effective degrees of freedom of a quantum field theory.\n",
    "In this case, we focus on the flow of the potential of the stochastic field theory in _Local Potential Approximation_ (LPA).\n",
    "Specifically, we solve:\n",
    "$$\n",
    "\\dot{\\overline{\\mathcal{U_k^\\prime}}}[\\overline{\\chi}]\n",
    "=\n",
    "- \\mathrm{dim}_{\\tau}(\\overline{\\mathcal{U_k^\\prime}})\\, \\overline{\\mathcal{U_k^\\prime}}[\\overline{\\chi}]\n",
    "+ \\mathrm{dim}_{\\tau}(\\chi)\\, \\overline{\\chi}\\, \\overline{\\mathcal{U_k^{\\prime\\prime}}}[\\overline{\\chi}]\n",
    "-2\n",
    "\\frac{\n",
    "    3\\, \\overline{\\mathcal{U_k^{\\prime\\prime}}}[\\overline{\\chi}]\n",
    "    + 2\\, \\overline{\\chi}\\, \\overline{\\mathcal{U_k^{\\prime\\prime\\prime}}}[\\overline{\\chi}]\n",
    "}{\n",
    "    (1 + \\overline{\\mu}^2)^2\n",
    "}\n",
    "$$\n",
    "where $\\overline{\\mu}^2 = \\overline{\\mathcal{U_k^\\prime}}[\\overline{\\chi}] + 2 \\overline{\\chi} \\overline{\\mathcal{U_k^{\\prime\\prime}}}[\\overline{\\chi}]$ and, in general, $\\dot{X} = \\frac{\\mathrm{d}X}{\\mathrm{d}\\tau}$, for the stochastic \"time\" $\\tau$.\n",
    "Specifically, in the equation:\n",
    "$$\n",
    "\\mathrm{dim}_{\\tau}(\\overline{\\mathcal{U_k^\\prime}})\n",
    "=\n",
    "2 \\dot{s}\n",
    "=\n",
    "2 \\frac{\\int\\limits_{0}^{k} p \\rho{\\left(p^{2} \\right)}\\, \\mathrm{d}p}{k^{2} \\rho{\\left(k^{2} \\right)}}\n",
    "=\n",
    "\\frac{2\\, \\mathrm{I}(k)}{k^{2} \\rho{\\left(k^{2} \\right)}},\n",
    "$$\n",
    "where $\\mathrm{I}(k) = \\int\\limits_{0}^{k} p \\rho{\\left(p^{2} \\right)}\\, \\mathrm{d}p$,\n",
    "and\n",
    "$$\n",
    "\\mathrm{dim}_{\\tau}(\\chi)\n",
    "=\n",
    "\\dot{s}\\, \\frac{\\mathrm{d}}{\\mathrm{d}s} \\ln(\\rho(k^2)\\, \\dot{s})\n",
    "=\n",
    "2 - \\frac{2 \\left(\\int\\limits_{0}^{k} p \\rho{\\left(p^{2} \\right)}\\, \\mathrm{d}p\\right) \\left. \\frac{d}{d \\xi_{1}} \\rho{\\left(\\xi_{1} \\right)} \\right|_{\\substack{ \\xi_{1}=k^{2} }}}{\\rho^{2}{\\left(k^{2} \\right)}} - \\frac{4 \\int\\limits_{0}^{k} p \\rho{\\left(p^{2} \\right)}\\, \\mathrm{d}p}{k^{2} \\rho{\\left(k^{2} \\right)}}\n",
    "=\n",
    "2 - \\frac{2\\, \\mathrm{I}(k)\\; \\left. \\frac{d}{d \\xi_{1}} \\rho{\\left(\\xi_{1} \\right)} \\right|_{\\substack{ \\xi_{1}=k^{2} }}}{\\rho^{2}{\\left(k^{2} \\right)}} - \\frac{4\\, \\mathrm{I}(k)}{k^{2} \\rho{\\left(k^{2} \\right)}}\n",
    "$$\n",
    "since $s = \\ln k$ and $\\tau = \\ln{\\left(\\int\\limits_{0}^{k} p \\rho{\\left(p^{2} \\right)}\\, \\mathrm{d}p \\right)}$.\n",
    "After some simplifications, we get to:\n",
    "$$\n",
    "\\mathrm{dim}_{\\tau}(\\chi)\n",
    "=\n",
    "2 -\n",
    "\\mathrm{dim}_{\\tau}(\\overline{\\mathcal{U_k^\\prime}})\\,\n",
    "\\left(\n",
    "\\frac{k^{2} \\left. \\frac{d}{d \\xi_{1}} \\rho{\\left(\\xi_{1} \\right)} \\right|_{\\substack{ \\xi_{1}=k^{2} }}}{\\rho{\\left(k^{2} \\right)}} + 2\n",
    "\\right).\n",
    "$$"
   ]
  },
  {
   "cell_type": "code",
   "execution_count": 3,
   "metadata": {},
   "outputs": [],
   "source": [
    "x = Symbol(r'\\overline{\\chi}', real=True)\n",
    "p = Symbol('p', real=True)\n",
    "k = Symbol('k', real=True)\n",
    "f = Function(r'\\overline{\\mathcal{U_k^\\prime}}', real=True)\n",
    "r = Function(r'\\rho', real=True)"
   ]
  },
  {
   "cell_type": "code",
   "execution_count": 4,
   "metadata": {},
   "outputs": [
    {
     "data": {
      "image/png": "[encoded data removed]",
      "text/latex": [
       "$\\displaystyle \\int\\limits_{0}^{k} p \\rho{\\left(p^{2} \\right)}\\, dp$"
      ],
      "text/plain": [
       "k              \n",
       "⌠              \n",
       "⎮       ⎛ 2⎞   \n",
       "⎮ p⋅\\rho⎝p ⎠ dp\n",
       "⌡              \n",
       "0              "
      ]
     },
     "metadata": {},
     "output_type": "display_data"
    },
    {
     "data": {
      "image/png": "[encoded data removed]",
      "text/latex": [
       "$\\displaystyle \\int\\limits_{0}^{k^{2}} \\frac{\\rho{\\left(p \\right)}}{2}\\, dp$"
      ],
      "text/plain": [
       " 2           \n",
       "k            \n",
       "⌠            \n",
       "⎮  \\rho(p)   \n",
       "⎮  ─────── dp\n",
       "⎮     2      \n",
       "⌡            \n",
       "0            "
      ]
     },
     "metadata": {},
     "output_type": "display_data"
    }
   ],
   "source": [
    "# Define the main objects of the simulation\n",
    "I = Integral(p * r(p**2), (p, 0, k))\n",
    "I_sub = I.transform(p**2, p)\n",
    "t = log(I)\n",
    "s = log(k)\n",
    "\n",
    "display(I)\n",
    "display(I_sub)"
   ]
  },
  {
   "cell_type": "code",
   "execution_count": 13,
   "metadata": {},
   "outputs": [
    {
     "data": {
      "image/png": "[encoded data removed]",
      "text/latex": [
       "$\\displaystyle \\frac{k \\rho{\\left(k^{2} \\right)}}{\\int\\limits_{0}^{k} p \\rho{\\left(p^{2} \\right)}\\, dp}$"
      ],
      "text/plain": [
       "         ⎛ 2⎞  \n",
       "   k⋅\\rho⎝k ⎠  \n",
       "───────────────\n",
       "k              \n",
       "⌠              \n",
       "⎮       ⎛ 2⎞   \n",
       "⎮ p⋅\\rho⎝p ⎠ dp\n",
       "⌡              \n",
       "0              "
      ]
     },
     "execution_count": 13,
     "metadata": {},
     "output_type": "execute_result"
    }
   ],
   "source": [
    "# Use the chain rule to translate the derivative over tau in derivative over k\n",
    "# diff(f, t) = diff(f, k) * diff(k, t) = diff(f, k) * (1 / diff(t, k))\n",
    "diff(t, k)"
   ]
  },
  {
   "cell_type": "code",
   "execution_count": 5,
   "metadata": {},
   "outputs": [
    {
     "data": {
      "image/png": "[encoded data removed]",
      "text/latex": [
       "$\\displaystyle \\frac{\\int\\limits_{0}^{k} p \\rho{\\left(p^{2} \\right)}\\, dp}{k^{2} \\rho{\\left(k^{2} \\right)}}$"
      ],
      "text/plain": [
       "k              \n",
       "⌠              \n",
       "⎮       ⎛ 2⎞   \n",
       "⎮ p⋅\\rho⎝p ⎠ dp\n",
       "⌡              \n",
       "0              \n",
       "───────────────\n",
       "   2     ⎛ 2⎞  \n",
       "  k ⋅\\rho⎝k ⎠  "
      ]
     },
     "metadata": {},
     "output_type": "display_data"
    },
    {
     "data": {
      "image/png": "[encoded data removed]",
      "text/latex": [
       "$\\displaystyle \\frac{\\int\\limits_{0}^{k^{2}} \\rho{\\left(p \\right)}\\, dp}{2 k^{2} \\rho{\\left(k^{2} \\right)}}$"
      ],
      "text/plain": [
       " 2           \n",
       "k            \n",
       "⌠            \n",
       "⎮  \\rho(p) dp\n",
       "⌡            \n",
       "0            \n",
       "─────────────\n",
       "   2     ⎛ 2⎞\n",
       "2⋅k ⋅\\rho⎝k ⎠"
      ]
     },
     "metadata": {},
     "output_type": "display_data"
    }
   ],
   "source": [
    "# Compute the derivative of s with respect to tau\n",
    "dsdt = diff(s, k) / diff(t, k)\n",
    "display(dsdt)\n",
    "display(dsdt.subs(I, I_sub).simplify())"
   ]
  },
  {
   "cell_type": "code",
   "execution_count": 6,
   "metadata": {},
   "outputs": [
    {
     "data": {
      "image/png": "[encoded data removed]",
      "text/latex": [
       "$\\displaystyle \\frac{2 \\int\\limits_{0}^{k} p \\rho{\\left(p^{2} \\right)}\\, dp}{k^{2} \\rho{\\left(k^{2} \\right)}}$"
      ],
      "text/plain": [
       "  k              \n",
       "  ⌠              \n",
       "  ⎮       ⎛ 2⎞   \n",
       "2⋅⎮ p⋅\\rho⎝p ⎠ dp\n",
       "  ⌡              \n",
       "  0              \n",
       "─────────────────\n",
       "    2     ⎛ 2⎞   \n",
       "   k ⋅\\rho⎝k ⎠   "
      ]
     },
     "metadata": {},
     "output_type": "display_data"
    },
    {
     "data": {
      "image/png": "[encoded data removed]",
      "text/latex": [
       "$\\displaystyle \\frac{\\int\\limits_{0}^{k^{2}} \\rho{\\left(p \\right)}\\, dp}{k^{2} \\rho{\\left(k^{2} \\right)}}$"
      ],
      "text/plain": [
       " 2           \n",
       "k            \n",
       "⌠            \n",
       "⎮  \\rho(p) dp\n",
       "⌡            \n",
       "0            \n",
       "─────────────\n",
       "  2     ⎛ 2⎞ \n",
       " k ⋅\\rho⎝k ⎠ "
      ]
     },
     "metadata": {},
     "output_type": "display_data"
    }
   ],
   "source": [
    "# Compute the anomalous dimension of the potential\n",
    "dimU = 2 * dsdt\n",
    "dimU_sub = dimU.subs(I, I_sub)\n",
    "\n",
    "display(dimU.simplify())\n",
    "display(dimU_sub.simplify())\n",
    "\n",
    "dimU_latex = latex(dimU.simplify())\n",
    "dimU_sub_latex = latex(dimU_sub.simplify())"
   ]
  },
  {
   "cell_type": "code",
   "execution_count": 7,
   "metadata": {},
   "outputs": [
    {
     "data": {
      "image/png": "[encoded data removed]",
      "text/latex": [
       "$\\displaystyle 2 - \\frac{2 \\left(\\int\\limits_{0}^{k} p \\rho{\\left(p^{2} \\right)}\\, dp\\right) \\left. \\frac{d}{d \\xi_{1}} \\rho{\\left(\\xi_{1} \\right)} \\right|_{\\substack{ \\xi_{1}=k^{2} }}}{\\rho^{2}{\\left(k^{2} \\right)}} - \\frac{4 \\int\\limits_{0}^{k} p \\rho{\\left(p^{2} \\right)}\\, dp}{k^{2} \\rho{\\left(k^{2} \\right)}}$"
      ],
      "text/plain": [
       "      k                                         k              \n",
       "      ⌠                                         ⌠              \n",
       "      ⎮       ⎛ 2⎞    ⎛ d           ⎞│          ⎮       ⎛ 2⎞   \n",
       "    2⋅⎮ p⋅\\rho⎝p ⎠ dp⋅⎜───(\\rho(ξ₁))⎟│    2   4⋅⎮ p⋅\\rho⎝p ⎠ dp\n",
       "      ⌡               ⎝dξ₁          ⎠│ξ₁=k      ⌡              \n",
       "      0                                         0              \n",
       "2 - ─────────────────────────────────────── - ─────────────────\n",
       "                       2⎛ 2⎞                      2     ⎛ 2⎞   \n",
       "                   \\rho ⎝k ⎠                     k ⋅\\rho⎝k ⎠   "
      ]
     },
     "metadata": {},
     "output_type": "display_data"
    },
    {
     "data": {
      "image/png": "[encoded data removed]",
      "text/latex": [
       "$\\displaystyle 2 - \\frac{\\left(\\int\\limits_{0}^{k^{2}} \\rho{\\left(p \\right)}\\, dp\\right) \\left. \\frac{d}{d \\xi_{1}} \\rho{\\left(\\xi_{1} \\right)} \\right|_{\\substack{ \\xi_{1}=k^{2} }}}{\\rho^{2}{\\left(k^{2} \\right)}} - \\frac{2 \\int\\limits_{0}^{k^{2}} \\rho{\\left(p \\right)}\\, dp}{k^{2} \\rho{\\left(k^{2} \\right)}}$"
      ],
      "text/plain": [
       "     2                                       2           \n",
       "    k                                       k            \n",
       "    ⌠             ⎛ d           ⎞│          ⌠            \n",
       "    ⎮  \\rho(p) dp⋅⎜───(\\rho(ξ₁))⎟│    2   2⋅⎮  \\rho(p) dp\n",
       "    ⌡             ⎝dξ₁          ⎠│ξ₁=k      ⌡            \n",
       "    0                                       0            \n",
       "2 - ─────────────────────────────────── - ───────────────\n",
       "                     2⎛ 2⎞                   2     ⎛ 2⎞  \n",
       "                 \\rho ⎝k ⎠                  k ⋅\\rho⎝k ⎠  "
      ]
     },
     "metadata": {},
     "output_type": "display_data"
    }
   ],
   "source": [
    "# Compute the anomalous dimension of the field\n",
    "der = log(r(k**2) * dsdt**2)\n",
    "dimChi = dsdt * diff(der, k) / diff(s, k)\n",
    "dimChi_sub = dimChi.subs(I, I_sub)\n",
    "\n",
    "display(dimChi.simplify())\n",
    "display(dimChi_sub.simplify())\n",
    "\n",
    "dimChi_latex = latex(dimChi.simplify())\n",
    "dimChi_sub_latex = latex(dimChi_sub.simplify())"
   ]
  },
  {
   "cell_type": "code",
   "execution_count": 8,
   "metadata": {},
   "outputs": [
    {
     "data": {
      "image/png": "[encoded data removed]",
      "text/latex": [
       "$\\displaystyle \\frac{k^{2} \\rho{\\left(k^{2} \\right)}}{\\int\\limits_{0}^{k} p \\rho{\\left(p^{2} \\right)}\\, dp} - \\frac{k^{2} \\left. \\frac{d}{d \\xi_{1}} \\rho{\\left(\\xi_{1} \\right)} \\right|_{\\substack{ \\xi_{1}=k^{2} }}}{\\rho{\\left(k^{2} \\right)}} - 2$"
      ],
      "text/plain": [
       "                   2 ⎛ d           ⎞│         \n",
       "   2     ⎛ 2⎞     k ⋅⎜───(\\rho(ξ₁))⎟│    2    \n",
       "  k ⋅\\rho⎝k ⎠        ⎝dξ₁          ⎠│ξ₁=k     \n",
       "─────────────── - ──────────────────────── - 2\n",
       "k                             ⎛ 2⎞            \n",
       "⌠                         \\rho⎝k ⎠            \n",
       "⎮       ⎛ 2⎞                                  \n",
       "⎮ p⋅\\rho⎝p ⎠ dp                               \n",
       "⌡                                             \n",
       "0                                             "
      ]
     },
     "metadata": {},
     "output_type": "display_data"
    },
    {
     "data": {
      "image/png": "[encoded data removed]",
      "text/latex": [
       "$\\displaystyle \\frac{2 k^{2} \\rho{\\left(k^{2} \\right)}}{\\int\\limits_{0}^{k^{2}} \\rho{\\left(p \\right)}\\, dp} - \\frac{k^{2} \\left. \\frac{d}{d \\xi_{1}} \\rho{\\left(\\xi_{1} \\right)} \\right|_{\\substack{ \\xi_{1}=k^{2} }}}{\\rho{\\left(k^{2} \\right)}} - 2$"
      ],
      "text/plain": [
       "                 2 ⎛ d           ⎞│         \n",
       "   2     ⎛ 2⎞   k ⋅⎜───(\\rho(ξ₁))⎟│    2    \n",
       "2⋅k ⋅\\rho⎝k ⎠      ⎝dξ₁          ⎠│ξ₁=k     \n",
       "───────────── - ──────────────────────── - 2\n",
       " 2                          ⎛ 2⎞            \n",
       "k                       \\rho⎝k ⎠            \n",
       "⌠                                           \n",
       "⎮  \\rho(p) dp                               \n",
       "⌡                                           \n",
       "0                                           "
      ]
     },
     "metadata": {},
     "output_type": "display_data"
    }
   ],
   "source": [
    "# Possible simplifications\n",
    "ratio = (dimChi / dimU).expand()\n",
    "display(ratio)\n",
    "display(ratio.subs(I, I_sub).simplify())"
   ]
  }
 ],
 "metadata": {
  "kernelspec": {
   "display_name": "Python 3 (ipykernel)",
   "language": "python",
   "name": "python3"
  },
  "language_info": {
   "codemirror_mode": {
    "name": "ipython",
    "version": 3
   },
   "file_extension": ".py",
   "mimetype": "text/x-python",
   "name": "python",
   "nbconvert_exporter": "python",
   "pygments_lexer": "ipython3",
   "version": "3.10.13"
  }
 },
 "nbformat": 4,
 "nbformat_minor": 2
}
